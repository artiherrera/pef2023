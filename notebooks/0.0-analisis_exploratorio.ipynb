{
 "cells": [
  {
   "cell_type": "code",
   "execution_count": 35,
   "metadata": {},
   "outputs": [],
   "source": [
    "import os\n",
    "import pandas as pd\n",
    "\n",
    "pef = os.path.join('..', 'data', '1q2023.xlsx')\n",
    "\n",
    "pef_df=pd.read_excel(pef)\n",
    "pef_df= pef_df.clean_names()\n"
   ]
  },
  {
   "cell_type": "code",
   "execution_count": 36,
   "metadata": {},
   "outputs": [
    {
     "name": "stdout",
     "output_type": "stream",
     "text": [
      "El tamaño del dataframe es de (171662, 38)\n"
     ]
    }
   ],
   "source": [
    "print(\n",
    "    'El tamaño del dataframe es de',\n",
    "    pef_df.shape\n",
    ")"
   ]
  },
  {
   "cell_type": "code",
   "execution_count": 37,
   "metadata": {},
   "outputs": [
    {
     "data": {
      "text/html": [
       "<div>\n",
       "<style scoped>\n",
       "    .dataframe tbody tr th:only-of-type {\n",
       "        vertical-align: middle;\n",
       "    }\n",
       "\n",
       "    .dataframe tbody tr th {\n",
       "        vertical-align: top;\n",
       "    }\n",
       "\n",
       "    .dataframe thead th {\n",
       "        text-align: right;\n",
       "    }\n",
       "</style>\n",
       "<table border=\"1\" class=\"dataframe\">\n",
       "  <thead>\n",
       "    <tr style=\"text-align: right;\">\n",
       "      <th></th>\n",
       "      <th>0</th>\n",
       "    </tr>\n",
       "  </thead>\n",
       "  <tbody>\n",
       "    <tr>\n",
       "      <th>ciclo</th>\n",
       "      <td>int64</td>\n",
       "    </tr>\n",
       "    <tr>\n",
       "      <th>id_ramo</th>\n",
       "      <td>int64</td>\n",
       "    </tr>\n",
       "    <tr>\n",
       "      <th>desc_ramo</th>\n",
       "      <td>object</td>\n",
       "    </tr>\n",
       "    <tr>\n",
       "      <th>id_ur</th>\n",
       "      <td>object</td>\n",
       "    </tr>\n",
       "    <tr>\n",
       "      <th>desc_ur</th>\n",
       "      <td>object</td>\n",
       "    </tr>\n",
       "    <tr>\n",
       "      <th>gpo_funcional</th>\n",
       "      <td>int64</td>\n",
       "    </tr>\n",
       "    <tr>\n",
       "      <th>desc_gpo_funcional</th>\n",
       "      <td>object</td>\n",
       "    </tr>\n",
       "    <tr>\n",
       "      <th>id_funcion</th>\n",
       "      <td>int64</td>\n",
       "    </tr>\n",
       "    <tr>\n",
       "      <th>desc_funcion</th>\n",
       "      <td>object</td>\n",
       "    </tr>\n",
       "    <tr>\n",
       "      <th>id_subfuncion</th>\n",
       "      <td>int64</td>\n",
       "    </tr>\n",
       "    <tr>\n",
       "      <th>desc_subfuncion</th>\n",
       "      <td>object</td>\n",
       "    </tr>\n",
       "    <tr>\n",
       "      <th>id_ai</th>\n",
       "      <td>int64</td>\n",
       "    </tr>\n",
       "    <tr>\n",
       "      <th>desc_ai</th>\n",
       "      <td>object</td>\n",
       "    </tr>\n",
       "    <tr>\n",
       "      <th>id_modalidad</th>\n",
       "      <td>object</td>\n",
       "    </tr>\n",
       "    <tr>\n",
       "      <th>desc_modalidad</th>\n",
       "      <td>object</td>\n",
       "    </tr>\n",
       "    <tr>\n",
       "      <th>id_pp</th>\n",
       "      <td>int64</td>\n",
       "    </tr>\n",
       "    <tr>\n",
       "      <th>desc_pp</th>\n",
       "      <td>object</td>\n",
       "    </tr>\n",
       "    <tr>\n",
       "      <th>id_capitulo</th>\n",
       "      <td>int64</td>\n",
       "    </tr>\n",
       "    <tr>\n",
       "      <th>desc_capitulo</th>\n",
       "      <td>object</td>\n",
       "    </tr>\n",
       "    <tr>\n",
       "      <th>id_concepto</th>\n",
       "      <td>int64</td>\n",
       "    </tr>\n",
       "    <tr>\n",
       "      <th>desc_concepto</th>\n",
       "      <td>object</td>\n",
       "    </tr>\n",
       "    <tr>\n",
       "      <th>id_partida_generica</th>\n",
       "      <td>int64</td>\n",
       "    </tr>\n",
       "    <tr>\n",
       "      <th>desc_partida_generica</th>\n",
       "      <td>object</td>\n",
       "    </tr>\n",
       "    <tr>\n",
       "      <th>id_partida_especifica</th>\n",
       "      <td>int64</td>\n",
       "    </tr>\n",
       "    <tr>\n",
       "      <th>desc_partida_especifica</th>\n",
       "      <td>object</td>\n",
       "    </tr>\n",
       "    <tr>\n",
       "      <th>id_tipogasto</th>\n",
       "      <td>int64</td>\n",
       "    </tr>\n",
       "    <tr>\n",
       "      <th>desc_tipogasto</th>\n",
       "      <td>object</td>\n",
       "    </tr>\n",
       "    <tr>\n",
       "      <th>id_ff</th>\n",
       "      <td>int64</td>\n",
       "    </tr>\n",
       "    <tr>\n",
       "      <th>desc_ff</th>\n",
       "      <td>object</td>\n",
       "    </tr>\n",
       "    <tr>\n",
       "      <th>id_entidad_federativa</th>\n",
       "      <td>int64</td>\n",
       "    </tr>\n",
       "    <tr>\n",
       "      <th>entidad_federativa</th>\n",
       "      <td>object</td>\n",
       "    </tr>\n",
       "    <tr>\n",
       "      <th>id_clave_cartera</th>\n",
       "      <td>object</td>\n",
       "    </tr>\n",
       "    <tr>\n",
       "      <th>_monto_aprobado</th>\n",
       "      <td>int64</td>\n",
       "    </tr>\n",
       "    <tr>\n",
       "      <th>_monto_modificado</th>\n",
       "      <td>float64</td>\n",
       "    </tr>\n",
       "    <tr>\n",
       "      <th>_monto_aprobado_mensual</th>\n",
       "      <td>int64</td>\n",
       "    </tr>\n",
       "    <tr>\n",
       "      <th>_monto_modificado_mensual</th>\n",
       "      <td>float64</td>\n",
       "    </tr>\n",
       "    <tr>\n",
       "      <th>_monto_pagado</th>\n",
       "      <td>float64</td>\n",
       "    </tr>\n",
       "    <tr>\n",
       "      <th>tipo_de_gasto</th>\n",
       "      <td>object</td>\n",
       "    </tr>\n",
       "  </tbody>\n",
       "</table>\n",
       "</div>"
      ],
      "text/plain": [
       "                                 0\n",
       "ciclo                        int64\n",
       "id_ramo                      int64\n",
       "desc_ramo                   object\n",
       "id_ur                       object\n",
       "desc_ur                     object\n",
       "gpo_funcional                int64\n",
       "desc_gpo_funcional          object\n",
       "id_funcion                   int64\n",
       "desc_funcion                object\n",
       "id_subfuncion                int64\n",
       "desc_subfuncion             object\n",
       "id_ai                        int64\n",
       "desc_ai                     object\n",
       "id_modalidad                object\n",
       "desc_modalidad              object\n",
       "id_pp                        int64\n",
       "desc_pp                     object\n",
       "id_capitulo                  int64\n",
       "desc_capitulo               object\n",
       "id_concepto                  int64\n",
       "desc_concepto               object\n",
       "id_partida_generica          int64\n",
       "desc_partida_generica       object\n",
       "id_partida_especifica        int64\n",
       "desc_partida_especifica     object\n",
       "id_tipogasto                 int64\n",
       "desc_tipogasto              object\n",
       "id_ff                        int64\n",
       "desc_ff                     object\n",
       "id_entidad_federativa        int64\n",
       "entidad_federativa          object\n",
       "id_clave_cartera            object\n",
       "_monto_aprobado              int64\n",
       "_monto_modificado          float64\n",
       "_monto_aprobado_mensual      int64\n",
       "_monto_modificado_mensual  float64\n",
       "_monto_pagado              float64\n",
       "tipo_de_gasto               object"
      ]
     },
     "execution_count": 37,
     "metadata": {},
     "output_type": "execute_result"
    }
   ],
   "source": [
    "pd.DataFrame(pef_df.dtypes)"
   ]
  },
  {
   "cell_type": "markdown",
   "metadata": {},
   "source": [
    "### Revisando valores faltantes"
   ]
  },
  {
   "cell_type": "code",
   "execution_count": 15,
   "metadata": {},
   "outputs": [
    {
     "data": {
      "text/plain": [
       "<AxesSubplot:>"
      ]
     },
     "execution_count": 15,
     "metadata": {},
     "output_type": "execute_result"
    },
    {
     "data": {
      "image/png": "[encoded data removed]",
      "text/plain": [
       "<Figure size 1800x720 with 3 Axes>"
      ]
     },
     "metadata": {
      "needs_background": "light"
     },
     "output_type": "display_data"
    }
   ],
   "source": [
    "import missingno as msno\n",
    "msno.bar(pef_df)\n"
   ]
  },
  {
   "cell_type": "code",
   "execution_count": 24,
   "metadata": {},
   "outputs": [
    {
     "name": "stdout",
     "output_type": "stream",
     "text": [
      "[2023]\n",
      "[53 51 50 52  1  2  3  4  5  6  7  8  9 10 11 12 13 14 15 16 18 19 20 21\n",
      " 22 23 24 25 27 28 30 31 32 33 34 35 36 37 38 40 41 43 44 45 46 47 48 49]\n",
      "['Comisión Federal de Electricidad'\n",
      " 'Instituto de Seguridad y Servicios Sociales de los Trabajadores del Estado'\n",
      " 'Instituto Mexicano del Seguro Social' 'Petróleos Mexicanos'\n",
      " 'Poder Legislativo' 'Oficina de la Presidencia de la República'\n",
      " 'Poder Judicial' 'Gobernación' 'Relaciones Exteriores'\n",
      " 'Hacienda y Crédito Público' 'Defensa Nacional'\n",
      " 'Agricultura y\\xa0Desarrollo Rural'\n",
      " 'Infraestructura, Comunicaciones y Transportes' 'Economía'\n",
      " 'Educación Pública' 'Salud' 'Marina' 'Trabajo y Previsión Social'\n",
      " 'Desarrollo Agrario, Territorial y Urbano'\n",
      " 'Medio Ambiente y Recursos Naturales' 'Energía'\n",
      " 'Aportaciones a Seguridad Social' 'Bienestar' 'Turismo'\n",
      " 'Instituto Nacional Electoral' 'Provisiones Salariales y Económicas'\n",
      " 'Deuda Pública'\n",
      " 'Previsiones y Aportaciones para los Sistemas de Educación Básica, Normal, Tecnológica y de Adultos'\n",
      " 'Función Pública' 'Participaciones a Entidades Federativas y Municipios'\n",
      " 'Adeudos de Ejercicios Fiscales Anteriores' 'Tribunales Agrarios'\n",
      " 'Tribunal Federal de Justicia\\xa0Administrativa'\n",
      " 'Aportaciones Federales para Entidades Federativas y Municipios'\n",
      " 'Erogaciones para los Programas de Apoyo a Ahorradores y Deudores de la Banca'\n",
      " 'Comisión Nacional de los Derechos Humanos'\n",
      " 'Seguridad y Protección Ciudadana'\n",
      " 'Consejería Jurídica del Ejecutivo Federal'\n",
      " 'Consejo Nacional de Ciencia y Tecnología'\n",
      " 'Información Nacional Estadística y Geográfica'\n",
      " 'Comisión Federal de Competencia Económica'\n",
      " 'Instituto Federal de Telecomunicaciones'\n",
      " 'Instituto Nacional de Transparencia, Acceso a la Información y Protección de Datos Personales'\n",
      " 'Comisión Reguladora de Energía' 'Comisión Nacional de Hidrocarburos'\n",
      " 'Entidades no Sectorizadas' 'Cultura' 'Fiscalía General de la República']\n",
      "['TVV' 'GYN' 'GYR' 'TYY' 100 101 200 112 113 114 115 127 128 129 133 135\n",
      " 138 139 140 142 143 110 210 211 130 131 132 212 215 216 217 219 220 221\n",
      " 222 223 230 231 232 270 271 272 273 500 510 515 516 520 521 522 540 541\n",
      " 542 800 810 811 812 813 900 901 911 913 914 915 920 921 922 940 941 'A00'\n",
      " 'E2D' 'EZQ' 'F00' 'G00' 'K00' 'N00' 'P00' 'Q00' 'T00' 'V00' 'X00' 103 111\n",
      " 121 123 124 141 150 151 152 153 154 300 310 311 313 314 400 411 412 413\n",
      " 600 610 611 612 613 614 617 814 'I00' 'J00' 213 214 312 410 415 416 418\n",
      " 419 511 512 513 700 710 711 712 713 714 715 716 'B00' 'C00' 'D00' 'E00'\n",
      " 'G3A' 'H00' 'HJO' 'HKA' 116 117 120 122 125 126 136 144 145 146 'HZI' 108\n",
      " 109 134 137 147 148 149 315 'A1I' 'AFU' 'I6L' 'I9H' 'IZC' 'IZI' 'JAG'\n",
      " 'JBP' 'RJL' 'VSS' 'VST' 102 414 621 622 623 624 625 626 627 628 630 631\n",
      " 632 633 634 635 636 637 638 639 640 641 642 643 644 645 646 647 648 649\n",
      " 650 651 652 'J4Q' 'J9E' 'JZN' 'KCZ' 'KDH' 'KDN' 190 191 192 193 432 450\n",
      " 514 530 531 'K2H' 'LAT' 'LAU' 170 171 172 173 174 180 417 616 'MAR' 'A2M'\n",
      " 'A3Q' 'B01' 'L00' 'L3P' 'L4J' 'L5N' 'L5X' 'L6H' 'L6I' 'L6J' 'L6W' 'L8K'\n",
      " 'L9T' 'M00' 'MDA' 'MDE' 'MEY' 'MGC' 'MGH' 'O00' 160 316 'M7A' 'M7B' 'M7F'\n",
      " 'M7K' 'NAW' 'NBB' 'NBD' 'NBG' 'NBQ' 'NBR' 'NBS' 'NBT' 'NBU' 'NBV' 'NCA'\n",
      " 'NCD' 'NCE' 'NCG' 'NCH' 'NCK' 'NCZ' 'NDE' 'NDF' 'NDY' 'NHK' 'R00' 'S00'\n",
      " 118 119 'J3C' 'J3F' 'J3G' 'J3L' 'J4V' 161 162 233 234 235 236 237 238 239\n",
      " 240 241 242 243 244 245 246 247 248 249 250 251 252 253 254 255 256 257\n",
      " 258 259 260 261 320 'PBE' 'PBJ' 'QCW' 'QDV' 'QEZ' 615 618 'RHQ' 'RJE'\n",
      " 'RJJ' 317 318 532 'T0K' 'T0O' 'T0Q' 'HXA' 'V3A' 'VQZ' 'VRW' 'VUY' 'W3N'\n",
      " 'W3S' 'W3X' 104 105 106 107 208 209 321 322 323 201 202 203 204 205 206\n",
      " 207 218 225 301 302 303 304 306 307 308 330 331 332 340 341 342 '90A'\n",
      " '90C' '90E' '90G' '90I' '90K' '90M' '90O' '90Q' '90S' '90U' '90W' '90X'\n",
      " '90Y' '91C' '91E' '91I' '91K' '91O' '91Q' '91S' '91U' '91W' '9ZU' '9ZW'\n",
      " '9ZY' 224 226 227 228 229 280 'AYB' 'AYG' 'AYH' 'AYI' 'AYJ' 'AYL' 'AYM'\n",
      " 'AYN' 'EZN' 'HHG' 'MDL' 350 420 'L3N' 'L6U' 'L8G' 'L8P' 'L9Y' 'MDB' 'MDC'\n",
      " 'MHL' 'VZG' 324 325 326 327 328 329 333 334 335 336 337 338 339 343 344\n",
      " 345 346 347 348 349 351 352 601 602 603 620 815 816 910 'SKC']\n",
      "['Comisión Federal de Electricidad Consolidado'\n",
      " 'Instituto de Seguridad y Servicios Sociales de los Trabajadores del Estado'\n",
      " 'Instituto Mexicano del Seguro Social' ...\n",
      " 'Agencia de Investigación Criminal'\n",
      " 'Órgano Especializado de Mecanismos Alternativos de Solución de Controversias'\n",
      " 'Instituto Nacional de Ciencias Penales']\n",
      "[1 2 3 4]\n",
      "['Gobierno' 'Desarrollo Social' 'Desarrollo Económico'\n",
      " 'Otras no Clasificadas en Funciones Anteriores']\n",
      "[3 6 8 9 1 2 7 4 5]\n",
      "['Coordinación de la Política de Gobierno' 'Protección Social'\n",
      " 'Combustibles y Energía' 'Salud' 'Ciencia, Tecnología e Innovación'\n",
      " 'Otras Industrias y Otros Asuntos Económicos' 'Legislación'\n",
      " 'Seguridad Nacional' 'Justicia' 'Otros Servicios Generales'\n",
      " 'Asuntos de Orden Público y de Seguridad Interior'\n",
      " 'Relaciones Exteriores' 'Asuntos Financieros y Hacendarios'\n",
      " 'Otros Asuntos Sociales' 'Educación' 'Transporte'\n",
      " 'Agropecuaria, Silvicultura, Pesca y Caza' 'Comunicaciones'\n",
      " 'Asuntos Económicos, Comerciales y Laborales en General'\n",
      " 'Minería, Manufacturas y Construcción'\n",
      " 'Recreación, Cultura y Otras Manifestaciones Sociales'\n",
      " 'Vivienda y Servicios a la Comunidad' 'Protección Ambiental' 'Turismo'\n",
      " 'Transacciones de la Deuda Pública / Costo Financiero de la Deuda'\n",
      " 'Transferencias, Participaciones y Aportaciones entre diferentes Niveles y Ordenes de Gobierno'\n",
      " 'Adeudos de Ejercicios Fiscales Anteriores'\n",
      " 'Saneamiento del Sistema Financiero']\n",
      "[4 2 5 1 3 6 9 7 8]\n",
      "['Función Pública' 'Edad Avanzada' 'Electricidad'\n",
      " 'Prestación de Servicios de Salud a la Persona'\n",
      " 'Enfermedad e incapacidad' 'Familia e Hijos'\n",
      " 'Apoyo Social para la Vivienda'\n",
      " 'Otros de Seguridad Social y Asistencia Social'\n",
      " 'Investigación Científica' 'Generación de Recursos para la Salud'\n",
      " 'Petróleo y Gas Natural (Hidrocarburos)' 'Otras Industrias' 'Legislación'\n",
      " 'Fiscalización' 'Presidencia / Gubernatura'\n",
      " 'Inteligencia para la Preservación de la Seguridad Nacional'\n",
      " 'Impartición de Justicia' 'Política Interior'\n",
      " 'Servicios de Comunicación y Medios'\n",
      " 'Otros Asuntos de Orden Público y Seguridad' 'Otros' 'Derechos Humanos'\n",
      " 'Procuración de Justicia' 'Población' 'Relaciones Exteriores'\n",
      " 'Asuntos Hacendarios' 'Asuntos Financieros'\n",
      " 'Preservación y Cuidado del Patrimonio Público' 'Otros Asuntos Sociales'\n",
      " 'Defensa' 'Educación Básica' 'Educación Media Superior'\n",
      " 'Educación Superior' 'Transporte Aéreo' 'Agropecuaria' 'Posgrado'\n",
      " 'Acuacultura, Pesca y Caza' 'Servicios Científicos y Tecnológicos'\n",
      " 'Comercio, Distribución, Almacenamiento y Depósito'\n",
      " 'Otros Relacionados con Transporte' 'Transporte por Carretera'\n",
      " 'Transporte por Ferrocarril' 'Comunicaciones'\n",
      " 'Transporte por Agua y Puertos' 'Desarrollo Tecnológico'\n",
      " 'Asuntos Económicos y Comerciales en General'\n",
      " 'Extracción de Recursos Minerales excepto los Combustibles Minerales'\n",
      " 'Otros Servicios Educativos y Actividades Inherentes' 'Cultura'\n",
      " 'Deporte y Recreación' 'Educación para Adultos'\n",
      " 'Rectoría del Sistema de Salud' 'Protección Social en Salud'\n",
      " 'Prestación de Servicios de Salud a la Comunidad'\n",
      " 'Otros Grupos Vulnerables' 'Marina' 'Asuntos Laborales Generales'\n",
      " 'Urbanización' 'Vivienda' 'Otros de Protección Ambiental'\n",
      " 'Administración del Agua'\n",
      " 'Ordenación de Aguas Residuales, Drenaje y Alcantarillado'\n",
      " 'Abastecimiento de Agua' 'Hidroagrícola'\n",
      " 'Protección de la Diversidad Biológica y del Paisaje' 'Silvicultura'\n",
      " 'Otros Combustibles' 'Combustibles Nucleares' 'Desarrollo Regional'\n",
      " 'Turismo' 'Organización de Procesos Electorales' 'Innovación'\n",
      " 'Otros Asuntos Económicos' 'Deuda Pública Interna'\n",
      " 'Deuda Pública Externa'\n",
      " 'Participaciones entre Diferentes Niveles y Ordenes de Gobierno'\n",
      " 'Adeudos de Ejercicios Fiscales Anteriores'\n",
      " 'Sistema Nacional de Seguridad Pública' 'Apoyos IPAB'\n",
      " 'Banca de Desarrollo'\n",
      " 'Apoyo a los programas de reestructura en unidades de inversión (UDIS)'\n",
      " 'Policía' 'Protección Civil' 'Reclusión y Readaptación Social'\n",
      " 'Asuntos Jurídicos' 'Servicios Estadísticos'\n",
      " 'Acceso a la Información Pública Gubernamental' 'Indígenas']\n",
      "[  1  12  13  14  16  17  18   3   4   5   6   7   8   9  10  11   2  24\n",
      " 226 227 228 229 230 231 232 233 234 235  22  25  21  27  19  15  20  28\n",
      "  23  26]\n",
      "['Función pública y buen gobierno'\n",
      " 'Pensiones y jubilaciones para el personal'\n",
      " 'Generación de energía eléctrica' 'Transmisión de Energía Eléctrica'\n",
      " 'Distribución de Energía Eléctrica'\n",
      " 'Comercialización de energía eléctrica'\n",
      " 'Gestión del Corporativo a las Empresas Subsidiarias'\n",
      " 'Apoyo a la función pública y buen gobierno'\n",
      " 'Comercialización de productos básicos en Tiendas y Farmacias del ISSSTE'\n",
      " 'Préstamos hipotecarios y FOVISSSTE'\n",
      " 'Cobertura de la atención médica preventiva'\n",
      " 'Cobertura de la atención médica curativa' 'Otros Servicios de Salud'\n",
      " 'Pago de riesgos de trabajo y subsidios y ayudas'\n",
      " 'Pago de pensiones por invalidez y vida'\n",
      " 'Pago de pensiones por retiro, cesantía en edad avanzada y vejez'\n",
      " 'Pago de Pensiones y Jubilaciones a la población derechohabiente del ISSSTE'\n",
      " 'PENSIONISSSTE, administración de las cuentas individuales de los trabajadores'\n",
      " 'Prestaciones sociales y culturales' 'Servicios de apoyo administrativo'\n",
      " 'Investigación en salud pertinente y de excelencia académica'\n",
      " 'Eficacia en la atención médica preventiva'\n",
      " 'Oportunidad en la atención curativa, quirúrgica, hospitalaria y de rehabilitación'\n",
      " 'Servicios de incorporación y recaudación'\n",
      " 'Oportunidad en el pago de las prestaciones económicas'\n",
      " 'Oportunidad en la prestación del servicio de guardería'\n",
      " 'Prestaciones sociales eficientes'\n",
      " 'Producción de petróleo crudo, gas, petrolíferos y petroquímicos y mantenimiento de instalaciones'\n",
      " 'Distribución de petróleo crudo, gas, petrolíferos y petroquímicos y mantenimiento de instalaciones'\n",
      " 'Comercialización de petróleo crudo, gas, petrolíferos y petroquímicos y mantenimiento de instalaciones'\n",
      " 'Exploraciones para descubrir yacimientos de hidrocarburos'\n",
      " 'Entorno ecológico'\n",
      " 'Personal activo y jubilado saludable y con calidad de vida'\n",
      " 'Pensiones y jubilaciones' 'Servicios de telecomunicaciones en PEMEX'\n",
      " 'Gestión corporativa a las empresas productivas subsidiarias de PEMEX'\n",
      " 'Servicios y actividades relacionadas a pozos'\n",
      " 'Llevar a cabo el proceso Legislativo'\n",
      " 'Fiscalización de la Cuenta de la Hacienda Pública Federal'\n",
      " 'Asesoría, coordinación, difusión y apoyo de las actividades del Presidente de la República'\n",
      " 'Integración y coordinación de las instituciones de seguridad nacional'\n",
      " 'Impartir justicia en el ámbito de su competencia'\n",
      " 'Resolver impugnaciones en procesos electorales'\n",
      " 'Política interior y las relaciones del Ejecutivo Federal con el Congreso de la Unión, Entidades Federativas y Asociaciones Políticas y Sociales'\n",
      " 'Apoyo jurídico a la Secretaría de Gobernación'\n",
      " 'Comunicación social del Gobierno Federal'\n",
      " 'Prevención del delito con perspectiva nacional'\n",
      " 'Desarrollo político y cívico social del país'\n",
      " 'Relación del Estado con las asociaciones religiosas'\n",
      " 'Derechos humanos y prevención de la discriminación'\n",
      " 'Servicio de migración y política migratoria'\n",
      " 'Sistema de identificación personal'\n",
      " 'Servicios de edición y artes gráficas para el Gobierno Federal'\n",
      " 'Justicia laboral para los trabajadores al servicio del Estado'\n",
      " 'Planeación demográfica' 'Atención a refugiados'\n",
      " 'Fortalecer las acciones en favor de la atención, defensa y protección de niñas, niños y adolescentes'\n",
      " 'Coordinar acciones de búsqueda de personas desaparecidas y no localizadas'\n",
      " 'Vínculos políticos con el exterior que benefician los intereses nacionales'\n",
      " 'Asistencia jurídica para la defensa eficiente de México y de sus nacionales'\n",
      " 'Protección, asistencia y servicios eficientes y suficientes para los mexicanos en el exterior o que viajan al exterior'\n",
      " 'Delimitación y supervisión eficiente de la integridad territorial de México'\n",
      " 'Participación activa en los foros multilaterales que logra decisiones que favorecen los intereses nacionales'\n",
      " 'Servicio Exterior Mexicano capacitado y actualizado'\n",
      " 'Concertación, coordinación y fomento de la cooperación internacional para el desarrollo y promoción económica y cultural de México'\n",
      " 'Hacienda pública responsable, eficiente y equitativa'\n",
      " 'Sistema financiero competitivo, eficiente y con mayor cobertura'\n",
      " 'Política de ingresos equitativa y promotora de la competitividad'\n",
      " 'Gasto público transparente y orientado a resultados'\n",
      " 'Actuaciones de la SHCP apegadas a certeza jurídica y legalidad'\n",
      " 'Funciones de tesorería eficientes y transparentes'\n",
      " 'Impresos y publicaciones oficiales seguros y confiables'\n",
      " 'Protección, mantenimiento, conservación y restauración de las áreas, objetos y colecciones que se encuentran en Palacio Nacional'\n",
      " 'Preservación y difusión del acervo patrimonial y documental a cargo de la SHCP'\n",
      " 'Planeación e instrumentación de la política inmobiliaria de la Administración Pública Federal'\n",
      " 'Ahorro y crédito popular'\n",
      " 'Administración y enajenación de activos referidos en la Ley Federal para la Administración y Enajenación de Bienes del Sector Público'\n",
      " 'Defensa de la integridad, la independencia, la soberanía del territorio nacional y la seguridad interior'\n",
      " 'Becas para hijos de militares'\n",
      " 'Equipo e infraestructura militares de calidad' 'Educación militar'\n",
      " 'Servicios de salud al personal militar'\n",
      " 'Aeropuertos eficientes y competitivos'\n",
      " 'Impulso a la reconversión productiva en materia agrícola, pecuaria y pesquera'\n",
      " 'Elevar el ingreso de los productores y el empleo rural'\n",
      " 'Formación recursos humanos para el sector (educación media superior)'\n",
      " 'Formación recursos humanos para el sector (educación superior)'\n",
      " 'Educación agropecuaria de posgrado' 'Acuacultura y pesca'\n",
      " 'Tecnificación e innovación de las actividades del sector'\n",
      " 'Oferta de productos básicos a precios competitivos'\n",
      " 'Apoyo al ingreso, a la salud y a la educación de las familias en pobreza'\n",
      " 'Atención de la población urbana y rural en pobreza'\n",
      " 'Regulación eficiente de las comunicaciones y los transportes'\n",
      " 'Carreteras eficientes, seguras y suficientes'\n",
      " 'Carreteras alimentadoras y caminos rurales eficientes, seguras y suficientes'\n",
      " 'Ferrocarriles eficientes y competitivos'\n",
      " 'Puertos eficientes y competitivos'\n",
      " 'Desarrollo tecnológico en materia de transporte'\n",
      " 'Telecomunicaciones eficientes y competitivas'\n",
      " 'Política de desarrollo empresarial y competitividad'\n",
      " 'Micro, pequeñas y medianas empresas productivas y competitivas'\n",
      " 'Sectores económicos competitivos'\n",
      " 'Libre comercio con el exterior e inversión extranjera'\n",
      " 'Comercio internacional y facilitación comercial' 'Mejora regulatoria'\n",
      " 'Normalización y metrología' 'Equidad en las relaciones de consumo'\n",
      " 'Información geológica' 'Diseño y aplicación de la política educativa'\n",
      " 'Gestión integral de servicios' 'Complemento a los servicios educativos'\n",
      " 'Educación básica de calidad' 'Educación superior de calidad'\n",
      " 'Educación media superior de calidad' 'Educación de postgrado de calidad'\n",
      " 'Investigación en diversas instituciones de educación superior'\n",
      " 'Fomento y promoción de la cultura' 'Deporte'\n",
      " 'Educación para adultos de calidad'\n",
      " 'Prestación de servicios del Sistema Nacional de Salud organizados e integrados'\n",
      " 'Formación y capacitación de recursos humanos acordes a las necesidades y demandas de atención a la salud'\n",
      " 'Sistema Nacional de Salud organizado e integrado'\n",
      " 'Promoción de la salud y prevención y control de enfermedades fortalecidas e integradas sectorial e intersectorialmente'\n",
      " 'Enfermedades emergentes, urgencias epidemiológicas y desastres naturales prevenidos, controlados y atendidos oportunamente'\n",
      " 'Infraestructura suficiente, equipamiento óptimo e insumos seguros para la salud'\n",
      " 'Políticas de calidad implementadas en el Sistema Nacional de Salud'\n",
      " 'Reforma financiera consolidada con acceso universal a los servicios de salud a la persona'\n",
      " 'Asistencia social, comunitaria y beneficencia pública justa y equitativa (asistencia pública)'\n",
      " 'Protección contra riesgos sanitarios fortalecida y modernizada'\n",
      " 'Administrar el Poder Naval de la Federación' 'Educación naval militar'\n",
      " 'Soberanía y seguridad nacionales en las zonas marinas mexicanas'\n",
      " 'Contribuir al desarrollo marítimo nacional'\n",
      " 'Construcción naval y modernización de unidades operativas y establecimientos navales'\n",
      " 'Servicios de salud al personal naval militar y derechohabientes'\n",
      " 'Instrumentación de la política Laboral'\n",
      " 'Impartición y procuración de la justicia laboral' 'Conciliación laboral'\n",
      " 'Asesoría a trabajadores y sindicatos y actualización del registro sindical'\n",
      " 'Capacitación y productividad' 'Fomento del trabajo digno o decente'\n",
      " 'Fomento de la previsión social'\n",
      " 'Instrumentación de políticas, estrategias y apoyos para vincular la oferta y la demanda de autoempleo y empleo en el mercado laboral'\n",
      " 'Estudios económicos para determinar el incremento en el salario mínimo'\n",
      " 'Ordenación y regularización de la propiedad rural y urbana'\n",
      " 'Ordenamiento y regularización de la propiedad rural'\n",
      " 'Apoyo en zonas urbanas marginadas'\n",
      " 'Planeación de proyectos urbanos para estados y municipios'\n",
      " 'Conducción de la política nacional de vivienda'\n",
      " 'Inscripción de actos jurídicos sobre derechos agrarios'\n",
      " 'Apoyo a la vivienda social' 'Procuración de justicia agraria'\n",
      " 'Conservación y manejo sustentable de los ecosistemas y su biodiversidad'\n",
      " 'Formulación y Conducción de la Política de Medio Ambiente y Recursos Naturales'\n",
      " 'Fomento y regulación de las actividades económicas y sociales para la protección del medio ambiente y recursos naturales'\n",
      " 'Impulso a la participación social, acceso a la información y divulgación del conocimiento ambiental'\n",
      " 'Manejo eficiente y sustentable del agua y prevención de inundaciones'\n",
      " 'Producción y protección forestal'\n",
      " 'Desarrollo e investigación científica y tecnológica del agua y medio ambiente'\n",
      " 'Regulación eficiente del sector energético'\n",
      " 'Investigación y desarrollo tecnológico y de capital humano en energía eléctrica'\n",
      " 'Investigación y desarrollo tecnológico en materia petrolera'\n",
      " 'Gestión de la eficiencia energética'\n",
      " 'Seguimiento y evaluación a los programas, políticas e información en eficiencia energética'\n",
      " 'Supervisar la normatividad en eficiencia energética'\n",
      " 'Promoción, vinculación e innovación en la eficiencia energética'\n",
      " 'Investigación y desarrollo tecnológico y de capital humano en energía nuclear'\n",
      " 'Pensiones y Jubilaciones a cargo del Gobierno Federal'\n",
      " 'Pagar otras prestaciones sociales a cargo al Gobierno Federal'\n",
      " 'Aportaciones de seguridad social a cargo del Gobierno Federal'\n",
      " 'Administración del Programa IMSS-PROSPERA'\n",
      " 'Prestación de Servicios del Sistema Nacional de Salud Organizados e Integrados '\n",
      " 'Apoyo a adultos mayores en pobreza'\n",
      " 'Atención a las personas con discapacidad'\n",
      " 'Apoyo a las madres trabajadoras en el cuidado de sus hijos'\n",
      " 'Apoyo a pequeñas comunidades rurales'\n",
      " 'Definición, conducción y evaluación de la política de desarrollo social y el ordenamiento urbano y regional'\n",
      " 'Juventud' 'Turismo con sello propio de calidad hospitalidad y seguridad'\n",
      " 'Desarrollo de destinos turísticos diversificados, sustentables y competitivos'\n",
      " 'Incremento de la oferta turística orientada a proyectos viables y sustentables'\n",
      " 'Atención y trato a los turistas'\n",
      " 'Democracia preservada y fortalecida mediante la organización de elecciones nacionales, el fomento de la participación ciudadana y la promoción del desarrollo del sistema de partidos'\n",
      " 'Prerrogativas garantizadas y oportunas para los partidos políticos'\n",
      " 'Prever recursos asociados a ingresos petroleros contemplados en la Ley de Ingresos de la Federación'\n",
      " 'Provisiones económicas' 'Provisiones para el programa salarial'\n",
      " 'Promover actividades del Gobierno Federal y de la Administración Pública Federal'\n",
      " 'Recursos por ingresos excedentes y reasignaciones presupuestarias'\n",
      " 'Promover acciones de desarrollo regional'\n",
      " 'Costo financiero de la deuda pública'\n",
      " 'Previsión de recursos de la Administración Federal de Servicios Educativos en la Ciudad de México y de los Fondos del Ramo 33'\n",
      " 'Servicios de educación básica en la Ciudad de México'\n",
      " 'Servicios de educación normal en la Ciudad de México'\n",
      " 'Mejora de la gestión pública' 'Apego a la legalidad'\n",
      " 'Transparencia y rendición de cuentas'\n",
      " 'Recursos derivados de los ingresos federales para las entidades federativas y municipios'\n",
      " 'Recursos para resarcir a las entidades federativas; mediante el Fondo de Compensación del Impuesto sobre Automóviles Nuevos'\n",
      " 'Adeudos de Ejercicios Fiscales Anteriores (ADEFAS)'\n",
      " 'Impartición de Justicia en materia agraria'\n",
      " 'Impartición de justicia en materia fiscal y administrativa'\n",
      " 'Fondo de Aportaciones para la Seguridad Pública de los Estados y del Distrito Federal'\n",
      " 'Fondo de Aportaciones para la Infraestructura Social'\n",
      " 'Fondo de Aportaciones para el Fortalecimiento de los Municipios y de las Demarcaciones Territoriales del Distrito Federal'\n",
      " 'Fondo de Aportaciones para el Fortalecimiento de las Entidades Federativas'\n",
      " 'Fondo de Aportaciones para los Servicios de Salud'\n",
      " 'Fondo de Aportaciones para la Nómina Educativa y Gasto Operativo'\n",
      " 'Fondo de Aportaciones Múltiples'\n",
      " 'Fondo de Aportaciones para la Educación Tecnológica y de Adultos'\n",
      " 'Apoyo a ahorradores y deudores de la banca'\n",
      " 'Protección y Defensa de los Derechos Humanos'\n",
      " 'Observancia de los Derechos Humanos'\n",
      " 'Promoción, Estudio y Divulgación de los Derechos Humanos.'\n",
      " 'Fortalecimiento de la autonomía y capacidad de gestión institucional.'\n",
      " 'Fortalecimiento de las instituciones de seguridad pública que garanticen la seguridad de la población'\n",
      " 'Apoyo jurídico a la Secretaría'\n",
      " 'Coordinación del Sistema Nacional de Seguridad Pública'\n",
      " 'Sistema Nacional de Protección Civil'\n",
      " 'Sistema penitenciario que garantice la ejecución de las resoluciones jurídicas y contribuya a la readaptación social'\n",
      " 'Inteligencia para la Seguridad Nacional'\n",
      " 'Asesoría en materia jurídica al Presidente de la República y al Gobierno Federal'\n",
      " 'Generación de conocimiento científico para el bienestar de la población y difusión de sus resultados'\n",
      " 'Generación de desarrollo e innovación tecnológica para elevar la competitividad del país y difusión de sus resultados'\n",
      " 'Apoyo a la formación de capital humano'\n",
      " 'Apoyo al ingreso y fomento al desarrollo de los investigadores de mérito'\n",
      " 'Formulación, articulación y conducción de la política en ciencia, tecnología e innovación'\n",
      " 'Sistema Nacional de Información Estadística y Geográfica'\n",
      " 'Actividades de Apoyo administrativo'\n",
      " 'Prevención y eliminación de prácticas y concentraciones monopólicas y demás restricciones a la competencia y libre concurrencia'\n",
      " 'Regulación eficiente de las telecomunicaciones'\n",
      " 'Libre competencia económica'\n",
      " 'Transparencia, Acceso a la información y protección de datos personales'\n",
      " 'Promoción y coordinación de las políticas públicas para el desarrollo de los pueblos y comunidades indígenas'\n",
      " 'Impulso a la diversificación de los servicios informativos'\n",
      " 'Planeación, fomento y desarrollo del Corredor Interoceánico del Istmo de Tehuantepec'\n",
      " 'Garantizar el derecho de los contribuyentes a recibir justicia en materia fiscal, en el orden federal'\n",
      " 'Atención integral a víctimas'\n",
      " 'Proveer el servicio de radiodifusión pública en México'\n",
      " 'Acervo documental de la nación'\n",
      " 'Mujeres en el ejercicio de sus derechos humanos'\n",
      " 'Fomento y protección de los derechos de autor '\n",
      " 'Preservación y desarrollo de las lenguas indígenas '\n",
      " 'Investigación del delito federal'\n",
      " 'Solución de controversias en materia penal federal']\n",
      "['O' 'J' 'E' 'K' 'R' 'F' 'M' 'P' 'W' 'B' 'S' 'U' 'G' 'A' 'L' 'N' 'T' 'Y'\n",
      " 'D' 'I' 'C' 'H']\n",
      "['Apoyo a la función pública y al mejoramiento de la gestión'\n",
      " 'Pensiones y jubilaciones' 'Prestación de Servicios Públicos'\n",
      " 'Proyectos de Inversión' 'Específicos' 'Promoción y fomento'\n",
      " 'Apoyo al proceso presupuestario y para mejorar la eficiencia institucional'\n",
      " 'Planeación, seguimiento y evaluación de políticas públicas'\n",
      " 'Operaciones ajenas' 'Provisión de Bienes Públicos'\n",
      " 'Sujetos a Reglas de Operación' 'Otros Subsidios'\n",
      " 'Regulación y supervisión' 'Funciones de las Fuerzas Armadas'\n",
      " 'Obligaciones de cumplimiento de resolución jurisdiccional'\n",
      " 'Desastres Naturales' 'Aportaciones a la seguridad social'\n",
      " 'Aportaciones a fondos de estabilización'\n",
      " 'Costo financiero, deuda o apoyos a deudores y ahorradores de la banca'\n",
      " 'Gasto Federalizado'\n",
      " 'Participaciones a entidades federativas y municipios'\n",
      " 'Adeudos de Ejercicios Fiscales Anteriores (ADEFAS)']\n",
      "[  1 561 584  27  29 579  24 580 581 562 578 582 583 585 586 571  25  28\n",
      "  44 552  43  18   2  19  20  21  22  26  48  36  42  46  47  49  15   3\n",
      "  11  12   6   4   7  30   5  10  13  14  16   9  23   8 155  35  32 900\n",
      "  17 292 293 304 263 290  53  52  33  37  39  40  41  45  31 247 282 270\n",
      " 312 295 243  79  80 300 298  68 269  66  64  83  72 311 283 200 281 100\n",
      " 280 273 177 213 138 129 140  74 111 133 141 217 219  38 176 286 174 287\n",
      " 125 116  93  81 151 190 191 178 249 268 303  57]\n",
      "['Actividades de apoyo a la función pública y buen gobierno'\n",
      " 'Pago de pensiones  y jubilaciones'\n",
      " 'Operación y mantenimiento de las centrales generadoras de energía eléctrica'\n",
      " 'Servicio de transporte de gas natural'\n",
      " 'Proyectos de infraestructura económica de electricidad'\n",
      " 'Mantenimiento de infraestructura' 'Programas de adquisiciones'\n",
      " 'Administración de los contratos de producción independiente de energía CFE Generación V'\n",
      " 'Operación y mantenimiento de la Red Nacional de Transmisión'\n",
      " 'Otros proyectos de infraestructura gubernamental'\n",
      " 'Operación y mantenimiento de la infraestructura del proceso de distribución de energía eléctrica'\n",
      " 'Comercialización de energía eléctrica y productos asociados'\n",
      " 'Coordinación, operación, mantenimiento y recarga de la Coordinación Corporativa Nuclear'\n",
      " 'Apoyo al desarrollo sustentable de comunidades afectadas por la instalación de la infraestructura eléctrica'\n",
      " 'Prestación de servicios corporativos'\n",
      " 'Servicios de infraestructura aplicable a telecomunicaciones'\n",
      " 'Funciones en relación con Estrategias de Negocios Comerciales, así como potenciales nuevos negocios'\n",
      " 'Servicios de pruebas, soluciones de ingeniería especializada y de gestión de calidad'\n",
      " 'Promoción de medidas para el ahorro y uso eficiente de la energía eléctrica'\n",
      " 'Proyectos de inmuebles (oficinas administrativas)'\n",
      " 'Estudios de preinversión'\n",
      " 'Proyectos de infraestructura económica de electricidad (Pidiregas)'\n",
      " 'Actividades de apoyo administrativo'\n",
      " 'Planeación Estratégica de la Comisión Federal de Electricidad'\n",
      " 'Seguridad física en las instalaciones de electricidad'\n",
      " 'Operaciones Ajenas' 'Prevención y Control de Enfermedades'\n",
      " 'Atención a la Salud' 'Suministro de Claves de Medicamentos'\n",
      " 'Programa de Adquisiciones'\n",
      " 'Gastos Administrativos por Operación de Fondos y Seguros'\n",
      " 'Provisiones para el Programa de Fortalecimiento del ISSSTE'\n",
      " 'Pensiones por Riesgos de Trabajo' 'Subsidios y Ayudas'\n",
      " 'Pensiones por Invalidez' 'Pensiones por Causa de Muerte'\n",
      " 'Pensiones por Cesantía' 'Pensiones por Vejez' 'Pensiones y Jubilaciones'\n",
      " 'Indemnizaciones Globales' 'Pagos de Funeral'\n",
      " 'Servicios de Estancias de Bienestar y Desarrollo Infantil'\n",
      " 'Equidad de Género' 'Atención a Personas con Discapacidad'\n",
      " 'Servicios Deportivos, Culturales, Turísticos y Funerarios'\n",
      " 'Créditos a Corto y Mediano Plazo' 'Servicios Integrales a Pensionados'\n",
      " 'Investigación y desarrollo tecnológico en salud'\n",
      " 'Atención a la Salud en el Trabajo'\n",
      " 'Proyectos de infraestructura social de asistencia y seguridad social'\n",
      " 'Recaudación de ingresos obrero patronales'\n",
      " 'Pago de subsidios a los asegurados'\n",
      " 'Pensiones en curso de pago Ley 1973' 'Rentas vitalicias Ley 1997'\n",
      " 'Régimen de Pensiones y Jubilaciones IMSS' 'Servicios de guardería'\n",
      " 'Prestaciones Sociales'\n",
      " 'Producción de petróleo, gas, petrolíferos y petroquímicos'\n",
      " 'Proyectos de infraestructura económica de hidrocarburos'\n",
      " 'Otros proyectos de infraestructura'\n",
      " 'Compra de acciones o inversiones diversas para Pemex'\n",
      " 'Distribución de petróleo, gas, petrolíferos y petroquímicos'\n",
      " 'Conservación de infraestructura marítimo-portuaria'\n",
      " 'Comercialización de petróleo, gas, petrolíferos y petroquímicos'\n",
      " 'Operación y mantenimiento de la infraestructura en ecología'\n",
      " 'Servicios médicos al personal de PEMEX'\n",
      " 'Aportaciones para pago de pensiones y jubilaciones'\n",
      " 'Prestación de servicios de telecomunicaciones internos a PEMEX'\n",
      " 'Servicios de perforación, terminación, reparación, así como actividades y servicios relacionados a pozos'\n",
      " 'Mantenimiento de Infraestructura'\n",
      " 'Actividades derivadas del trabajo legislativo'\n",
      " 'Entregar a la Cámara de Diputados del H. Congreso de la Unión, el informe sobre la revisión de la Cuenta de la Hacienda Pública Federal'\n",
      " 'Otros Proyectos'\n",
      " 'Asesoría, coordinación, difusión y apoyo técnico de las actividades del Presidente de la República'\n",
      " 'Apoyo a las actividades de Ayudantía y Logística de la Oficina de la Presidencia de la República'\n",
      " 'Coordinación y apoyo de las acciones a cargo del Consejo de Seguridad Nacional'\n",
      " 'Atención y seguimiento a las solicitudes y demandas de la ciudadanía'\n",
      " 'Otras Actividades' 'Conducción de la política interior'\n",
      " 'Defensa jurídica de la Secretaría de Gobernación y compilación jurídica nacional y testamentaria ciudadana'\n",
      " 'Fortalecimiento de las instituciones democráticas a fin de lograr las reformas legislativas que transformen el orden jurídico nacional'\n",
      " 'Instrumentar la normatividad en materia de comunicación social y coordinar la relación con los medios de comunicación del Gobierno Federal'\n",
      " 'Impulso a la democracia participativa y fomento a la construcción de paz en México'\n",
      " 'Conducción de la política del Gobierno Federal en materia religiosa'\n",
      " 'Protección y defensa de los derechos humanos'\n",
      " 'Coordinar la relación entre autoridades locales y federales para la consolidación del sistema de justicia penal y la reconciliación social'\n",
      " 'Política y servicios migratorios'\n",
      " 'Registro e Identificación de Población'\n",
      " 'Servicios de edición y artes gráficas para el Gobierno Federal'\n",
      " 'Promover la Protección de los Derechos Humanos y Prevenir la Discriminación'\n",
      " 'Impartición de justicia laboral para los trabajadores al servicio del Estado'\n",
      " 'Planeación demográfica del país' 'Atención a refugiados en el país'\n",
      " 'Coordinación con las instancias que integran el Sistema Nacional de Protección Integral de Niñas, Niños y Adolescentes'\n",
      " 'Producción de programas informativos de radio y televisión del Ejecutivo Federal'\n",
      " 'Promover la atención y prevención de la violencia contra las mujeres'\n",
      " 'Programa de Apoyo a las Instancias de Mujeres en las Entidades Federativas (PAIMEF)'\n",
      " 'Programa de Apoyo para Refugios Especializados para Mujeres Víctimas de Violencia de Género, sus hijas e hijos'\n",
      " 'Determinación, ejecución y seguimiento a las acciones de búsqueda de Personas Desaparecidas y No Localizadas'\n",
      " 'Subsidios para las acciones de búsqueda de Personas Desaparecidas y No Localizadas'\n",
      " 'Diseño, conducción y ejecución de la política exterior'\n",
      " 'Promoción y defensa de los intereses de México en el ámbito multilateral'\n",
      " 'Atención, protección, servicios y asistencia consulares'\n",
      " 'Fortalecimiento de las capacidades del Servicio Exterior Mexicano y de la Cancillería'\n",
      " 'Coordinación, promoción y ejecución de la Cooperación internacional para el desarrollo'\n",
      " 'Diseño y aplicación de la política económica'\n",
      " 'Detección y prevención de ilícitos financieros'\n",
      " 'Diseño de la política de ingresos' 'Regulación del sector financiero'\n",
      " 'Diseño y conducción de la política de gasto público'\n",
      " 'Asesoría jurídica y representación judicial y administrativa de la SHCP'\n",
      " 'Administración de los recursos y valores federales'\n",
      " 'Producción de impresos valorados, no valorados, numerados y de seguridad'\n",
      " 'Administración, restauración y difusión del acervo patrimonial y documental de la SHCP'\n",
      " 'Optimización de los inmuebles federales y valuación de los bienes nacionales'\n",
      " 'Regulación y supervisión de las entidades del sistema financiero mexicano'\n",
      " 'Regulación y supervisión del sector asegurador y afianzador'\n",
      " 'Regulación y supervisión del Sistema de Ahorro para el Retiro'\n",
      " 'Recaudación de las contribuciones federales'\n",
      " 'Protección y Defensa de los Usuarios de Servicios Financieros'\n",
      " 'Control de la operación aduanera' 'Programa de Inclusión Financiera'\n",
      " 'Administración y enajenación de activos'\n",
      " 'Administración del Fondo de Pensiones'\n",
      " 'Defensa de la Integridad, la Independencia, la Soberanía del Territorio Nacional'\n",
      " 'Programa de la Secretaría de la Defensa Nacional en Apoyo a la Seguridad Pública'\n",
      " 'Fortalecimiento de las capacidades de auxilio a la población civil mediante el Plan DN-III-E'\n",
      " 'Programa de igualdad entre mujeres y hombres SDN'\n",
      " 'Programa de Becas para los hijos del Personal de las Fuerza Armadas en activo'\n",
      " 'Investigación y desarrollo tecnológico, producción y mantenimiento de armamento, municiones, explosivos, vehículos y equipos militares y sus accesorios'\n",
      " 'Investigación, desarrollo y producción de vestuario y equipo militar y mantenimiento de infraestructura'\n",
      " 'Programa de justicia militar' 'Sistema educativo militar'\n",
      " 'Operación y desarrollo de los cuerpos de seguridad de las Fuerzas Armadas'\n",
      " 'Investigación y desarrollo militar en coordinación con universidades públicas, instituciones públicas de educación superior y/o demás centros públicos de investigación superior'\n",
      " 'Salud y producción animal' 'Programa de sanidad militar'\n",
      " 'Mantenimiento y conservación de la infraestructura militar y maquinaria pesada y administración inmobiliaria'\n",
      " 'Proyectos de infraestructura gubernamental de seguridad nacional'\n",
      " 'Provisiones para la construcción y fortalecimiento de infraestructura'\n",
      " 'Producción de árboles en viveros forestales militares'\n",
      " 'Fideicomiso de apoyo a deudos de militares fallecidos o a militares que hayan adquirido una incapacidad en 1/a. categoría en actos del servicio considerados de alto riesgo'\n",
      " 'Operación y desarrollo de la Fuerza Aérea Mexicana' 'Derechos humanos'\n",
      " 'Administración de la Infraestructura Aeroportuaria en Santa Lucía, Edo. Méx.'\n",
      " 'Diseño y Aplicación de la Política Agropecuaria' 'Fertilizantes'\n",
      " 'Producción para el Bienestar'\n",
      " 'Programa de Fomento a la Agricultura, Ganadería, Pesca y Acuicultura'\n",
      " 'Desarrollo, aplicación de programas educativos e investigación en materia agroalimentaria'\n",
      " 'Regulación, supervisión y aplicación de las políticas públicas en materia agropecuaria, acuícola y pesquera'\n",
      " 'Sanidad e Inocuidad Agroalimentaria'\n",
      " 'Generación de Proyectos de Investigación'\n",
      " 'Precios de Garantía a Productos Alimentarios Básicos'\n",
      " 'Programa de Abasto Rural a cargo de Diconsa, S.A. de C.V. (DICONSA)'\n",
      " 'Adquisición de leche nacional'\n",
      " 'Programa de Abasto Social de Leche a cargo de Liconsa, S.A. de C.V.'\n",
      " 'Definición, conducción y supervisión de la política de comunicaciones y transportes'\n",
      " 'Supervisión, regulación, inspección, verificación y servicios administrativos de construcción y conservación de carreteras'\n",
      " 'Derecho de Vía' 'Proyectos de construcción de carreteras'\n",
      " 'Estudios y Proyectos para la construcción, ampliación, modernización, conservación y operación de infraestructura de comunicaciones y transportes'\n",
      " 'Servicios relacionados para la liberación del derecho de vía'\n",
      " 'Conservación de infraestructura de caminos rurales y carreteras alimentadoras'\n",
      " 'Estudios y proyectos de construcción de caminos rurales y carreteras alimentadoras'\n",
      " 'Reconstrucción y Conservación de Carreteras'\n",
      " 'Estudios técnicos para la construcción, conservación y operación de infraestructura de comunicaciones y transportes'\n",
      " 'Supervisión, inspección y verificación del transporte terrestre, marítimo y aéreo'\n",
      " 'Proyectos Ferroviarios para Transporte de Carga y Pasajeros'\n",
      " 'Proyectos de Transporte Masivo de Pasajeros'\n",
      " 'Regulación y supervisión del programa de protección y medicina preventiva en transporte multimodal'\n",
      " 'Sistema Satelital' 'Internet para Todos'\n",
      " 'Proyectos de construcción de carreteras alimentadoras y caminos rurales'\n",
      " 'Mejora en la conectividad municipal a través de caminos rurales y carreteras alimentadoras'\n",
      " 'Investigación, estudios, proyectos y capacitación en materia de transporte'\n",
      " 'Servicios de ayudas a la navegación aérea'\n",
      " 'Supervisión y verificación de concesiones en telecomunicaciones'\n",
      " 'Servicios de correo'\n",
      " 'Investigación, estudios y proyectos en materia espacial'\n",
      " 'Servicios de telecomunicaciones, satelitales, telegráficos y de transferencia de fondos'\n",
      " 'Desarrollo de Infraestructura Aeroportuaria'\n",
      " 'Conservación y operación de infraestructura aeroportuaria en la Ciudad de México'\n",
      " 'Proyectos de construcción de aeropuertos'\n",
      " 'Provisiones para la modernización y rehabilitación de la infraestructura aeroportuaria y de conectividad'\n",
      " 'Planeación, elaboración y seguimiento de las políticas y programas de la dependencia'\n",
      " 'Atención de trámites y servicios a cargo de la Secretaría en las entidades federativas'\n",
      " 'Supervisión aplicación y actualización del marco normativo y operativo en materia de Infraestructura de la Calidad, Mercantil, Competitividad y Competencia'\n",
      " 'Promoción y fomento del desarrollo y la innovación de los sectores industrial, comercial y de servicios'\n",
      " 'Negociación, administración y defensa de Tratados y Acuerdos Internacionales de comercio e inversión'\n",
      " 'Promoción del comercio exterior y atracción de inversión extranjera directa'\n",
      " 'Regulación, modernización y promoción de la actividad minera'\n",
      " 'Fortalecimiento de la competitividad y transparencia del marco regulatorio que aplica a los particulares'\n",
      " 'Desarrollo tecnológico y prestación de servicios metrológicos para la competitividad '\n",
      " 'Generación y difusión de información para el consumidor '\n",
      " 'Protección de los derechos de los consumidores'\n",
      " 'Vigilancia del cumplimiento de la normatividad y fortalecimiento de la certeza jurídica entre proveedores y consumidores'\n",
      " 'Producción de información geológica del territorio nacional'\n",
      " 'Diseño de la Política Educativa'\n",
      " 'Registro Nacional de Profesionistas y sus Asociaciones'\n",
      " 'Programa para el Desarrollo Profesional Docente'\n",
      " 'Normar los servicios educativos' 'La Escuela es Nuestra'\n",
      " 'Programa Nacional de Inglés' 'Expansión de la Educación Inicial'\n",
      " 'Producción y distribución de libros y materiales educativos'\n",
      " 'Fortalecimiento de los Servicios de Educación Especial (PFSEE)'\n",
      " 'Programa de Becas Elisa Acuña'\n",
      " 'Producción y transmisión de materiales educativos'\n",
      " 'Expansión de la Educación Media Superior y Superior'\n",
      " 'Apoyos a centros y organizaciones de educación'\n",
      " 'Subsidios para organismos descentralizados estatales'\n",
      " 'Servicios de Educación Superior y Posgrado'\n",
      " 'Fortalecimiento a la Excelencia Educativa'\n",
      " 'Servicios de Educación Media Superior'\n",
      " 'Atención de Planteles Públicos de Educación Media Superior con estudiantes con discapacidad (PAPPEMS)'\n",
      " 'Investigación Científica y Desarrollo Tecnológico'\n",
      " 'Normalización y certificación en competencias laborales'\n",
      " 'Educación Física de Excelencia'\n",
      " 'Políticas de igualdad de género en el sector educativo'\n",
      " 'Proyectos de infraestructura social del sector educativo'\n",
      " 'Producción y distribución de libros y materiales culturales'\n",
      " 'Desarrollo Cultural' 'Atención al deporte'\n",
      " 'Programa de Cultura Física y Deporte'\n",
      " 'Educación Inicial y Básica Comunitaria' 'Educación para Adultos (INEA)'\n",
      " 'Programa de mantenimiento e infraestructura física educativa'\n",
      " 'Universidades para el Bienestar Benito Juárez García'\n",
      " 'Programa de Becas de Educación Básica para el Bienestar Benito Juárez'\n",
      " 'Beca Universal para Estudiantes de Educación Media Superior Benito Juárez'\n",
      " 'Jóvenes Escribiendo el Futuro'\n",
      " 'Formación y capacitación de recursos humanos para la salud'\n",
      " 'Asistencia social y protección del paciente' 'Rectoría en Salud'\n",
      " 'Prevención y control de enfermedades'\n",
      " 'Prevención y Control de Sobrepeso, Obesidad y Diabetes'\n",
      " 'Vigilancia epidemiológica'\n",
      " 'Fortalecimiento de los Servicios Estatales de Salud'\n",
      " 'Regulación y vigilancia de establecimientos y servicios de atención médica'\n",
      " 'Salud materna, sexual y reproductiva'\n",
      " 'Prevención y atención de VIH/SIDA y otras ITS'\n",
      " 'Fortalecimiento a la atención médica'\n",
      " 'Programa Nacional de Reconstrucción'\n",
      " 'Atención a la Salud y Medicamentos Gratuitos para la Población sin Seguridad Social Laboral'\n",
      " 'Prevención y atención contra las adicciones'\n",
      " 'Proyectos de infraestructura social de salud'\n",
      " 'Servicios de asistencia social integral'\n",
      " 'Protección y restitución de los derechos de las niñas, niños y adolescentes'\n",
      " 'Programa de Atención a Personas con Discapacidad'\n",
      " 'Programa de vacunación' 'Protección Contra Riesgos Sanitarios'\n",
      " 'Emplear el Poder Naval de la Federación para salvaguardar la soberanía y seguridad nacionales'\n",
      " 'Sistema Educativo naval y programa de becas'\n",
      " 'Administración y Operación de Capitanías de Puerto y Asuntos Marítimos'\n",
      " 'Fortalecimiento de las capacidades para la reconstrucción, atención de emergencias y prevención de desastres naturales'\n",
      " 'Adquisición, construcción, reparación y mantenimiento de unidades navales'\n",
      " 'Administración y fomento de los servicios de salud'\n",
      " 'Previsión para el Fortalecimiento de Infraestructura Naval y Militar'\n",
      " 'Operación de infraestructura marítimo-portuaria'\n",
      " 'Proyectos de construcción de puertos'\n",
      " 'Operación y conservación de infraestructura ferroviaria'\n",
      " 'Formación del personal de la Marina Mercante'\n",
      " 'Instrumentación de la política laboral'\n",
      " 'Impartición de justicia laboral'\n",
      " 'Subsidios a las Entidades Federativas para la implementación de la Reforma al Sistema de Justicia Laboral'\n",
      " 'Registro de agrupaciones sindicales'\n",
      " 'Capacitación para Incrementar la Productividad'\n",
      " 'Conciliación entre empleadores y sindicatos'\n",
      " 'Ejecución a nivel nacional de acciones de promoción y vigilancia de los derechos laborales'\n",
      " 'Ejecución de los programas y acciones de la Política Laboral'\n",
      " 'Programa de Apoyo al Empleo (PAE)' 'Jóvenes Construyendo el Futuro'\n",
      " 'Procuración de justicia laboral'\n",
      " 'Servicio de Conciliación Federal y Registros Laborales'\n",
      " 'Evaluación del Salario Mínimo'\n",
      " 'Política de Desarrollo Urbano y Ordenamiento del Territorio'\n",
      " 'Atención de asuntos jurídicos en materia agraria, territorial, urbana y vivienda'\n",
      " 'Obligaciones jurídicas Ineludibles'\n",
      " 'Ordenamiento y regulación de la propiedad rural'\n",
      " 'Programa de Atención de Conflictos Agrarios'\n",
      " 'Programa de modernización de los registros públicos de la propiedad y catastros'\n",
      " 'Programa de Mejoramiento Urbano (PMU)'\n",
      " 'Conducción e instrumentación de la política nacional de vivienda'\n",
      " 'Modernización del Catastro Rural Nacional'\n",
      " 'Regularización y Registro de Actos Jurídicos Agrarios'\n",
      " 'Programa de Vivienda Social'\n",
      " 'Programa para Regularizar Asentamientos Humanos'\n",
      " 'Procuración de justicia agraria'\n",
      " 'Planeación, Seguimiento y Evaluación de la Política Ambiental y de Recursos Naturales'\n",
      " 'Capacitación Ambiental y Desarrollo Sustentable' 'Regulación Ambiental'\n",
      " 'Normativa Ambiental e Instrumentos para el Desarrollo Sustentable'\n",
      " 'Inversión en Infraestructura Social y Protección Ambiental'\n",
      " 'Operación y mantenimiento de infraestructura hídrica'\n",
      " 'Sistemas Meteorológicos e Hidrológicos'\n",
      " 'Gestión integral y sustentable del agua'\n",
      " 'Infraestructura para la Protección de Centros de Población y Áreas Productivas'\n",
      " 'Inversión del Servicio Meteorológico Nacional'\n",
      " 'Atención de emergencias y desastres naturales'\n",
      " 'Conducción de las políticas hídricas'\n",
      " 'Agua Potable, Drenaje y Tratamiento'\n",
      " 'Infraestructura de agua potable, alcantarillado y saneamiento'\n",
      " 'Provisiones para desarrollo de infraestructura hidráulica'\n",
      " 'Programa de Devolución de Derechos'\n",
      " 'Rehabilitación y Modernización de Presas y Estructuras de Cabeza'\n",
      " 'Pago y Expropiaciones para Infraestructura Federal'\n",
      " 'Infraestructura para la modernización y rehabilitación de riego y temporal tecnificado'\n",
      " 'Programa de Apoyo a la Infraestructura Hidroagrícola'\n",
      " 'Inspección y Vigilancia del Medio Ambiente y Recursos Naturales'\n",
      " 'Conservación y Manejo de Áreas Naturales Protegidas'\n",
      " 'Programa de Conservación para el Desarrollo Sostenible'\n",
      " 'Programa para la Protección y Restauración de Ecosistemas y Especies Prioritarias'\n",
      " 'Regulación, Gestión y Supervisión del Sector Hidrocarburos'\n",
      " 'Protección Forestal' 'Desarrollo Forestal Sustentable para el Bienestar'\n",
      " 'Investigación científica y tecnológica'\n",
      " 'Investigación en Cambio Climático, Sustentabilidad y Crecimiento Verde'\n",
      " 'Conducción de la política energética'\n",
      " 'Recursos destinados a la transición e investigación en materia energética'\n",
      " 'Coordinación de la política energética en electricidad'\n",
      " 'Coordinación de la política energética en hidrocarburos'\n",
      " 'Regulación y supervisión de actividades nucleares y radiológicas'\n",
      " 'Gestión, promoción, supervisión y evaluación del aprovechamiento sustentable de la energía'\n",
      " 'Investigación, desarrollo tecnológico y prestación de servicios en materia nuclear y eléctrica'\n",
      " 'Investigación y Desarrollo Tecnológico en Materia Petrolera  '\n",
      " 'Pensiones Civiles Militares y de Gracia'\n",
      " 'Apoyo Económico a Viudas de Veteranos de la Revolución Mexicana'\n",
      " 'Pagas de Defunción y Ayuda para Gastos de Sepelio'\n",
      " 'Compensaciones de Carácter Militar con Pago único'\n",
      " 'Seguridad Social Cañeros' 'Régimen de Incorporación'\n",
      " 'Programa IMSS-BIENESTAR'\n",
      " 'Adeudos con el IMSS e ISSSTE y fortalecimiento del Modelo de Atención Integral de Salud'\n",
      " 'Aportaciones Estatutarias al Seguro de Retiro, Cesantía en Edad Avanzada y Vejez'\n",
      " 'Cuota Social al Seguro de Retiro, Cesantía en Edad Avanzada y Vejez'\n",
      " 'Fondo de Reserva para el Retiro IMSS'\n",
      " 'Cuota Social Seguro de Retiro ISSSTE'\n",
      " 'Previsiones para las pensiones en curso de pago de los Extrabajadores de Luz y Fuerza del Centro'\n",
      " 'Previsiones para el Pago de las Pensiones de los Jubilados de Ferrocarriles Nacionales de México'\n",
      " 'Apoyo a jubilados del IMSS e ISSSTE'\n",
      " 'Subsidio por cáncer IMSS y ayudas guardería ABC'\n",
      " 'Apoyo para cubrir el déficit de la nómina de pensiones del ISSSTE'\n",
      " 'Apoyo para cubrir el gasto de operación del ISSSTE'\n",
      " 'Cuota Social Seguro de Salud ISSSTE' 'Subsidio por cáncer ISSSTE'\n",
      " 'Pensiones y Jubilaciones en curso de Pago'\n",
      " 'Pensión Mínima Garantizada IMSS' 'Seguro de Enfermedad y Maternidad'\n",
      " 'Seguro de Invalidez y Vida' 'Seguro de Salud para la Familia'\n",
      " 'Cuota correspondiente de los Haberes, Haberes de Retiro y Pensiones'\n",
      " 'Diseño y Conducción de la Política Pública de Desarrollo Social'\n",
      " 'Programa para el Bienestar de las Personas en Emergencia Social o Natural'\n",
      " 'Promoción y evaluación de la política de desarrollo social y comunitario, la participación y la cohesión social'\n",
      " 'Pensión para el Bienestar de las Personas Adultas Mayores'\n",
      " 'Pensión para el Bienestar de las Personas con Discapacidad Permanente'\n",
      " 'Programa de Apoyo para el Bienestar de las Niñas y Niños, Hijos de Madres Trabajadoras '\n",
      " 'Sembrando Vida' 'Servicios a grupos con necesidades especiales'\n",
      " 'Evaluación de los programas sociales'\n",
      " 'Desarrollo integral de las personas con discapacidad'\n",
      " 'Articulación de Políticas Integrales de Juventud'\n",
      " 'Planeación y conducción de la política de turismo'\n",
      " 'Regulación y certificación de estándares de calidad turística'\n",
      " 'Promoción de México como Destino Turístico'\n",
      " 'Desarrollo y promoción de proyectos turísticos sustentables'\n",
      " 'Impulso a la competitividad del sector turismo'\n",
      " 'Programa de Calidad y Atención Integral al Turismo'\n",
      " 'Fomento y promoción de la inversión en el sector turístico'\n",
      " \"Conservación y mantenimiento a los CIP's\"\n",
      " 'Dirección, soporte jurídico electoral y apoyo logístico'\n",
      " 'Tecnologías de información y comunicaciones'\n",
      " 'Vinculación con la sociedad'\n",
      " 'Apoyo a la función pública y al mejoramiento de la gestión'\n",
      " 'Actualización del padrón electoral y expedición de la credencial para votar'\n",
      " 'Otorgamiento de prerrogativas a partidos políticos, fiscalización de sus recursos y administración de los tiempos del estado en radio y televisión'\n",
      " 'Organización electoral nacional'\n",
      " 'Organización del servicio profesional electoral'\n",
      " 'Capacitación y educación para el ejercicio democrático de la ciudadanía'\n",
      " 'Gestión Administrativa'\n",
      " 'Planeación, innovación, seguimiento y evaluación' 'Fiscalización'\n",
      " 'Comisiones y pago a CECOBAN' 'Situaciones laborales supervenientes'\n",
      " 'Fondo de Ahorro Capitalizable (FONAC)'\n",
      " 'Concentración de Recursos por Conversión de Plazas'\n",
      " 'Provisiones Salariales y Económicas' 'Programa de Separación Laboral '\n",
      " 'Provisión para la Armonización Contable'\n",
      " 'Fideicomiso Fondo de Estabilización de los Ingresos Presupuestarios'\n",
      " 'Fideicomiso Fondo de Estabilización de los Ingresos de las Entidades Federativas'\n",
      " 'Reasignaciones presupuestarias entre dependencias y entidades'\n",
      " 'Fondo para entidades federativas y municipios productores de hidrocarburos'\n",
      " 'FEIEF' 'FEIP' 'Subsidios a las Tarifas Eléctricas' 'CONACYT'\n",
      " 'Regularización de vehículos usados de procedencia extranjera'\n",
      " 'Fondo de Desastres Naturales (FONDEN)'\n",
      " 'Fondo de Prevención de Desastres Naturales (FOPREDEN)'\n",
      " 'Valores gubernamentales' 'Fondo de ahorro SAR' 'Pensión ISSSTE'\n",
      " 'Otros financiamientos' 'Bonos' 'Banca comercial' 'Coberturas'\n",
      " 'Bilaterales' 'Organismos financieros internacionales'\n",
      " 'Previsiones salariales y económicas del Fondo de Aportaciones para la Nómina Educativa y Gasto Operativo (FONE)'\n",
      " 'Previsiones salariales y económicas del Fondo de Aportaciones para la Educación Tecnológica y de Adultos'\n",
      " 'Servicios de educación básica en la Ciudad de México'\n",
      " 'Becas para la población atendida por el sector educativo'\n",
      " 'Servicios de educación normal en la Ciudad de México'\n",
      " 'Políticas de austeridad republicana y eficacia gubernamental'\n",
      " 'Combate a la impunidad' 'Fiscalización a la gestión pública'\n",
      " 'Integración de las estructuras profesionales del gobierno'\n",
      " 'Fondo General de Participaciones' 'Fondo de Fomento Municipal'\n",
      " 'Otros conceptos participables e incentivos económicos'\n",
      " 'Fondo de Compensación del Impuesto sobre Automóviles Nuevos'\n",
      " 'Adeudos de Ejercicios Fiscales Anteriores (ADEFAS)' 'Operaciones ajenas'\n",
      " 'Resolución de juicios agrarios dotatorios de tierras y los recursos de revisión'\n",
      " 'Resolución de asuntos relativos a conflictos y controversias por la posesión y usufructo de la tierra'\n",
      " 'Impartición de Justicia Fiscal y Administrativa' 'FASP' 'FAIS Entidades'\n",
      " 'FAIS Municipal y de las Demarcaciones Territoriales del Distrito Federal'\n",
      " 'FORTAMUN' 'FAFEF' 'FASSA' 'FONE Servicios Personales'\n",
      " 'FONE Otros de Gasto Corriente' 'FONE Gasto de Operación'\n",
      " 'FONE Fondo de Compensación' 'FAM Infraestructura Educativa Básica'\n",
      " 'FAM Infraestructura Educativa Media Superior y Superior'\n",
      " 'FAETA Educación Tecnológica' 'FAETA Educación de Adultos'\n",
      " 'FAM Asistencia Social ' 'INDUSTRIA Descuento en pago'\n",
      " 'HIPOTECARIO-VIVIENDA' 'AGROINDUSTRIA Descuento en pago' 'I P A B'\n",
      " 'INDUSTRIA Descuento en pago Banca de Desarrollo'\n",
      " 'AGROINDUSTRIA Descuento en pago Banca de Desarrollo'\n",
      " 'INDUSTRIA Reestructuración en UDIs'\n",
      " 'HIPOTECARIO-VIVIENDA Reestructuración en UDIs'\n",
      " 'AGROINDUSTRIA Reestructuración en UDIs'\n",
      " 'ESTADOS Y MUNICIPIOS Reestructuración en UDIs'\n",
      " 'Establecer y dirigir la estrategia institucional para proteger, supervisar y promover los Derechos Humanos y presentar sus resultados.'\n",
      " 'Atender al público en general en oficinas centrales y foráneas; así como, investigar expedientes de presuntas violaciones a los Derechos Humanos.'\n",
      " 'Atender asuntos relacionados con víctimas del delito y de violaciones a derechos humanos'\n",
      " 'Atender asuntos relacionados con personas reportadas como desaparecidas y no localizadas'\n",
      " 'Atender asuntos relacionados con niñas, niños y adolescentes'\n",
      " 'Atender asuntos relacionados con Sexualidad, Salud y VIH '\n",
      " 'Atender asuntos relativos a la aplicación del Mecanismo Independiente de Monitoreo Nacional de la Convención sobre los Derechos de las Personas con Discapacidad'\n",
      " 'Atender asuntos relacionados con las y los jóvenes, las personas mayores y las familias'\n",
      " 'Proteger y observar la defensa, respeto y remedio de los derechos humanos de las personas o grupos de personas con mayores riesgos de vulnerabilidad ante abusos de las empresas públicas y privadas.'\n",
      " 'Supervisar la observancia e incidencia de los Derechos Humanos en los centros penitenciarios en la República Mexicana.'\n",
      " 'Protección y defensa de los Derechos Humanos de los integrantes de pueblos y comunidades indígenas y afrodescendientes, así como de las personas indígenas y afrodescendientes privadas de la libertad.'\n",
      " 'Realizar la promoción y observancia en el monitoreo, seguimiento y evaluación del impacto de la política nacional en materia de igualdad entre mujeres y hombres'\n",
      " 'Promover, fortalecer e impulsar los vínculos de colaboración interinstitucional; así como, diseñar y ejecutar los programas de educación y capacitación en materia de Derechos Humanos.'\n",
      " 'Contribuir a la protección de los derechos humanos y mantener relaciones de cooperación internacional con organismos afines nacionales e internacionales, así como realizar estudios en la materia y administrar el archivo institucional.'\n",
      " 'Promover, fortalecer e impulsar los vínculos de colaboración interinstitucional; así como, diseñar y ejecutar los programas de educación y capacitación en materia de Derechos Humanos, considerando los Tratados y Convenciones Internacionales que obligan al Estado mexicano.'\n",
      " 'Ejecutar el programa de comunicación social'\n",
      " 'Investigación, estudios formación y profesionalización en materia de derechos humanos.'\n",
      " 'Planear actividades, dar seguimiento y evaluar los resultados, analizar la información, monitorear el cumplimiento de los Derechos Humanos en el país, así como generar propuestas de mejora continua que contribuyan al fortalecimiento del desempeño institucional.'\n",
      " 'Apoyo a la función pública y buen gobierno'\n",
      " 'Atender asuntos relacionados con las personas migrantes, así como impulsar las acciones de protección y observancia en la materia.'\n",
      " 'Proteger y defender el respeto de los Derechos Humanos de periodistas y personas defensores de Derechos Humanos.'\n",
      " 'Proteger y defender el respeto de los Derechos Humanos de víctimas y posibles víctimas de la trata de personas.'\n",
      " 'Atender asuntos relacionados con los Derechos Humanos Económicos, Sociales, Culturales y Ambientales'\n",
      " 'Operar el Mecanismo Nacional de Prevención de la Tortura'\n",
      " 'Actividades relacionadas a la Igualdad de Género Institucional.'\n",
      " 'Implementar las políticas, programas y acciones tendientes a garantizar la seguridad pública de la Nación y sus habitantes'\n",
      " 'Plataforma México'\n",
      " 'Regulación de los servicios de seguridad privada para coadyuvar a la prevención del delito'\n",
      " 'Coordinación del Sistema Nacional de Protección Civil'\n",
      " 'Servicios de protección, custodia, vigilancia y seguridad de personas, bienes e instalaciones'\n",
      " 'Administración del Sistema Federal Penitenciario'\n",
      " 'Proyectos de infraestructura gubernamental de Seguridad Pública'\n",
      " 'Servicios de inteligencia para la Seguridad Nacional'\n",
      " 'Coordinación con las instancias que integran el Sistema Nacional de Seguridad Pública'\n",
      " 'Fondo para el Fortalecimiento de las Instituciones de Seguridad Pública'\n",
      " 'Operación de la Guardia Nacional para la prevención, investigación y persecución de delitos'\n",
      " 'Provisiones para infraestructura de seguridad'\n",
      " 'Asesoramiento en materia jurídica al Presidente de la Republica y al Gobierno Federal'\n",
      " 'Investigación científica, desarrollo e innovación'\n",
      " 'Programas nacionales estratégicos de ciencia, tecnología y vinculación con el sector social, público y privado'\n",
      " 'Diseño y evaluación de políticas en ciencia, tecnología e innovación'\n",
      " 'Becas de posgrado y apoyos a la calidad'\n",
      " 'Sistema Nacional de Investigadores'\n",
      " 'Planeación, Coordinación, Seguimiento y Evaluación del Sistema Nacional de Información Estadística y Geográfica'\n",
      " 'Producción y difusión de información estadística y geográfica'\n",
      " 'Censo Agropecuario' 'Censo de Población y Vivienda' 'Censos Económicos'\n",
      " 'Prevención y eliminación de prácticas y concentraciones monopólicas y demás restricciones a la competencia y libre concurrencia'\n",
      " 'Posicionar a la competencia económica en la agenda pública'\n",
      " 'Fortalecimiento e innovación institucional para el desarrollo de los sectores de Telecomunicaciones y Radiodifusión'\n",
      " 'Promoción de la competencia económica en los sectores de telecomunicaciones y radiodifusión'\n",
      " 'Regulación y supervisión de redes e infraestructura de telecomunicaciones y radiodifusión'\n",
      " 'Regulación de los servicios de Telecomunicaciones y Radiodifusión y fortalecimiento de los derechos de sus usuarios y audiencias'\n",
      " 'Regulación para el desarrollo del nuevo ecosistema digital'\n",
      " 'Garantizar el óptimo cumplimiento de los derechos de acceso a la información pública y la protección de datos personales'\n",
      " 'Promover el pleno ejercicio de los derechos de acceso a la información pública y de protección de datos personales'\n",
      " 'Coordinar el Sistema Nacional de Transparencia y Protección de Datos personales, así como ser miembro del Sistema Nacional Anticorrupción, del Sistema Nacional de Archivos y demás colegiados que establezcan las normas vigentes  '\n",
      " 'Desempeño organizacional y modelo institucional orientado a resultados con enfoque de derechos humanos y perspectiva de género'\n",
      " 'Regulación y permisos de Hidrocarburos'\n",
      " 'Regulación y permisos de electricidad'\n",
      " 'Promoción y regulación de Hidrocarburos'\n",
      " 'Administración Técnica de Asignaciones y Contratos'\n",
      " 'Estudios de Evaluación y Verificación de Hidrocarburos'\n",
      " 'Planeación y Articulación de la Acción Pública hacia los Pueblos Indígenas'\n",
      " 'Programa de Apoyo a la Educación Indígena'\n",
      " 'Programa para el Bienestar Integral de los Pueblos Indígenas'\n",
      " 'Recopilación y producción de material informativo (Notimex)'\n",
      " 'Fomento y promoción para el desarrollo del Corredor Interoceánico del Istmo de Tehuantepec'\n",
      " 'Planeación, diseño, ejecución y evaluación del Corredor Interoceánico del Istmo de Tehuantepec'\n",
      " 'Provisiones para el desarrollo regional del Istmo de Tehuantepec'\n",
      " 'Protección y Defensa de los Contribuyentes' 'Atención a Víctimas'\n",
      " 'Producción y Difusión de Materiales Audiovisuales'\n",
      " 'Promover el desarrollo, seguimiento y evaluación de políticas públicas integrales anticorrupción y la administración de la Plataforma Digital Nacional'\n",
      " 'Planeación, diseño, ejecución y evaluación del Sistema Nacional de Mejora Continua de la Educación'\n",
      " 'Preservación y difusión del acervo documental de la Nación y del patrimonio histórico, artístico y cultural del país'\n",
      " 'Gestión del Sistema Nacional de Archivos'\n",
      " 'Fortalecimiento de la Igualdad Sustantiva entre Mujeres y Hombres'\n",
      " 'Programa para el Adelanto, Bienestar e Igualdad de las Mujeres'\n",
      " 'Producción y transmisión de materiales Radiofónicos de contenidos informativo, educativo, cultural, de orientación, servicio y participación social, y recreativos'\n",
      " 'Proyectos de infraestructura social del sector cultura'\n",
      " 'Estímulos a la creación artística, reconocimientos a las trayectorias y apoyo al desarrollo de proyectos culturales'\n",
      " 'Programa de Apoyos a la Cultura'\n",
      " 'Protección y conservación del Patrimonio Cultural'\n",
      " 'Investigación Científica, Arqueológica y Antropológica'\n",
      " 'Provisiones para la adquisición de terrenos de Zonas Arqueológicas'\n",
      " 'Programa Nacional de Becas Artísticas y Culturales'\n",
      " 'Servicios educativos culturales y artísticos'\n",
      " 'Producción y transmisión de materiales culturales y artísticos'\n",
      " 'Protección de los derechos tutelados por la Ley Federal del Derecho de Autor'\n",
      " 'Servicios Cinematográficos'\n",
      " 'Producción y distribución de libros y materiales artísticos y culturales'\n",
      " 'Educación y cultura indígena' 'Fomento al Cine Mexicano'\n",
      " 'Programas del Fondo Nacional de Fomento a las Artesanías (FONART)'\n",
      " 'Investigar y perseguir los delitos del orden federal'\n",
      " 'Representar jurídicamente a la Fiscalía General de la República'\n",
      " 'Promover la formación profesional y capacitación del capital humano'\n",
      " 'Investigar y perseguir los delitos federales de carácter especial'\n",
      " 'Investigar y perseguir los delitos relativos a la Delincuencia Organizada'\n",
      " 'Investigar y perseguir los delitos cometidos en materia de derechos humanos'\n",
      " 'Investigar, perseguir y prevenir delitos del orden electoral'\n",
      " 'Fortalecimiento de las Capacidades Institucionales para la Investigación de Delitos'\n",
      " 'Proyectos de infraestructura gubernamental de procuración de justicia'\n",
      " 'Supervisar y vigilar la aplicación del marco legal en la investigación y persecución del delito del orden federal'\n",
      " 'Promover la solución de controversias en materia penal federal mediante la aplicación de mecanismos alternativos'\n",
      " 'Realizar investigación académica en el marco de las ciencias penales']\n",
      "[1000 2000 3000 4000 9000 6000 5000 7000 8000]\n",
      "['Servicios personales' 'Materiales y suministros' 'Servicios generales'\n",
      " 'Transferencias, asignaciones, subsidios y otras ayudas' 'Deuda pública'\n",
      " 'Inversión pública' 'Bienes muebles, inmuebles e intangibles'\n",
      " 'Inversiones financieras y otras provisiones'\n",
      " 'Participaciones y aportaciones']\n",
      "[1100 1300 1500 2100 2200 2600 3100 3300 3500 3700 3900 4500 1200 1400\n",
      " 2300 2400 2500 2700 2900 3200 3400 3800 4400 9200 6200 5600 5800 5100\n",
      " 5300 5400 3600 5900 4800 9300 9400 9500 1700 7900 4300 1600 4900 4600\n",
      " 7300 5200 2800 7200 8300 5700 8500 4700 4100 8100 9900 9600]\n",
      "['Remuneraciones al personal de carácter permanente'\n",
      " 'Remuneraciones adicionales y especiales'\n",
      " 'Otras prestaciones sociales y económicas'\n",
      " 'Materiales de administración, emisión de documentos y artículos oficiales'\n",
      " 'Alimentos y utensilios' 'Combustibles, lubricantes y aditivos'\n",
      " 'Servicios básicos'\n",
      " 'Servicios profesionales, científicos, técnicos y otros servicios'\n",
      " 'Servicios de instalación, reparación, mantenimiento y conservación'\n",
      " 'Servicios de traslado y viáticos' 'Otros servicios generales'\n",
      " 'Pensiones y jubilaciones'\n",
      " 'Remuneraciones al personal de carácter transitorio' 'Seguridad social'\n",
      " 'Materias primas y materiales de producción y comercialización'\n",
      " 'Materiales y artículos de construcción y de reparación'\n",
      " 'Productos químicos, farmacéuticos y de laboratorio'\n",
      " 'Vestuario, blancos, prendas de protección y artículos deportivos'\n",
      " 'Herramientas, refacciones y accesorios menores'\n",
      " 'Servicios de arrendamiento'\n",
      " 'Servicios financieros, bancarios y comerciales' 'Servicios oficiales'\n",
      " 'Ayudas sociales' 'Intereses de la deuda pública'\n",
      " 'Obra pública en bienes propios'\n",
      " 'Maquinaria, otros equipos y herramientas' 'Bienes inmuebles'\n",
      " 'Mobiliario y equipo de administración'\n",
      " 'Equipo e instrumental médico y de laboratorio'\n",
      " 'Vehículos y equipo de transporte'\n",
      " 'Servicios de comunicación social y publicidad' 'Activos intangibles'\n",
      " 'Donativos' 'Comisiones de la deuda pública' 'Gastos de la deuda pública'\n",
      " 'Costo por coberturas' 'Pago de estímulos a servidores públicos'\n",
      " 'Provisiones para contingencias y otras erogaciones especiales'\n",
      " 'Subsidios y subvenciones' 'Previsiones' 'Transferencias al exterior'\n",
      " 'Transferencias a fideicomisos, mandatos y otros análogos'\n",
      " 'Compra de títulos y valores'\n",
      " 'Mobiliario y equipo educacional y recreativo'\n",
      " 'Materiales y suministros para seguridad'\n",
      " 'Acciones y participaciones de capital' 'Aportaciones'\n",
      " 'Activos biológicos' 'Convenios' 'Transferencias a la seguridad social'\n",
      " 'Transferencias internas y asignaciones al sector público'\n",
      " 'Participaciones' 'Adeudos de ejercicios fiscales anteriores (ADEFAS)'\n",
      " 'Apoyos financieros']\n",
      "[113 132 151 154 159 211 214 221 261 318 319 336 352 372 375 392 452 121\n",
      " 133 141 143 215 216 234 239 241 246 247 248 249 255 259 271 272 294 296\n",
      " 298 299 313 316 322 323 325 326 329 331 333 334 338 341 347 351 353 355\n",
      " 357 358 359 376 383 385 394 398 441 921 623 569 589 314 315 371 393 395\n",
      " 396 519 532 541 563 565 566 567 317 339 361 384 511 348 515 236 311 345\n",
      " 581 591 482 924 931 932 941 942 951 399 131 134 171 254 291 292 293 312\n",
      " 244 122 123 324 212 223 242 243 245 253 295 251 354 531 144 273 327 391\n",
      " 799 459 434 142 346 335 161 252 274 275 369 481 492 152 622 629 562 343\n",
      " 217 231 382 444 153 377 461 545 739 321 378 111 218 222 256 332 344 366\n",
      " 439 512 513 549 597 213 363 521 523 155 381 337 442 463 282 356 114 438\n",
      " 233 379 373 725 831 232 362 112 135 136 237 281 297 283 235 579 522 561\n",
      " 543 564 431 437 625 626 851 627 238 124 624 433 471 415 544 445 349 922\n",
      " 927 926 925 811 812 814 835 991 962 491 485]\n",
      "['Sueldos base al personal permanente'\n",
      " 'Primas de vacaciones, dominical y gratificación de fin de año'\n",
      " 'Cuotas para el fondo de ahorro y fondo de trabajo'\n",
      " 'Prestaciones contractuales' 'Otras prestaciones sociales y económicas'\n",
      " 'Materiales, útiles y equipos menores de oficina'\n",
      " 'Materiales, útiles y equipos menores de tecnologías de la información y comunicaciones'\n",
      " 'Productos alimenticios para personas'\n",
      " 'Combustibles, lubricantes y aditivos'\n",
      " 'Servicios postales y telegráficos'\n",
      " 'Servicios integrales y otros servicios'\n",
      " 'Servicios de apoyo administrativo, traducción, fotocopiado e impresión'\n",
      " 'Instalación, reparación y mantenimiento de mobiliario y equipo de administración, educacional y recreativo'\n",
      " 'Pasajes terrestres' 'Viáticos en el país' 'Impuestos y derechos'\n",
      " 'Jubilaciones' 'Honorarios asimilables a salarios'\n",
      " 'Horas extraordinarias' 'Aportaciones de seguridad social'\n",
      " 'Aportaciones al sistema para el retiro'\n",
      " 'Material impreso e información digital' 'Material de limpieza'\n",
      " 'Combustibles, lubricantes, aditivos, carbón y sus derivados adquiridos como materia prima'\n",
      " 'Otros productos adquiridos como materia prima'\n",
      " 'Productos minerales no metálicos' 'Material eléctrico y electrónico'\n",
      " 'Artículos metálicos para la construcción' 'Materiales complementarios'\n",
      " 'Otros materiales y artículos de construcción y reparación'\n",
      " 'Materiales, accesorios y suministros de laboratorio'\n",
      " 'Otros productos químicos' 'Vestuario y uniformes'\n",
      " 'Prendas de seguridad y protección personal'\n",
      " 'Refacciones y accesorios menores de equipo de cómputo y tecnologías de la información'\n",
      " 'Refacciones y accesorios menores de equipo de transporte'\n",
      " 'Refacciones y accesorios menores de maquinaria y otros equipos'\n",
      " 'Refacciones y accesorios menores otros bienes muebles' 'Agua'\n",
      " 'Servicios de telecomunicaciones y satélites'\n",
      " 'Arrendamiento de edificios'\n",
      " 'Arrendamiento de mobiliario y equipo de administración, educacional y recreativo'\n",
      " 'Arrendamiento de equipo de transporte'\n",
      " 'Arrendamiento de maquinaria, otros equipos y herramientas'\n",
      " 'Otros arrendamientos'\n",
      " 'Servicios legales, de contabilidad, auditoría y relacionados'\n",
      " 'Servicios de consultoría administrativa, procesos, técnica y en tecnologías de la información'\n",
      " 'Servicios de capacitación' 'Servicios de vigilancia'\n",
      " 'Servicios financieros y bancarios' 'Fletes y maniobras'\n",
      " 'Conservación y mantenimiento menor de inmuebles'\n",
      " 'Instalación, reparación y mantenimiento de equipo de cómputo y tecnología de la información'\n",
      " 'Reparación y mantenimiento de equipo de transporte'\n",
      " 'Instalación, reparación y mantenimiento de maquinaria, otros equipos y herramienta'\n",
      " 'Servicios de limpieza y manejo de desechos'\n",
      " 'Servicios de jardinería y fumigación' 'Viáticos en el extranjero'\n",
      " 'Congresos y convenciones' 'Gastos de representación'\n",
      " 'Sentencias y resoluciones por autoridad competente'\n",
      " 'Impuesto sobre nóminas y otros que se deriven de una relación laboral'\n",
      " 'Ayudas sociales a personas'\n",
      " 'Intereses de la deuda interna con instituciones de crédito'\n",
      " 'Construcción de obras para el abastecimiento de agua, petróleo, gas, electricidad y telecomunicaciones'\n",
      " 'Otros equipos' 'Otros bienes inmuebles' 'Telefonía tradicional'\n",
      " 'Telefonía celular' 'Pasajes aéreos'\n",
      " 'Impuestos y derechos de importación'\n",
      " 'Penas, multas, accesorios y actualizaciones'\n",
      " 'Otros gastos por responsabilidades'\n",
      " 'Otros mobiliarios y equipos de administración'\n",
      " 'Instrumental médico y de laboratorio' 'Vehículos y Equipo Terrestre'\n",
      " 'Maquinaria y equipo de construcción'\n",
      " 'Equipo de comunicación y telecomunicación'\n",
      " 'Equipos de generación eléctrica, aparatos y accesorios eléctricos'\n",
      " 'Herramientas y máquinas-herramienta'\n",
      " 'Servicios de acceso de Internet, redes y procesamiento de información'\n",
      " 'Servicios profesionales, científicos y técnicos integrales'\n",
      " 'Difusión por radio, televisión y otros medios de mensajes sobre programas y actividades gubernamentales'\n",
      " 'Exposiciones' 'Muebles de oficina y estantería' 'Comisiones por ventas'\n",
      " 'Equipo de cómputo y de tecnologías de la información'\n",
      " 'Productos metálicos y a base de minerales no metálicos adquiridos como materia prima'\n",
      " 'Energía eléctrica' 'Seguro de bienes patrimoniales' 'Terrenos'\n",
      " 'Software' 'Donativos a entidades federativas'\n",
      " 'Intereses de la deuda externa con instituciones de crédito'\n",
      " 'Comisiones de la deuda pública interna'\n",
      " 'Comisiones de la deuda pública externa'\n",
      " 'Gastos de la deuda pública interna' 'Gastos de la deuda pública externa'\n",
      " 'Costos por coberturas' 'Otros servicios generales'\n",
      " 'Primas por años de servicios efectivos prestados' 'Compensaciones'\n",
      " 'Estímulos' 'Materiales, accesorios y suministros médicos'\n",
      " 'Herramientas menores' 'Refacciones y accesorios menores de edificios'\n",
      " 'Refacciones y accesorios menores de mobiliario y equipo de administración, educacional y recreativo'\n",
      " 'Gas' 'Madera y productos de madera' 'Sueldos base al personal eventual'\n",
      " 'Retribuciones por servicios de carácter social'\n",
      " 'Arrendamiento de equipo e instrumental médico y de laboratorio'\n",
      " 'Materiales y útiles de impresión y reproducción'\n",
      " 'Utensilios para el servicio de alimentación'\n",
      " 'Cemento y productos de concreto' 'Cal, yeso y productos de yeso'\n",
      " 'Vidrio y productos de vidrio' 'Medicinas y productos farmacéuticos'\n",
      " 'Refacciones y accesorios menores de equipo e instrumental médico y de laboratorio'\n",
      " 'Productos químicos básicos'\n",
      " 'Instalación, reparación y mantenimiento de equipo e instrumental médico y de laboratorio'\n",
      " 'Equipo médico y de laboratorio' 'Aportaciones para seguros'\n",
      " 'Artículos deportivos' 'Arrendamiento de activos intangibles'\n",
      " 'Servicios funerarios y de cementerios' 'Otras erogaciones especiales'\n",
      " 'Otras pensiones y jubilaciones'\n",
      " 'Subsidios a la prestación de servicios públicos'\n",
      " 'Aportaciones a fondos de vivienda' 'Almacenaje, envase y embalaje'\n",
      " 'Servicios de investigación científica y desarrollo'\n",
      " 'Previsiones de carácter laboral, económica y de seguridad social'\n",
      " 'Fertilizantes, pesticidas y otros agroquímicos' 'Productos textiles'\n",
      " 'Blancos y otros productos textiles, excepto prendas de vestir'\n",
      " 'Otros servicios de información'\n",
      " 'Donativos a instituciones sin fines de lucro'\n",
      " 'Transferencias para organismos internacionales' 'Indemnizaciones'\n",
      " 'Edificación no habitacional'\n",
      " 'Trabajos de acabados en edificaciones y otros trabajos especializados'\n",
      " 'Maquinaria y equipo industrial'\n",
      " 'Servicios de recaudación, traslado y custodia de valores'\n",
      " 'Materiales y útiles de enseñanza'\n",
      " 'Productos alimenticios, agropecuarios y forestales adquiridos como materia prima'\n",
      " 'Gastos de orden social y cultural'\n",
      " 'Ayudas sociales a actividades científicas o académicas'\n",
      " 'Prestaciones y haberes de retiro'\n",
      " 'Gastos de instalación y traslado de menaje'\n",
      " 'Transferencias a fideicomisos del Poder Ejecutivo' 'Embarcaciones'\n",
      " 'Otros valores' 'Arrendamiento de terrenos'\n",
      " 'Servicios integrales de traslado y viáticos' 'Dietas'\n",
      " 'Materiales para el registro e identificación de bienes y personas'\n",
      " 'Productos alimenticios para animales'\n",
      " 'Fibras sintéticas, hules, plásticos y derivados'\n",
      " 'Servicios de diseño, arquitectura, ingeniería y actividades relacionadas'\n",
      " 'Seguros de responsabilidad patrimonial y fianzas'\n",
      " 'Servicio de creación y difusión de contenido exclusivamente a través de Internet'\n",
      " 'Otros subsidios' 'Muebles, excepto de oficina y estantería'\n",
      " 'Bienes artísticos, culturales y científicos'\n",
      " 'Otros equipos de transporte' 'Licencias informáticas e intelectuales'\n",
      " 'Material estadístico y geográfico'\n",
      " 'Servicios de creatividad, preproducción y producción de publicidad, excepto Internet'\n",
      " 'Equipos y aparatos audiovisuales' 'Cámaras fotográficas y de video'\n",
      " 'Apoyos a la capacitación de los servidores públicos'\n",
      " 'Gastos de ceremonial' 'Servicios de protección y seguridad'\n",
      " 'Becas y otras ayudas para programas de capacitación'\n",
      " 'Transferencias a fideicomisos del Poder Judicial'\n",
      " 'Materiales de seguridad pública'\n",
      " 'Reparación y mantenimiento de equipo de defensa y seguridad'\n",
      " 'Remuneraciones por adscripción laboral en el extranjero'\n",
      " 'Subsidios a Entidades Federativas y Municipios'\n",
      " 'Productos de papel, cartón e impresos adquiridos como materia prima'\n",
      " 'Otros servicios de traslado y hospedaje'\n",
      " 'Pasajes marítimos, lacustres y fluviales'\n",
      " 'Acciones y participaciones de capital en organismos internacionales con fines de política económica'\n",
      " 'Aportaciones de la Federación a las entidades federativas'\n",
      " 'Insumos textiles adquiridos como materia prima'\n",
      " 'Difusión por radio, televisión y otros medios de mensajes comerciales para promover la venta de bienes o servicios'\n",
      " 'Haberes' 'Sobrehaberes'\n",
      " 'Asignaciones de técnico, de mando, por comisión, de vuelo y de técnico especial'\n",
      " 'Productos de cuero, piel, plástico y hule adquiridos como materia prima'\n",
      " 'Sustancias y materiales explosivos'\n",
      " 'Refacciones y accesorios menores de equipo de defensa y seguridad'\n",
      " 'Prendas de protección para seguridad pública y nacional'\n",
      " 'Productos químicos, farmacéuticos y de laboratorio adquiridos como materia prima'\n",
      " 'Otros activos biológicos' 'Aparatos deportivos'\n",
      " 'Maquinaria y equipo agropecuario' 'Equipo aeroespacial'\n",
      " 'Sistemas de aire acondicionado, calefacción y de refrigeración industrial y comercial'\n",
      " 'Subsidios a la producción' 'Subvenciones al consumo'\n",
      " 'Construcción de vías de comunicación'\n",
      " 'Otras construcciones de ingeniería civil u obra pesada'\n",
      " 'Convenios de reasignación'\n",
      " 'Instalaciones y equipamiento en construcciones'\n",
      " 'Mercancías adquiridas para su comercialización'\n",
      " 'Retribución a los representantes de los trabajadores y de los patrones en la Junta de Conciliación y Arbitraje'\n",
      " 'División de terrenos y construcción de obras de urbanización'\n",
      " 'Subsidios a la inversión' 'Transferencias por obligación de ley'\n",
      " 'Transferencias internas otorgadas a entidades paraestatales no empresariales y no financieras'\n",
      " 'Equipo ferroviario' 'Ayudas sociales a instituciones sin fines de lucro'\n",
      " 'Servicios financieros, bancarios y comerciales integrales'\n",
      " 'Intereses derivados de la colocación de títulos y valores'\n",
      " 'Intereses derivados de la colocación de títulos y valores en el exterior'\n",
      " 'Intereses de la deuda bilateral'\n",
      " 'Intereses de la deuda con organismos financieros Internacionales'\n",
      " 'Fondo general de participaciones' 'Fondo de fomento municipal'\n",
      " 'Otros conceptos participables de la Federación a entidades federativas'\n",
      " 'Aportaciones previstas en leyes y decretos compensatorias a entidades federativas y municipios'\n",
      " 'ADEFAS'\n",
      " 'Apoyos a ahorradores y deudores del Sistema Financiero Nacional'\n",
      " 'Transferencias para gobiernos extranjeros' 'Donativos internacionales']\n",
      "[11301 13201 13202 15101 15401 15402 15901 21101 21401 22104 26102 31801\n",
      " 31902 33602 33605 35201 37201 37501 39202 45202 12101 13301 14103 14301\n",
      " 21501 21601 22106 23401 23901 24101 24601 24701 24801 24901 25501 25901\n",
      " 26106 26107 26108 27101 27201 29401 29601 29801 29901 31301 31602 32201\n",
      " 32302 32502 32601 32902 33104 33301 33401 33604 33801 34101 34701 35101\n",
      " 35301 35501 35701 35702 35801 35901 37602 38301 38501 39401 39801 44106\n",
      " 92101 62301 62302 56901 58904 31401 31501 37101 37206 39301 39501 39602\n",
      " 51901 53201 54103 56301 56501 56601 56701 56902 31601 31701 33903 36101\n",
      " 38401 51101 34801 39601 51501 23601 31101 34501 37106 31901 58101 59101\n",
      " 58902 32301 48201 92102 92401 92402 93101 93201 94101 94201 95101 39908\n",
      " 39909 13101 13410 15403 17102 25401 26103 29101 29201 29301 31201 31603\n",
      " 37104 37204 37504 24401 33901 12201 12301 13404 13407 13411 22102 22103\n",
      " 32401 35102 44102 21201 22301 24201 24301 24501 25301 26105 29501 33904\n",
      " 25101 35401 53101 14406 27301 32503 32701 33603 39101 44101 79902 45901\n",
      " 45902 43401 45201 14101 14105 14201 14302 14401 14405 31904 33302 33303\n",
      " 33601 34601 33501 33606 16101 16102 16103 16104 16105 16106 16107 16108\n",
      " 25201 27401 27501 33105 33304 36901 48101 49201 15202 21502 31802 44105\n",
      " 14202 15902 62201 62202 62905 56201 34301 21701 23101 38201 44402 13414\n",
      " 14104 15301 15201 32901 37701 46101 54104 54502 73902 32101 37801 11101\n",
      " 13204 13402 13403 17101 21801 22201 25601 26104 32903 33106 33201 34401\n",
      " 36601 39902 39903 43901 51201 51301 54901 59701 21301 32303 62903 36301\n",
      " 37802 52101 52301 39910 15501 38101 44103 33701 14403 14404 15405 32505\n",
      " 37207 44201 46301 13104 28201 44401 35601 11401 13412 43801 23301 37901\n",
      " 37102 37105 37202 37502 37601 13405 39901 37304 58903 72501 83118 33103\n",
      " 43902 37301 39904 33101 23201 36201 46102 11201 13406 13501 13601 13602\n",
      " 13605 14102 14402 15102 15103 22101 26101 23701 28101 29701 44104 28301\n",
      " 32501 32504 23501 57901 52201 56101 13103 13604 54301 39201 56401 38102\n",
      " 43101 13102 13409 31903 43701 62501 62904 62502 62601 85101 58901 33902\n",
      " 62701 33102 13401 13408 12202 23801 23902 12401 39402 62401 62602 37103\n",
      " 37203 43301 73903 47102 47101 45203 41501 54401 62403 44107 21102 44501\n",
      " 44502 44109 34901 44108 44110 13413 92201 92701 92601 92501 83106 83107\n",
      " 83108 83110 83111 83115 83116 83117 83101 83102 83109 83112 83113 81101\n",
      " 81201 81401 83501 99101 99901 83103 83104 83105 83114 96201 21199 26199\n",
      " 33199 37199 39199 31199 32199 35199 44199 22199 49199 36199 56199 38199\n",
      " 24199 29199 25199 34199 51199 27199 54199 37503 37302 33905 39403 49202\n",
      " 48501 62902]\n",
      "['Sueldos base' 'Primas de vacaciones y dominical'\n",
      " 'Aguinaldo o gratificación de fin de año'\n",
      " 'Cuotas para el fondo de ahorro del personal civil'\n",
      " 'Prestaciones establecidas por condiciones generales de trabajo o contratos colectivos de trabajo'\n",
      " 'Compensación garantizada' 'Otras prestaciones'\n",
      " 'Materiales y útiles de oficina'\n",
      " 'Materiales y útiles consumibles para el procesamiento en equipos y bienes informáticos'\n",
      " 'Productos alimenticios para el personal en las instalaciones de las dependencias y entidades'\n",
      " 'Combustibles, lubricantes y aditivos para vehículos terrestres, aéreos, marítimos, lacustres y fluviales destinados a servicios públicos y la operación de programas públicos'\n",
      " 'Servicio postal' 'Contratación de otros servicios'\n",
      " 'Otros servicios comerciales'\n",
      " 'Información en medios masivos derivada de la operación y administración de las dependencias y entidades'\n",
      " 'Mantenimiento y conservación de mobiliario y equipo de administración'\n",
      " 'Pasajes terrestres nacionales para labores en campo y de supervisión'\n",
      " 'Viáticos nacionales para labores en campo y de supervisión'\n",
      " 'Otros impuestos y derechos'\n",
      " 'Pago de pensiones y jubilaciones contractuales' 'Honorarios'\n",
      " 'Remuneraciones por horas extraordinarias' 'Aportaciones al IMSS'\n",
      " 'Aportaciones al Sistema de Ahorro para el Retiro'\n",
      " 'Material de apoyo informativo' 'Material de limpieza'\n",
      " 'Productos alimenticios para el personal derivado de actividades extraordinarias'\n",
      " 'Combustibles, lubricantes, aditivos, carbón y sus derivados adquiridos como materia prima'\n",
      " 'Otros productos adquiridos como materia prima'\n",
      " 'Productos minerales no metálicos' 'Material eléctrico y electrónico'\n",
      " 'Artículos metálicos para la construcción' 'Materiales complementarios'\n",
      " 'Otros materiales y artículos de construcción y reparación'\n",
      " 'Materiales, accesorios y suministros de laboratorio'\n",
      " 'Otros productos químicos' 'PIDIREGAS cargos variables'\n",
      " 'Combustibles nacionales para plantas productivas'\n",
      " 'Combustibles de importación para plantas productivas'\n",
      " 'Vestuario y uniformes' 'Prendas de protección personal'\n",
      " 'Refacciones y accesorios para equipo de cómputo y telecomunicaciones'\n",
      " 'Refacciones y accesorios menores de equipo de transporte'\n",
      " 'Refacciones y accesorios menores de maquinaria y otros equipos'\n",
      " 'Refacciones y accesorios menores otros bienes muebles'\n",
      " 'Servicio de agua' 'Servicios de telecomunicaciones'\n",
      " 'Arrendamiento de edificios y locales' 'Arrendamiento de mobiliario'\n",
      " 'Arrendamiento de vehículos terrestres, aéreos, marítimos, lacustres y fluviales para servicios públicos y la operación de programas públicos'\n",
      " 'Arrendamiento de maquinaria y equipo' 'PIDIREGAS cargos fijos'\n",
      " 'Otras asesorías para la operación de programas'\n",
      " 'Servicios de desarrollo de aplicaciones informáticas'\n",
      " 'Servicios para capacitación a servidores públicos'\n",
      " 'Impresión y elaboración de material informativo derivado de la operación y administración de las dependencias y entidades'\n",
      " 'Servicios de vigilancia' 'Servicios bancarios y financieros'\n",
      " 'Fletes y maniobras'\n",
      " 'Mantenimiento y conservación de inmuebles para la prestación de servicios administrativos'\n",
      " 'Mantenimiento y conservación de bienes informáticos'\n",
      " 'Mantenimiento y conservación de vehículos terrestres, aéreos, marítimos, lacustres y fluviales'\n",
      " 'Mantenimiento y conservación de maquinaria y equipo'\n",
      " 'Mantenimiento y conservación de plantas e instalaciones productivas'\n",
      " 'Servicios de lavandería, limpieza e higiene'\n",
      " 'Servicios de jardinería y fumigación'\n",
      " 'Viáticos en el extranjero para servidores públicos en el desempeño de comisiones y funciones oficiales'\n",
      " 'Congresos y convenciones'\n",
      " 'Gastos para alimentación de servidores públicos de mando'\n",
      " 'Erogaciones por resoluciones por autoridad competente'\n",
      " 'Impuesto sobre nóminas'\n",
      " 'Compensaciones por servicios de carácter social'\n",
      " 'Intereses de la deuda interna con instituciones de crédito'\n",
      " 'Construcción de obras para el abastecimiento de agua, petróleo, gas, electricidad y telecomunicaciones'\n",
      " 'Mantenimiento y rehabilitación de obras para el abastecimiento de agua, petróleo, gas, electricidad y telecomunicaciones'\n",
      " 'Bienes muebles por arrendamiento financiero' 'Otros bienes inmuebles'\n",
      " 'Servicio telefónico convencional' 'Servicio de telefonía celular'\n",
      " 'Pasajes aéreos nacionales para labores en campo y de supervisión'\n",
      " 'Pasajes terrestres internacionales para servidores públicos en el desempeño de comisiones y funciones oficiales'\n",
      " 'Impuestos y derechos de importación'\n",
      " 'Penas, multas, accesorios y actualizaciones'\n",
      " 'Otros gastos por responsabilidades' 'Equipo de administración'\n",
      " 'Instrumental médico y de laboratorio'\n",
      " 'Vehículos y equipo terrestres, destinados a servicios públicos y la operación de programas públicos'\n",
      " 'Maquinaria y equipo de construcción'\n",
      " 'Equipos y aparatos de comunicaciones y telecomunicaciones'\n",
      " 'Maquinaria y equipo eléctrico y electrónico'\n",
      " 'Herramientas y máquinas herramienta' 'Otros bienes muebles'\n",
      " 'Servicio de radiolocalización'\n",
      " 'Servicios de conducción de señales analógicas y digitales'\n",
      " 'Servicios integrales'\n",
      " 'Difusión de mensajes sobre programas y actividades gubernamentales'\n",
      " 'Exposiciones' 'Mobiliario' 'Comisiones por ventas'\n",
      " 'Pérdidas del erario federal' 'Bienes informáticos'\n",
      " 'Productos metálicos y a base de minerales no metálicos adquiridos como prima'\n",
      " 'Servicio de energía eléctrica' 'Seguros de bienes patrimoniales'\n",
      " 'Pasajes aéreos internacionales para servidores públicos en el desempeño de comisiones y funciones oficiales'\n",
      " 'Servicios integrales de telecomunicación' 'Terrenos' 'Software'\n",
      " 'Bienes inmuebles en la modalidad de proyectos de infraestructura productiva de largo plazo'\n",
      " 'Arrendamiento de equipo y bienes informáticos'\n",
      " 'Donativos a entidades federativas o municípios'\n",
      " 'Intereses de la deuda interna derivada de proyectos de infraestructura productiva de largo plazo'\n",
      " 'Intereses de la deuda externa con instituciones de crédito'\n",
      " 'Intereses de la deuda externa derivada de proyectos de infraestructura productiva de largo plazo'\n",
      " 'Comisiones de la deuda interna' 'Comisiones de la deuda externa'\n",
      " 'Gastos de la deuda interna' 'Gastos de la deuda externa'\n",
      " 'Costo por coberturas' 'Erogaciones por cuenta de terceros'\n",
      " 'Erogaciones recuperables'\n",
      " 'Prima quinquenal por años de servicios efectivos prestados'\n",
      " 'Compensación por actualización y formación académica'\n",
      " 'Asignaciones adicionales al sueldo' 'Estímulos al personal operativo'\n",
      " 'Materiales, accesorios y suministros médicos'\n",
      " 'Combustibles, lubricantes y aditivos para vehículos terrestres, aéreos, marítimos, lacustres y fluviales destinados a servicios administrativos'\n",
      " 'Herramientas menores' 'Refacciones y accesorios menores de edificios'\n",
      " 'Refacciones y accesorios menores de mobiliario y equipo de administración,educacional y recreativo'\n",
      " 'Servicio de gas' 'Servicios de internet'\n",
      " 'Pasajes aéreos nacionales para servidores públicos de mando en el desempeño de comisiones y funciones oficiales'\n",
      " 'Pasajes terrestres nacionales para servidores públicos de mando en el desempeño de comisiones y funciones oficiales'\n",
      " 'Viáticos nacionales para servidores públicos en el desempeño de funciones oficiales'\n",
      " 'Madera y productos de madera'\n",
      " 'Subcontratación de servicios con terceros'\n",
      " 'Remuneraciones al personal eventual'\n",
      " 'Retribuciones por servicios en período de formación profesional'\n",
      " 'Compensaciones por servicios eventuales'\n",
      " 'Compensaciones adicionales por servicios especiales'\n",
      " 'Compensaciones a médicos residentes'\n",
      " 'Productos alimenticios para personas derivado de la prestación de servicios públicos en unidades de salud, educativas, de readaptación social y otras'\n",
      " 'Productos alimenticios para el personal que realiza labores en campo o de supervisión'\n",
      " 'Arrendamiento de equipo e instrumental médico y de laboratorio'\n",
      " 'Mantenimiento y conservación de inmuebles para la prestación de servicios públicos'\n",
      " 'Gastos por servicios de traslado de personas'\n",
      " 'Materiales y útiles de impresión y reproducción'\n",
      " 'Utensilios para el servicio de alimentación'\n",
      " 'Cemento y productos de concreto' 'Cal, yeso y productos de yeso'\n",
      " 'Vidrio y productos de vidrio' 'Medicinas y productos farmacéuticos'\n",
      " 'Combustibles, lubricantes y aditivos para maquinaria, equipo de producción y servicios administrativos'\n",
      " 'Refacciones y accesorios menores de equipo e instrumental médico y de laboratorio'\n",
      " 'Asignaciones derivadas de proyectos de asociación público privada'\n",
      " 'Productos químicos básicos'\n",
      " 'Instalación, reparación y mantenimiento de equipo e instrumental médico y de laboratorio'\n",
      " 'Equipo médico y de laboratorio'\n",
      " 'Seguro de responsabilidad civil, asistencia legal y otros seguros'\n",
      " 'Artículos deportivos'\n",
      " 'Arrendamiento de vehículos terrestres, aéreos, marítimos, lacustres y fluviales para servicios administrativos'\n",
      " 'Patentes, derechos de autor, regalías y otros'\n",
      " 'Impresiones de documentos oficiales para la prestación de servicios públicos, identificación, formatos administrativos y fiscales, formas valoradas, certificados y títulos'\n",
      " 'Funerales y pagas de defunción'\n",
      " 'Gastos relacionados con actividades culturales, deportivas y de ayuda extraordinaria'\n",
      " 'Provisiones para erogaciones especiales' 'Pago de sumas aseguradas'\n",
      " 'Prestaciones económicas distintas de pensiones y jubilaciones'\n",
      " 'Subsidios a la prestación de servicios públicos'\n",
      " 'Pago de pensiones y jubilaciones' 'Aportaciones al ISSSTE'\n",
      " 'Aportaciones al seguro de cesantía en edad avanzada y vejez'\n",
      " 'Aportaciones al FOVISSSTE' 'Depósitos para el ahorro solidario'\n",
      " 'Cuotas para el seguro de vida del personal civil'\n",
      " 'Cuotas para el seguro colectivo de retiro'\n",
      " 'Servicios integrales de infraestructura de cómputo'\n",
      " 'Servicios estadísticos y geográficos'\n",
      " 'Servicios relacionados con certificación de procesos'\n",
      " 'Servicios relacionados con traducciones' 'Almacenaje, embalaje y envase'\n",
      " 'Estudios e investigaciones' 'Servicios de digitalización'\n",
      " 'Incrementos a las percepciones' 'Creación de plazas'\n",
      " 'Otras medidas de carácter laboral y económico'\n",
      " 'Previsiones para aportaciones al ISSSTE'\n",
      " 'Previsiones para aportaciones al FOVISSSTE'\n",
      " 'Previsiones para aportaciones al Sistema de Ahorro para el Retiro'\n",
      " 'Previsiones para aportaciones al seguro de cesantía en edad avanzada y vejez'\n",
      " 'Previsiones para los depósitos al ahorro solidario'\n",
      " 'Plaguicidas, abonos y fertilizantes' 'Productos textiles'\n",
      " 'Blancos y otros productos textiles, excepto prendas de vestir'\n",
      " 'Servicios relacionados con procedimientos jurisdiccionales'\n",
      " 'Servicios de mantenimiento de aplicaciones informáticas'\n",
      " 'Servicios relacionados con monitoreo de información en medios masivos'\n",
      " 'Enteros de los seguros de cesantía y vejéz, invalidez y vida y riesgos de trabajo'\n",
      " 'Donativos a instituciones sin fines de lucro'\n",
      " 'Cuotas y aportaciones a organismos internacionales'\n",
      " 'Pago de liquidaciones'\n",
      " 'Material para información en actividades de investigación científica y tecnológica'\n",
      " 'Servicio telegráfico'\n",
      " 'Apoyo a voluntarios que participan en diversos programas federales'\n",
      " 'Aportaciones al INFONAVIT' 'Pago extraordinario por riesgo'\n",
      " 'Obras de construcción para edificios no habitacionales'\n",
      " 'Mantenimiento y rehabilitación de edificaciones no habitacionales'\n",
      " 'Otros servicios relacionados con obras públicas'\n",
      " 'Maquinaria y equipo industrial' 'Gastos inherentes a la recaudación'\n",
      " 'Materiales y suministros para planteles educativos'\n",
      " 'Productos alimenticios, agropecuarios y forestales adquiridos como materia prima'\n",
      " 'Gastos de orden social'\n",
      " 'Apoyos a la investigación científica y tecnológica en instituciones sin fines de lucro'\n",
      " 'Asignaciones conforme al régimen laboral'\n",
      " 'Aportaciones de seguridad social contractuales' 'Prestaciones de retiro'\n",
      " 'Indemnizaciones por accidentes en el trabajo'\n",
      " 'Arrendamiento de sustancias y productos químicos'\n",
      " 'Instalación del personal federal' 'Aportaciones a fideicomisos públicos'\n",
      " 'Vehículos y equipo terrestres, destinados a servicios administrativos'\n",
      " 'Vehículos y equipo marítimo, destinados a servicios públicos y la operación de programas públicos'\n",
      " 'Adquisición de acciones' 'Arrendamiento de terrenos'\n",
      " 'Servicios integrales nacionales para servidores públicos en el desempeño de comisiones y funciones oficiales'\n",
      " 'Dietas (Ramos Autónomos)'\n",
      " 'Retribuciones por servicios de carácter social'\n",
      " 'Primas de vacaciones y dominical de áreas administrativas (Ramos Autónomos)'\n",
      " 'Compensaciones por servicios especiales'\n",
      " 'Impuesto del aguinaldo y prima vacacional'\n",
      " 'Estímulos por productividad y eficiencia'\n",
      " 'Materiales y útiles para el procesamiento en equipos y bienes informáticos'\n",
      " 'Materiales para el registro e identificación de bienes y personas (Ramos Autónomos)'\n",
      " 'Productos alimenticios para animales'\n",
      " 'Fibras sintéticas, hules, plásticos y derivados (Ramos Autónomos)'\n",
      " 'Combustibles, lubricantes y aditivos para vehículos terrestres, aéreos, marítimos, lacustres y fluviales asignados a servidores públicos'\n",
      " 'Refacciones y accesorios para equipo de cómputo'\n",
      " 'Patentes, regalías y otros' 'Otros Arrendamientos'\n",
      " 'Servicios legales, de contabilidad, auditoría y relacionados (Ramos Autónomos)'\n",
      " 'Servicios de diseño, arquitectura, ingeniería y actividades relacionadas (Ramos Autónomos)'\n",
      " 'Servicios de consultoría administrativa, procesos, técnica y en tecnologías de la información'\n",
      " 'Seguro de responsabilidad patrimonial del Estado'\n",
      " 'Servicio de creación y difusión de contenido exclusivamente a través de Internet (Ramos Autónomos)'\n",
      " 'Otros servicios generales'\n",
      " 'Asignaciones a los grupos parlamentarios (Ramos Autónomos)'\n",
      " 'Otros subsidios y subvenciones'\n",
      " 'Muebles, excepto de oficina y estantería (Ramos Autónomos)'\n",
      " 'Bienes artísticos y culturales' 'Otros equipos de transporte'\n",
      " 'Licencias informáticas e intelectuales (Ramos Autónomos)'\n",
      " 'Material estadístico y geográfico'\n",
      " 'Refacciones y accesorios menores de mobiliario y equipo de administración, educacional y recreativo'\n",
      " 'Arrendamiento de equipo de telecomunicaciones'\n",
      " 'Servicios de informática' 'Servicios de supervisión de obras'\n",
      " 'Servicios de creatividad, preproducción y producción de publicidad, excepto internet (Ramos Autónomos)'\n",
      " 'Servicios integrales en el extranjero para servidores públicos en el desempeño de comisiones y funciones oficiales'\n",
      " 'Equipos y aparatos audiovisuales' 'Cámaras fotográficas y de video'\n",
      " 'Apertura de Fondo Rotatorio'\n",
      " 'Apoyos a la capacitación de los servidores públicos'\n",
      " 'Gastos de ceremonial del titular del Ejecutivo Federal'\n",
      " 'Premios, recompensas, pensiones de gracia y pensión recreativa estudiantil'\n",
      " 'Gastos de seguridad pública y nacional'\n",
      " 'Sueldos base al personal eventual'\n",
      " 'Cuotas para el seguro de gastos médicos del personal civil'\n",
      " 'Cuotas para el seguro de separación individualizado'\n",
      " 'Compensación de Apoyo (Ramos Autónomos)'\n",
      " 'Arrendamiento de vehículos terrestres, aéreos, marítimos, lacustres y fluviales para servidores públicos'\n",
      " 'Pasajes terrestres nacionales por medio electrónico'\n",
      " 'Subsidios para capacitación y becas'\n",
      " 'Otras ayudas para programas de capacitación (Solo para el Ramo 03 Poder Judicial) (Ramos Autónomos)'\n",
      " 'Aportaciones a fideicomisos públicos del Poder Judicial (Ramos Autónomos)'\n",
      " 'Antigüedad' 'Materiales de seguridad pública'\n",
      " 'Apoyos a la investigación científica y tecnológica de instituciones académicas y sector público'\n",
      " 'Reparación y mantenimiento de equipo de defensa y seguridad'\n",
      " 'Retribuciones por adscripción en el extranjero'\n",
      " 'Gastos contingentes para el personal radicado en el extranjero'\n",
      " 'Servicios de diseño, arquitectura, ingeniería y actividades relacionadas'\n",
      " 'Subsidios a Entidades Federativas y Municipios'\n",
      " 'Productos de papel, cartón e impresos adquiridos como materia prima'\n",
      " 'Gastos para operativos y trabajos de campo en áreas rurales'\n",
      " 'Pasajes aéreos nacionales asociados a los programas de seguridad pública y nacional'\n",
      " 'Pasajes aéreos internacionales asociados a los programas de seguridad pública y nacional'\n",
      " 'Pasajes terrestres nacionales asociados a los programas de seguridad pública y nacional'\n",
      " 'Viáticos nacionales asociados a los programas de seguridad pública y nacional'\n",
      " 'Viáticos en el extranjero asociados a los programas de seguridad pública y nacional'\n",
      " 'Compensaciones de retiro'\n",
      " 'Gastos de las oficinas del Servicio Exterior Mexicano'\n",
      " 'Gastos de las Comisiones Internacionales de Límites y Aguas'\n",
      " 'Pasajes marítimos, lacustres y fluviales para servidores públicos de mando en el desempeño de comisiones y funciones oficiales'\n",
      " 'Bienes inmuebles por arrendamiento financiero'\n",
      " 'Adquisición de acciones de organismos internacionales'\n",
      " 'Aportaciones de la Federación a los organismos del Sistema Nacional de Coordinación Fiscal'\n",
      " 'Fibras sintéticas, hules, plásticos y derivados'\n",
      " 'Consultorías para programas o proyectos financiados por organismos internacionales'\n",
      " 'Subsidios a fideicomisos privados y estatales'\n",
      " 'Pasajes marítimos, lacustres y fluviales para labores en campo y de supervisión'\n",
      " 'Participaciones en órganos de gobierno'\n",
      " 'Asesorías asociadas a convenios, tratados o acuerdos'\n",
      " 'Insumos textiles adquiridos como materia prima'\n",
      " 'Difusión de mensajes comerciales para promover la venta de productos o servicios'\n",
      " 'Aportaciones a mandatos públicos' 'Haberes'\n",
      " 'Compensaciones de servicios' 'Sobrehaberes' 'Asignaciones de técnico'\n",
      " 'Asignaciones de mando' 'Asignaciones de técnico especial'\n",
      " 'Aportaciones al ISSFAM'\n",
      " 'Cuotas para el seguro de vida del personal militar'\n",
      " 'Cuotas para el fondo de ahorro de generales, almirantes, jefes y oficiales'\n",
      " 'Cuotas para el fondo de trabajo del personal del Ejército, Fuerza Aérea y Armada Mexicanos'\n",
      " 'Productos alimenticios para el Ejército, Fuerza Aérea y Armada Mexicanos, y para los efectivos que participen en programas de seguridad pública'\n",
      " 'Combustibles, lubricantes y aditivos para vehículos terrestres, aéreos, marítimos, lacustres y fluviales destinados a la ejecución de programas de seguridad pública y nacional'\n",
      " 'Productos de cuero, piel, plástico y hule adquiridos como materia prima'\n",
      " 'Sustancias y materiales explosivos'\n",
      " 'Refacciones y accesorios menores de equipo de defensa y seguridad'\n",
      " 'Premios, estímulos, recompensas, becas y seguros a deportistas'\n",
      " 'Prendas de protección para seguridad pública y nacional'\n",
      " 'Arrendamiento de vehículos terrestres, aéreos, marítimos, lacustres y fluviales para la ejecución de programas de seguridad pública y nacional'\n",
      " 'Arrendamiento de vehículos terrestres, aéreos, marítimos, lacustres y fluviales para desastres naturales'\n",
      " 'Productos metálicos y a base de minerales no metálicos adquiridos como materia prima'\n",
      " 'Productos químicos, farmacéuticos y de laboratorio adquiridos como materia prima'\n",
      " 'Otros activos biológicos' 'Aparatos deportivos'\n",
      " 'Maquinaria y equipo agropecuario'\n",
      " 'Prima de perseverancia por años de servicio activo en el Ejército, Fuerza Aérea y Armada Mexicanos'\n",
      " 'Asignaciones de vuelo'\n",
      " 'Vehículos y equipo aéreos, para la ejecución de programas de seguridad pública y nacional'\n",
      " 'Impuestos y derechos de exportación'\n",
      " 'Sistemas de aire acondicionado, calefacción y de refrigeración industrial y comercial'\n",
      " 'Gastos de ceremonial de los titulares de las dependencias y entidades'\n",
      " 'Subsidios a la producción'\n",
      " 'Acreditación por años de servicio en la docencia y al personal administrativo de las instituciones de educación superior'\n",
      " 'Compensación por adquisición de material didáctico'\n",
      " 'Servicios generales para planteles educativos' 'Subsidios al consumo'\n",
      " 'Construcción de vías de comunicación'\n",
      " 'Servicios para la liberación de derechos de vía'\n",
      " 'Mantenimiento y rehabilitación de las vías de comunicación'\n",
      " 'Otras construcciones de ingeniería civil u obra pesada'\n",
      " 'Convenios de reasignación'\n",
      " 'Adjudicaciones, expropiaciones e indemnizaciones de inmuebles'\n",
      " 'Proyectos para prestación de servicios'\n",
      " 'Instalaciones y obras de construcción especializada'\n",
      " 'Asesorías por controversias en el marco de los tratados internacionales'\n",
      " 'Acreditación por titulación en la docencia'\n",
      " 'Asignaciones docentes, pedagógicas genéricas y específicas'\n",
      " 'Compensaciones a sustitutos de profesores'\n",
      " 'Mercancías para su comercialización en tiendas del sector público'\n",
      " 'Petróleo, gas y sus derivados adquiridos como materia prima'\n",
      " 'Retribución a los representantes de los trabajadores y de los patrones en la Junta Federal de Conciliación y Arbitraje'\n",
      " 'Indemnizaciones por expropiación de predios'\n",
      " 'Obras de preedificación en terrenos de construcción'\n",
      " 'Mantenimiento y rehabilitación de otras obras de ingeniería civil u obras pesadas'\n",
      " 'Pasajes aéreos nacionales asociados a desastres naturales'\n",
      " 'Pasajes terrestres nacionales asociados a desastres naturales'\n",
      " 'Subsidios para inversión' 'Adquisición de otros valores'\n",
      " 'Transferencias para cuotas y aportaciones a los seguros de retiro, cesantía en edad avanzada y vejez'\n",
      " 'Trasferencias para cuotas y aportaciones de seguridad social para el IMSS, ISSSTE e ISSFAM por obligación del Estado'\n",
      " 'Transferencias para el pago de pensiones y jubilaciones'\n",
      " 'Transferencias para cubrir el déficit de operación y los gastos de administración asociados al otorgamiento de subsidios'\n",
      " 'Equipo ferroviario'\n",
      " 'Mantenimiento y rehabilitación de obras de urbanización'\n",
      " 'Apoyo a representantes del Poder Legislativo y partidos políticos ante el Consejo General del IFE (Ramos Autónomos)'\n",
      " 'Difusión de mensajes sobre programas y actividades Institucionales'\n",
      " 'Información en medios masivos derivada de la operación y administración de las Unidades Responsables'\n",
      " 'Erogaciones por resoluciones emitidas por autoridad competente'\n",
      " 'Material Electoral'\n",
      " 'Apoyo financiero al Comité Nacional de Supervisión y Evaluación y a la Comisión Nacional de Vigilancia locales y distritales del Registro Federal de Electores (Ramos Autónomos)'\n",
      " 'Financiamiento público a partidos políticos y agrupaciones políticas con registro autorizado (Ramos Autónomos)'\n",
      " 'Apoyo para alimentos a funcionarios de casilla el día de la jornada electoral federal (Ramos Autónomos)'\n",
      " 'Asignaciones destinadas a cubrir el pago de servicios de internet, requeridos en el desempeño de funciones oficiales'\n",
      " 'Otros servicios financieros, bancarios y comerciales (Ramos Autónomos)'\n",
      " 'Dietas a consejeros electorales locales y distritales en el año electoral federal (Ramos Autónomos)'\n",
      " 'Apoyo financiero a consejeros electorales locales y distritales en año electoral federal (Ramos Autónomos)'\n",
      " 'Asignaciones para la conclusión de servicios en la Administración Pública Federal'\n",
      " 'Intereses derivados de la colocación de valores gubernamentales'\n",
      " 'Intereses derivados de la colocación externa de bonos'\n",
      " 'Intereses de la deuda bilateral'\n",
      " 'Intereses de la deuda con organismos financieros internacionales'\n",
      " 'Aportaciones federales a las entidades federativas y municipios para incrementos a las percepciones'\n",
      " 'Aportaciones federales a las entidades federativas y municipios para creación de plazas'\n",
      " 'Aportaciones federales a las entidades federativas y municipios para otras medidas de carácter laboral y económicas'\n",
      " 'Aportaciones federales a las entidades federativas y municipios por previsiones para aportaciones al ISSSTE'\n",
      " 'Aportaciones federales a las entidades federativas y municipios por previsiones para aportaciones al FOVISSSTE'\n",
      " 'Aportaciones federales a las entidades federativas y municipios por previsiones para aportaciones al sistema de ahorro para el retiro'\n",
      " 'Aportaciones federales a las entidades federativas y municipios por previsiones para aportaciones al seguro de cesantía en edad avanzada y vejez'\n",
      " 'Aportaciones federales a las entidades federativas y municipios por previsiones para los depósitos al ahorro solidario'\n",
      " 'Aportaciones federales a las entidades federativas y municipios para servicios personales'\n",
      " 'Aportaciones federales a las entidades federativas y municipios para aportaciones al ISSSTE'\n",
      " 'Aportaciones federales a las entidades federativas y municipios para aportaciones al FOVISSSTE'\n",
      " 'Aportaciones federales a las entidades federativas y municipios para aportaciones al sistema de ahorro para el retiro'\n",
      " 'Aportaciones federales a las entidades federativas y municipios para aportaciones al seguro de cesantía en edad avanzada y vejez'\n",
      " 'Acreditación al personal docente por años de estudio de licenciatura'\n",
      " 'Fondo General de Participaciones' 'Fondo de Fomento Municipal'\n",
      " 'Otros conceptos participables de la Federación a entidades federativas'\n",
      " 'Asignaciones compensatorias a entidades federativas'\n",
      " 'Adeudos de ejercicios fiscales anteriores'\n",
      " 'Aportaciones federales a las entidades federativas y municipios para gastos de operación'\n",
      " 'Aportaciones federales a las entidades federativas y municipios para gastos de inversión'\n",
      " 'Aportaciones federales a las entidades federativas y municipios'\n",
      " 'Aportaciones federales a las entidades federativas y municipios para los depósitos al ahorro solidario'\n",
      " 'Apoyos a ahorradores y deudores de la banca'\n",
      " 'Materiales de administración, emisión de documentos y artículos oficiales'\n",
      " 'Combustibles, lubricantes y aditivos'\n",
      " 'Servicios profesionales, científicos, técnicos y otros servicios'\n",
      " 'Servicios de traslado y viáticos' 'Servicios básicos'\n",
      " 'Servicios de arrendamiento'\n",
      " 'Servicios de instalación, reparación, mantenimiento y conservación'\n",
      " 'Ayudas sociales' 'Alimentos y utensilios' 'Transferencias al exterior'\n",
      " 'Servicios de comunicación social y publicidad'\n",
      " 'Maquinaria, otros equipos y herramientas' 'Servicios oficiales'\n",
      " 'Materiales y artículos de construcción y de reparación'\n",
      " 'Herramientas, refacciones y accesorios menores'\n",
      " 'Productos químicos, farmacéuticos y de laboratorio'\n",
      " 'Servicios financieros, bancarios y comerciales'\n",
      " 'Mobiliario y equipo de administración'\n",
      " 'Vestuario, blancos, prendas de protección y artículos deportivos'\n",
      " 'Vehículos y equipo de transporte'\n",
      " 'Viáticos nacionales asociados a desastres naturales'\n",
      " 'Pasajes marítimos, lacustres y fluviales asociados a los programas de seguridad pública y nacional'\n",
      " 'Servicios integrales en materia de seguridad pública y nacional'\n",
      " 'Otras asignaciones derivadas de resoluciones de ley'\n",
      " 'Servicio de creación y difusión de contenido exclusivamente a través de Internet'\n",
      " 'Otras aportaciones internacionales'\n",
      " 'Donativos a entidades federativas o municipios'\n",
      " 'Donativos internacionales' 'Obras de terminación y acabado de edificios'\n",
      " 'Muebles, excepto de oficina y estantería']\n",
      "[1 4 3 2 7 0 9 5]\n",
      "['Gasto corriente' 'Pensiones y jubilaciones' 'Gasto de obra pública'\n",
      " 'Gasto de capital diferente de obra pública'\n",
      " 'Gasto corriente por concepto de gastos indirectos de programas de subsidios'\n",
      " 'Gasto corriente por concepto de recursos otorgados a fideicomisos públicos no considerados entidad paraestatal cuyo propósito financiero se limite a la administración y pago'\n",
      " 'Gasto de inversión por concepto de recursos otorgados a fideicomisos públicos no considerados entidad paraestatal cuyo propósito financiero se limite a la administración y pago'\n",
      " 'Participaciones']\n",
      "[4 1 5 2]\n",
      "['Ingresos Propios' 'Recursos fiscales'\n",
      " 'Recursos fiscales derivados de ingresos excedentes'\n",
      " 'Gasto financiado con recursos del BID-BIRF, así como otros financiamientos externos']\n",
      "[ 9  1  2  3  4  5  6  7  8 10 11 12 13 14 15 16 17 18 19 20 21 22 23 24\n",
      " 25 26 27 28 29 30 31 32 34 33]\n",
      "['Ciudad de México' 'Aguascalientes' 'Baja California'\n",
      " 'Baja California Sur' 'Campeche' 'Coahuila' 'Colima' 'Chiapas'\n",
      " 'Chihuahua' 'Durango' 'Guanajuato' 'Guerrero' 'Hidalgo' 'Jalisco'\n",
      " 'Estado de México' 'Michoacán' 'Morelos' 'Nayarit' 'Nuevo León' 'Oaxaca'\n",
      " 'Puebla' 'Querétaro' 'Quintana Roo' 'San Luis Potosí' 'Sinaloa' 'Sonora'\n",
      " 'Tabasco' 'Tamaulipas' 'Tlaxcala' 'Veracruz' 'Yucatán' 'Zacatecas'\n",
      " 'No Distribuible Geográficamente' 'En El Extranjero']\n",
      "[0 73777 73778 73775 73776 68758 68759 68760 68761 68771 68773 68774 68784\n",
      " 68785 68739 68753 68754 68762 68768 68772 68775 68782 68783 68865 68901\n",
      " 68727 68728 68729 68730 68795 68798 68807 68816 68827 68833 68837 68873\n",
      " 68884 68890 68893 68896 68902 68903 68909 68755 68756 68793 68794 68801\n",
      " 68802 68803 68811 68812 68819 68828 68844 68867 68870 68875 68876 68878\n",
      " 68879 68881 68806 68810 68817 68829 68842 68820 68821 68822 68823 68824\n",
      " 68825 68826 73726 73746 73755 73756 68831 68836 73754 68843 68846 68847\n",
      " 68848 68852 68856 68839 68840 68858 68872 68874 68877 73759 73760 68835\n",
      " 68849 68851 68853 68854 68860 68861 73753 68830 68841 68845 68850 68799\n",
      " 68800 68809 68815 68818 68883 69143 68834 68866 68898 68900 68832 68887\n",
      " 68888 68889 68892 68899 69142 68805 68911 68912 68915 68769 68776 68778\n",
      " 68780 68786 68789 68790 68791 68792 68726 68737 68738 68770 68777 68779\n",
      " 68781 68787 68788 68804 68808 68813 68814 62378 68862 68863 68864 68869\n",
      " 68871 68891 68897 68910 69139 69140 68880 68886 68894 68895 66039 52670\n",
      " 69479 53702 65281 65289 69475 69476 69477 69512 69491 65288 54200 69493\n",
      " 69523 69481 69497 65273 69487 69488 69489 69490 69492 69522 65227 69478\n",
      " 53707 69483 69526 69542 51158 65283 65286 69521 54180 65272 69516 53706\n",
      " 54185 65274 69480 69519 69495 69520 69540 69541 65287 65282 69486 69514\n",
      " 54183 69484 69547 69548 69549 69496 69498 69482 69517 69524 65280 54182\n",
      " 69494 69592 69551 69553 69588 69590 69554 69558 69559 69591 65212 69555\n",
      " 69557 69589 74675 51151 51147 52667 51148 51152 61098 61113 61151 61152\n",
      " 61155 61158 61160 61161 61162 61166 61172 61174 61176 61178 61181 61182\n",
      " 61184 61185 61187 61189 61190 61192 61195 61196 61197 61198 61200 61202\n",
      " 61203 61209 61212 61218 61220 66581 66582 66583 66584 66585 66586 66587\n",
      " 66588 66589 66590 66591 66592 66593 66594 66595 66596 66597 66598 66600\n",
      " 61105 61107 61130 57958 61129 65388 69930 65389 50444 57423 62502 73716\n",
      " 73588 70027 62356 62355 69929 58020 51389 62442 62381 62382 73581 73585\n",
      " 73586 51153 52120 74847 72141 50589 65731 70090 74744 50977 73717 73587\n",
      " 74714 72681 71236 71237 71238 71239 71440 71444 71445 72186 72609 65888\n",
      " 62503 70089 70091 74731 65390 57746 72610 72611 73582 73584 73583\n",
      " '010 03 010' '029 02 029' '030 02 030' '0318TOQ0203' '034 02 034'\n",
      " '0418TOQ0060' '0418TOQ0063' '0418TOQ0083' '0418TOQ0084' '0418TOQ0087'\n",
      " '0418TOQ0090' '0418TOQ0092' '0418TOQ0140' '0418TOQ0141' '046 02 046'\n",
      " '0518TOQ0028' '0518TOQ0029' '0518TOQ0030' '0518TOQ0032' '0518TOQ0033'\n",
      " '0518TOQ0034' '0518TOQ0035' '0518TOQ0037' '0518TOQ0038' '0518TOQ0043'\n",
      " '0518TOQ0047' '0518TOQ0048' '0518TOQ0054' '0518TOQ0055' '0518TOQ0056'\n",
      " '0518TOQ0058' '0518TOQ0060' '0518TOQ0061' '0518TOQ0062' '0518TOQ0063'\n",
      " '0518TOQ0064' '0618TOQ0029' '0618TOQ0030' '0618TOQ0031' '0618TOQ0032'\n",
      " '0618TOQ0033' '0618TOQ0035' '0618TOQ0036' '0618TOQ0037' '0618TOQ0038'\n",
      " '0618TOQ0039' '0618TOQ0042' '0618TOQ0049' '0618TOQ0050' '0618TOQ0051'\n",
      " '0618TOQ0052' '0618TOQ0053' '0618TOQ0054' '0718TOQ0022' '0718TOQ0023'\n",
      " '0718TOQ0027' '0718TOQ0032' '0718TOQ0033' '0718TOQ0034' '0718TOQ0035'\n",
      " '0718TOQ0036' '0718TOQ0037' '0718TOQ0038' '072 02 072' '0818TOQ0069'\n",
      " '0818TOQ0071' '0818TOQ0072' '0818TOQ0073' '0818TOQ0074' '0818TOQ0093'\n",
      " '0918TOQ0018' '0918TOQ0019' '0918TOQ0020' '1018TOQ0037' '1018TOQ0038'\n",
      " '1018TOQ0039' '1018TOQ0040' '1018TOQ0043' '1018TOQ0046' '1018TOQ0048'\n",
      " '1018TOQ0050' '1018TOQ0056' '1118TOQ0013' '1118TOQ0014' '1118TOQ0015'\n",
      " '1118TOQ0016' '1118TOQ0017' '1118TOQ0018' '1118TOQ0020' '1118TOQ0021'\n",
      " '1118TOQ0025' '1118TOQ0026' '1118TOQ0027' '1118TOQ0028' '1218TOQ0019'\n",
      " '1218TOQ0020' '1218TOQ0021' '1218TOQ0022' '1218TOQ0023' '1218TOQ0024'\n",
      " '1218TOQ0026' '1218TOQ0027' '1218TOQ0031' '1218TOQ0032' '1218TOQ0035'\n",
      " '1218TOQ0038' '1318TOQ0017' '1318TOQ0018' '1318TOQ0019' '1318TOQ0020'\n",
      " '1318TOQ0021' '1318TOQ0023' '1318TOQ0024' '1318TOQ0025' '1318TOQ0026'\n",
      " '1418TOQ0035' '1418TOQ0036' '1418TOQ0038' '1418TOQ0039' '1418TOQ0040'\n",
      " '1418TOQ0054' '1518TOQ0008' '1518TOQ0011' '1518TOQ0013' '1118TOQ0023'\n",
      " '1218TOQ0025' '2251GYN0008' '2251GYN0009' '2251GYN0010' '2150GYR0051'\n",
      " '2150GYR0052' '2150GYR0043' '2150GYR0047' '2150GYR0082' '2150GYR0045'\n",
      " '2150GYR0044' '2150GYR0055' '2150GYR0056' '2250GYR0015' '2150GYR0042'\n",
      " '2250GYR0032' '1850GYR0020' '2250GYR0018' '2250GYR0020' '2250GYR0023'\n",
      " '2150GYR0053' '2250GYR0040' '2050GYR0037' '2250GYR0001' '1550GYR0059'\n",
      " '2150GYR0098' '1350GYR0009' '1750GYR0032' '2050GYR0039' '2150GYR0037'\n",
      " '1650GYR0078' '2150GYR0033' '2150GYR0054' '2050GYR0030' '2250GYR0026'\n",
      " '1750GYR0031' '2050GYR0015' '2150GYR0086' '2150GYR0046' '2250GYR0002'\n",
      " '1650GYR0011' '2250GYR0059' '2150GYR0092' '1650GYR0086' '2050GYR0053'\n",
      " '2250GYR0041' '2350GYR0008' '2050GYR0048' '0850GYR0030' '1450GYR0099'\n",
      " '2050GYR0034' '2150GYR0099' '1650GYR0080' '2250GYR0043' '2150GYR0081'\n",
      " '2150GYR0013' '2150GYR0089' '1650GYR0075' '2250GYR0052' '1550GYR0061'\n",
      " '1750GYR0026' '2250GYR0035' '1550GYR0056' '1650GYR0076' '2150GYR0096'\n",
      " '2350GYR0017' '2150GYR0074' '1750GYR0023' '2250GYR0006' '2250GYR0066'\n",
      " '2350GYR0005' '2350GYR0009' '2350GYR0010' '2350GYR0007' '2350GYR0003'\n",
      " '2050GYR0008' '2350GYR0004' '2350GYR0006' '2350GYR0011' '2350GYR0016'\n",
      " '2350GYR0013' '2350GYR0012' '2150GYR0063' '2050GYR0026' '2150GYR0041'\n",
      " '2250GYR0017' '2250GYR0019' '2350GYR0002' '2050GYR0036' '2050GYR0038'\n",
      " '2150GYR0094' '2250GYR0007' '2250GYR0013' '2250GYR0010' '2050GYR0006'\n",
      " '2050GYR0056' '2150GYR0069' '2150GYR0084' '2150GYR0004' '2050GYR0050'\n",
      " '2250GYR0044' '2250GYR0056' '2250GYR0022' '2250GYR0038' '2050GYR0024'\n",
      " '2150GYR0072' '2250GYR0021' '2150GYR0039' '2150GYR0090' '2150GYR0078'\n",
      " '2150GYR0057' '2150GYR0101' '2250GYR0012' '2150GYR0023' '2150GYR0088'\n",
      " '2150GYR0060' '2250GYR0011' '2050GYR0014' '2150GYR0048' '2250GYR0027'\n",
      " '2150GYR0079' '2250GYR0004' '2250GYR0008' '2250GYR0060' '2150GYR0065'\n",
      " '2250GYR0047' '2250GYR0054' '2250GYR0016' '2150GYR0075' '2150GYR0076'\n",
      " '2250GYR0014' 6056130001 22060 22060000 22071160002 20071160001\n",
      " 20071170023 21071320001 12071320003 14071320014 17071320001 14071320011\n",
      " 14071320013 18071320005 9071320003 10071320003 14071320010 15071320001\n",
      " 14071320009 18071320006 22071410001 21071410002 22071430002 21071430001\n",
      " 22085120001 22092100004 22092100009 22092100012 22092100010 22092100011\n",
      " 17092110009 17092110008 16092110012 15092110002 16092110010 16092110009\n",
      " 16092110011 17092110010 15092110003 17092110011 21092110011 22092120001\n",
      " 22092120002 22092120003 22092120004 22092140001 13093110008 20093110004\n",
      " 21093110007 20094000001 19096220001 20096220002 22096230002 12096230004\n",
      " 11096270038 23092100002 22096300001 8096320020 22096320001 12096330030\n",
      " 20096330001 11096340001 22096380001 5096400027 16096400004 22092100013\n",
      " 14096410014 9096410023 22096430001 22096430002 22096430003 17096440002\n",
      " 18096450004 22096450001 13096470001 6096470005 22096500001 11096500018\n",
      " '2009KDN0005' '2009KDN0007' '2009KDN0008' '1909KDN0010' '1909KDN0011'\n",
      " '2009KDN0014' '2009KDN0002' '2009KDN0011' '2009KDN0013' '2009KDN0006'\n",
      " '2009KDN0009' 23117120001 '2011A2M0010' '2111A2M0002' '1911A2M0002'\n",
      " '2011A2M0009' '2211A3Q0001' '2211A3Q0005' '2211A3Q0004' '2211A3Q0006'\n",
      " '2211A3Q0003' '2211A3Q0007' '2211B000006' '2211B000007' '2211B000008'\n",
      " '2211L3P0004' '2211L4J0003' '2211L4J0001' '2111L4J0008' '2211L4J0002'\n",
      " '2211L4J0004' '2211M000007' '2211MGC0002' 6125120002 6125120003\n",
      " 6125120004 '2312I000001' '2212NBB0001' '2112NBG0003' '2212NBU0001'\n",
      " '0912NBV0008' '2212NCA0005' '2312NCD0001' '2212NCD0003' '2212NCZ0001'\n",
      " '2212NHK0003' '0512S000001' 16132110005 10132160001 10132160002\n",
      " 12132160002 14132160011 14132160016 14132160017 14132160036 14132160037\n",
      " 21132160018 '1409J3F0006' '1909J3G0004' '2047J3G0001' '1909J3L0001'\n",
      " 13165120002 17167100001 '0316B000230' '2216B000050' '1416B000146'\n",
      " '2216B000016' '2216B000008' '2016B000060' '1616B000093' '2016B000042'\n",
      " '2016B000046' '2016B000066' '2216B000057' '2116B000032' '2216B000056'\n",
      " '0616B000034' '1516B000071' '1616B000004' '1616B000007' '2216B000054'\n",
      " '2216B000014' '1716B000070' '1916B000020' '2216B000060' '2216B000058'\n",
      " '2216B000055' '2216B000059' '2216B000063' '1416B000002' '0816B000219'\n",
      " '1916B000045' '2216B000029' '2216RHQ0007' '2121B000001' '2021W3N0001'\n",
      " '2021W3N0005' '2021W3N0003' '2021W3N0006' '2021W3N0004' 22272080001\n",
      " 22275110001 6321100002 8.36e+21 '2247AYH0004' '2047AYL0001' 20482000003\n",
      " 20482000001 20482000002]\n",
      "[21521237  3682015  3698333 ...  3841862   644376  2020772]\n",
      "[21521237.  3682015.  3698333. ...  3841862.   644376.  2020772.]\n",
      "[5532713  946576  733454 ...  640310   92552  468135]\n",
      "[5532713.  946576.  733454. ...  640310.   92552.  468135.]\n",
      "[5514198. 1258849.       0. ...  576682.   92552.  258321.]\n",
      "['PROGRAMABLE' 'NO PROGRAMABLE']\n"
     ]
    }
   ],
   "source": [
    "\n",
    "\n",
    "for _ in pef_df.columns:\n",
    "        print (pef_df[_].unique())"
   ]
  },
  {
   "cell_type": "markdown",
   "metadata": {},
   "source": [
    "### Revisando por descripción del ramo"
   ]
  },
  {
   "cell_type": "code",
   "execution_count": 22,
   "metadata": {},
   "outputs": [
    {
     "data": {
      "text/plain": [
       "array(['Comisión Federal de Electricidad',\n",
       "       'Instituto de Seguridad y Servicios Sociales de los Trabajadores del Estado',\n",
       "       'Instituto Mexicano del Seguro Social', 'Petróleos Mexicanos',\n",
       "       'Poder Legislativo', 'Oficina de la Presidencia de la República',\n",
       "       'Poder Judicial', 'Gobernación', 'Relaciones Exteriores',\n",
       "       'Hacienda y Crédito Público', 'Defensa Nacional',\n",
       "       'Agricultura y\\xa0Desarrollo Rural',\n",
       "       'Infraestructura, Comunicaciones y Transportes', 'Economía',\n",
       "       'Educación Pública', 'Salud', 'Marina',\n",
       "       'Trabajo y Previsión Social',\n",
       "       'Desarrollo Agrario, Territorial y Urbano',\n",
       "       'Medio Ambiente y Recursos Naturales', 'Energía',\n",
       "       'Aportaciones a Seguridad Social', 'Bienestar', 'Turismo',\n",
       "       'Instituto Nacional Electoral',\n",
       "       'Provisiones Salariales y Económicas', 'Deuda Pública',\n",
       "       'Previsiones y Aportaciones para los Sistemas de Educación Básica, Normal, Tecnológica y de Adultos',\n",
       "       'Función Pública',\n",
       "       'Participaciones a Entidades Federativas y Municipios',\n",
       "       'Adeudos de Ejercicios Fiscales Anteriores', 'Tribunales Agrarios',\n",
       "       'Tribunal Federal de Justicia\\xa0Administrativa',\n",
       "       'Aportaciones Federales para Entidades Federativas y Municipios',\n",
       "       'Erogaciones para los Programas de Apoyo a Ahorradores y Deudores de la Banca',\n",
       "       'Comisión Nacional de los Derechos Humanos',\n",
       "       'Seguridad y Protección Ciudadana',\n",
       "       'Consejería Jurídica del Ejecutivo Federal',\n",
       "       'Consejo Nacional de Ciencia y Tecnología',\n",
       "       'Información Nacional Estadística y Geográfica',\n",
       "       'Comisión Federal de Competencia Económica',\n",
       "       'Instituto Federal de Telecomunicaciones',\n",
       "       'Instituto Nacional de Transparencia, Acceso a la Información y Protección de Datos Personales',\n",
       "       'Comisión Reguladora de Energía',\n",
       "       'Comisión Nacional de Hidrocarburos', 'Entidades no Sectorizadas',\n",
       "       'Cultura', 'Fiscalía General de la República'], dtype=object)"
      ]
     },
     "execution_count": 22,
     "metadata": {},
     "output_type": "execute_result"
    }
   ],
   "source": [
    "pef_df['desc_ramo'].unique()"
   ]
  },
  {
   "cell_type": "markdown",
   "metadata": {},
   "source": [
    "### Graficando por institución"
   ]
  },
  {
   "cell_type": "code",
   "execution_count": 94,
   "metadata": {},
   "outputs": [
    {
     "data": {
      "application/vnd.jupyter.widget-view+json": {
       "model_id": "a3d625a3a7154af5ade10a654b595260",
       "version_major": 2,
       "version_minor": 0
      },
      "text/plain": [
       "Dropdown(description='Ramo:', options=('Comisión Federal de Electricidad', 'Instituto de Seguridad y Servicios…"
      ]
     },
     "metadata": {},
     "output_type": "display_data"
    },
    {
     "data": {
      "application/vnd.plotly.v1+json": {
       "config": {
        "plotlyServerURL": "https://plot.ly"
       },
       "data": [
        {
         "marker": {
          "color": "blue"
         },
         "name": "Monto Aprobado",
         "orientation": "h",
         "type": "bar",
         "x": [
          1158460,
          3009715,
          4000000,
          10000000,
          11324811,
          15343227,
          16767926,
          43037721,
          45799551,
          66573073,
          84177448,
          91102002,
          163562233,
          186445156,
          214255303,
          259436030,
          281684452,
          333337231,
          530056547,
          551605454,
          561171289,
          1086222619,
          1761763354,
          1922537356,
          2392695285,
          2637482476,
          3531075539,
          3987024589,
          4140092373,
          6356046302,
          7947654739,
          8756593039,
          10427907483,
          10710538093,
          12157571986,
          28449283178
         ],
         "y": [
          "Servicios de comunicación social y publicidad",
          "Ayudas sociales",
          "Activos intangibles",
          "Donativos",
          "Remuneraciones al personal de carácter transitorio",
          "Servicios oficiales",
          "Alimentos y utensilios",
          "Mobiliario y equipo de administración",
          "Vehículos y equipo de transporte",
          "Comisiones de la deuda pública",
          "Equipo e instrumental médico y de laboratorio",
          "Maquinaria, otros equipos y herramientas",
          "Materiales de administración, emisión de documentos y artículos oficiales",
          "Servicios de traslado y viáticos",
          "Herramientas, refacciones y accesorios menores",
          "Productos químicos, farmacéuticos y de laboratorio",
          "Servicios financieros, bancarios y comerciales",
          "Gastos de la deuda pública",
          "Materiales y artículos de construcción y de reparación",
          "Vestuario, blancos, prendas de protección y artículos deportivos",
          "Servicios básicos",
          "Servicios profesionales, científicos, técnicos y otros servicios",
          "Remuneraciones adicionales y especiales",
          "Servicios de instalación, reparación, mantenimiento y conservación",
          "Seguridad social",
          "Bienes inmuebles",
          "Costo por coberturas",
          "Obra pública en bienes propios",
          "Remuneraciones al personal de carácter permanente",
          "Intereses de la deuda pública",
          "Materias primas y materiales de producción y comercialización",
          "Otros servicios generales",
          "Otras prestaciones sociales y económicas",
          "Servicios de arrendamiento",
          "Pensiones y jubilaciones",
          "Combustibles, lubricantes y aditivos"
         ]
        },
        {
         "marker": {
          "color": "green"
         },
         "name": "Monto Pagado",
         "orientation": "h",
         "type": "bar",
         "x": [
          716967,
          3251787,
          0,
          0,
          8433294,
          11252464,
          10458918,
          2712567,
          -3562907,
          19522503,
          2946614,
          196715353,
          118421962,
          227315936,
          89055720,
          91078776,
          305181349,
          200158451,
          86110265,
          87045938,
          450175157,
          1205541039,
          1972449020,
          1036413242,
          2147926303,
          2328377858,
          18826116166,
          1545465683,
          4095762758,
          5853279269,
          12273816037,
          -12521460928,
          8951182586,
          8724100885,
          13073850631,
          48808327399
         ],
         "y": [
          "Servicios de comunicación social y publicidad",
          "Ayudas sociales",
          "Activos intangibles",
          "Donativos",
          "Remuneraciones al personal de carácter transitorio",
          "Servicios oficiales",
          "Alimentos y utensilios",
          "Mobiliario y equipo de administración",
          "Vehículos y equipo de transporte",
          "Comisiones de la deuda pública",
          "Equipo e instrumental médico y de laboratorio",
          "Maquinaria, otros equipos y herramientas",
          "Materiales de administración, emisión de documentos y artículos oficiales",
          "Servicios de traslado y viáticos",
          "Herramientas, refacciones y accesorios menores",
          "Productos químicos, farmacéuticos y de laboratorio",
          "Servicios financieros, bancarios y comerciales",
          "Gastos de la deuda pública",
          "Materiales y artículos de construcción y de reparación",
          "Vestuario, blancos, prendas de protección y artículos deportivos",
          "Servicios básicos",
          "Servicios profesionales, científicos, técnicos y otros servicios",
          "Remuneraciones adicionales y especiales",
          "Servicios de instalación, reparación, mantenimiento y conservación",
          "Seguridad social",
          "Bienes inmuebles",
          "Costo por coberturas",
          "Obra pública en bienes propios",
          "Remuneraciones al personal de carácter permanente",
          "Intereses de la deuda pública",
          "Materias primas y materiales de producción y comercialización",
          "Otros servicios generales",
          "Otras prestaciones sociales y económicas",
          "Servicios de arrendamiento",
          "Pensiones y jubilaciones",
          "Combustibles, lubricantes y aditivos"
         ]
        }
       ],
       "layout": {
        "barmode": "group",
        "font": {
         "color": "black",
         "size": 14
        },
        "height": 1200,
        "paper_bgcolor": "white",
        "plot_bgcolor": "white",
        "separators": ".,",
        "template": {
         "data": {
          "bar": [
           {
            "error_x": {
             "color": "#2a3f5f"
            },
            "error_y": {
             "color": "#2a3f5f"
            },
            "marker": {
             "line": {
              "color": "#E5ECF6",
              "width": 0.5
             },
             "pattern": {
              "fillmode": "overlay",
              "size": 10,
              "solidity": 0.2
             }
            },
            "type": "bar"
           }
          ],
          "barpolar": [
           {
            "marker": {
             "line": {
              "color": "#E5ECF6",
              "width": 0.5
             },
             "pattern": {
              "fillmode": "overlay",
              "size": 10,
              "solidity": 0.2
             }
            },
            "type": "barpolar"
           }
          ],
          "carpet": [
           {
            "aaxis": {
             "endlinecolor": "#2a3f5f",
             "gridcolor": "white",
             "linecolor": "white",
             "minorgridcolor": "white",
             "startlinecolor": "#2a3f5f"
            },
            "baxis": {
             "endlinecolor": "#2a3f5f",
             "gridcolor": "white",
             "linecolor": "white",
             "minorgridcolor": "white",
             "startlinecolor": "#2a3f5f"
            },
            "type": "carpet"
           }
          ],
          "choropleth": [
           {
            "colorbar": {
             "outlinewidth": 0,
             "ticks": ""
            },
            "type": "choropleth"
           }
          ],
          "contour": [
           {
            "colorbar": {
             "outlinewidth": 0,
             "ticks": ""
            },
            "colorscale": [
             [
              0,
              "#0d0887"
             ],
             [
              0.1111111111111111,
              "#46039f"
             ],
             [
              0.2222222222222222,
              "#7201a8"
             ],
             [
              0.3333333333333333,
              "#9c179e"
             ],
             [
              0.4444444444444444,
              "#bd3786"
             ],
             [
              0.5555555555555556,
              "#d8576b"
             ],
             [
              0.6666666666666666,
              "#ed7953"
             ],
             [
              0.7777777777777778,
              "#fb9f3a"
             ],
             [
              0.8888888888888888,
              "#fdca26"
             ],
             [
              1,
              "#f0f921"
             ]
            ],
            "type": "contour"
           }
          ],
          "contourcarpet": [
           {
            "colorbar": {
             "outlinewidth": 0,
             "ticks": ""
            },
            "type": "contourcarpet"
           }
          ],
          "heatmap": [
           {
            "colorbar": {
             "outlinewidth": 0,
             "ticks": ""
            },
            "colorscale": [
             [
              0,
              "#0d0887"
             ],
             [
              0.1111111111111111,
              "#46039f"
             ],
             [
              0.2222222222222222,
              "#7201a8"
             ],
             [
              0.3333333333333333,
              "#9c179e"
             ],
             [
              0.4444444444444444,
              "#bd3786"
             ],
             [
              0.5555555555555556,
              "#d8576b"
             ],
             [
              0.6666666666666666,
              "#ed7953"
             ],
             [
              0.7777777777777778,
              "#fb9f3a"
             ],
             [
              0.8888888888888888,
              "#fdca26"
             ],
             [
              1,
              "#f0f921"
             ]
            ],
            "type": "heatmap"
           }
          ],
          "heatmapgl": [
           {
            "colorbar": {
             "outlinewidth": 0,
             "ticks": ""
            },
            "colorscale": [
             [
              0,
              "#0d0887"
             ],
             [
              0.1111111111111111,
              "#46039f"
             ],
             [
              0.2222222222222222,
              "#7201a8"
             ],
             [
              0.3333333333333333,
              "#9c179e"
             ],
             [
              0.4444444444444444,
              "#bd3786"
             ],
             [
              0.5555555555555556,
              "#d8576b"
             ],
             [
              0.6666666666666666,
              "#ed7953"
             ],
             [
              0.7777777777777778,
              "#fb9f3a"
             ],
             [
              0.8888888888888888,
              "#fdca26"
             ],
             [
              1,
              "#f0f921"
             ]
            ],
            "type": "heatmapgl"
           }
          ],
          "histogram": [
           {
            "marker": {
             "pattern": {
              "fillmode": "overlay",
              "size": 10,
              "solidity": 0.2
             }
            },
            "type": "histogram"
           }
          ],
          "histogram2d": [
           {
            "colorbar": {
             "outlinewidth": 0,
             "ticks": ""
            },
            "colorscale": [
             [
              0,
              "#0d0887"
             ],
             [
              0.1111111111111111,
              "#46039f"
             ],
             [
              0.2222222222222222,
              "#7201a8"
             ],
             [
              0.3333333333333333,
              "#9c179e"
             ],
             [
              0.4444444444444444,
              "#bd3786"
             ],
             [
              0.5555555555555556,
              "#d8576b"
             ],
             [
              0.6666666666666666,
              "#ed7953"
             ],
             [
              0.7777777777777778,
              "#fb9f3a"
             ],
             [
              0.8888888888888888,
              "#fdca26"
             ],
             [
              1,
              "#f0f921"
             ]
            ],
            "type": "histogram2d"
           }
          ],
          "histogram2dcontour": [
           {
            "colorbar": {
             "outlinewidth": 0,
             "ticks": ""
            },
            "colorscale": [
             [
              0,
              "#0d0887"
             ],
             [
              0.1111111111111111,
              "#46039f"
             ],
             [
              0.2222222222222222,
              "#7201a8"
             ],
             [
              0.3333333333333333,
              "#9c179e"
             ],
             [
              0.4444444444444444,
              "#bd3786"
             ],
             [
              0.5555555555555556,
              "#d8576b"
             ],
             [
              0.6666666666666666,
              "#ed7953"
             ],
             [
              0.7777777777777778,
              "#fb9f3a"
             ],
             [
              0.8888888888888888,
              "#fdca26"
             ],
             [
              1,
              "#f0f921"
             ]
            ],
            "type": "histogram2dcontour"
           }
          ],
          "mesh3d": [
           {
            "colorbar": {
             "outlinewidth": 0,
             "ticks": ""
            },
            "type": "mesh3d"
           }
          ],
          "parcoords": [
           {
            "line": {
             "colorbar": {
              "outlinewidth": 0,
              "ticks": ""
             }
            },
            "type": "parcoords"
           }
          ],
          "pie": [
           {
            "automargin": true,
            "type": "pie"
           }
          ],
          "scatter": [
           {
            "fillpattern": {
             "fillmode": "overlay",
             "size": 10,
             "solidity": 0.2
            },
            "type": "scatter"
           }
          ],
          "scatter3d": [
           {
            "line": {
             "colorbar": {
              "outlinewidth": 0,
              "ticks": ""
             }
            },
            "marker": {
             "colorbar": {
              "outlinewidth": 0,
              "ticks": ""
             }
            },
            "type": "scatter3d"
           }
          ],
          "scattercarpet": [
           {
            "marker": {
             "colorbar": {
              "outlinewidth": 0,
              "ticks": ""
             }
            },
            "type": "scattercarpet"
           }
          ],
          "scattergeo": [
           {
            "marker": {
             "colorbar": {
              "outlinewidth": 0,
              "ticks": ""
             }
            },
            "type": "scattergeo"
           }
          ],
          "scattergl": [
           {
            "marker": {
             "colorbar": {
              "outlinewidth": 0,
              "ticks": ""
             }
            },
            "type": "scattergl"
           }
          ],
          "scattermapbox": [
           {
            "marker": {
             "colorbar": {
              "outlinewidth": 0,
              "ticks": ""
             }
            },
            "type": "scattermapbox"
           }
          ],
          "scatterpolar": [
           {
            "marker": {
             "colorbar": {
              "outlinewidth": 0,
              "ticks": ""
             }
            },
            "type": "scatterpolar"
           }
          ],
          "scatterpolargl": [
           {
            "marker": {
             "colorbar": {
              "outlinewidth": 0,
              "ticks": ""
             }
            },
            "type": "scatterpolargl"
           }
          ],
          "scatterternary": [
           {
            "marker": {
             "colorbar": {
              "outlinewidth": 0,
              "ticks": ""
             }
            },
            "type": "scatterternary"
           }
          ],
          "surface": [
           {
            "colorbar": {
             "outlinewidth": 0,
             "ticks": ""
            },
            "colorscale": [
             [
              0,
              "#0d0887"
             ],
             [
              0.1111111111111111,
              "#46039f"
             ],
             [
              0.2222222222222222,
              "#7201a8"
             ],
             [
              0.3333333333333333,
              "#9c179e"
             ],
             [
              0.4444444444444444,
              "#bd3786"
             ],
             [
              0.5555555555555556,
              "#d8576b"
             ],
             [
              0.6666666666666666,
              "#ed7953"
             ],
             [
              0.7777777777777778,
              "#fb9f3a"
             ],
             [
              0.8888888888888888,
              "#fdca26"
             ],
             [
              1,
              "#f0f921"
             ]
            ],
            "type": "surface"
           }
          ],
          "table": [
           {
            "cells": {
             "fill": {
              "color": "#EBF0F8"
             },
             "line": {
              "color": "white"
             }
            },
            "header": {
             "fill": {
              "color": "#C8D4E3"
             },
             "line": {
              "color": "white"
             }
            },
            "type": "table"
           }
          ]
         },
         "layout": {
          "annotationdefaults": {
           "arrowcolor": "#2a3f5f",
           "arrowhead": 0,
           "arrowwidth": 1
          },
          "autotypenumbers": "strict",
          "coloraxis": {
           "colorbar": {
            "outlinewidth": 0,
            "ticks": ""
           }
          },
          "colorscale": {
           "diverging": [
            [
             0,
             "#8e0152"
            ],
            [
             0.1,
             "#c51b7d"
            ],
            [
             0.2,
             "#de77ae"
            ],
            [
             0.3,
             "#f1b6da"
            ],
            [
             0.4,
             "#fde0ef"
            ],
            [
             0.5,
             "#f7f7f7"
            ],
            [
             0.6,
             "#e6f5d0"
            ],
            [
             0.7,
             "#b8e186"
            ],
            [
             0.8,
             "#7fbc41"
            ],
            [
             0.9,
             "#4d9221"
            ],
            [
             1,
             "#276419"
            ]
           ],
           "sequential": [
            [
             0,
             "#0d0887"
            ],
            [
             0.1111111111111111,
             "#46039f"
            ],
            [
             0.2222222222222222,
             "#7201a8"
            ],
            [
             0.3333333333333333,
             "#9c179e"
            ],
            [
             0.4444444444444444,
             "#bd3786"
            ],
            [
             0.5555555555555556,
             "#d8576b"
            ],
            [
             0.6666666666666666,
             "#ed7953"
            ],
            [
             0.7777777777777778,
             "#fb9f3a"
            ],
            [
             0.8888888888888888,
             "#fdca26"
            ],
            [
             1,
             "#f0f921"
            ]
           ],
           "sequentialminus": [
            [
             0,
             "#0d0887"
            ],
            [
             0.1111111111111111,
             "#46039f"
            ],
            [
             0.2222222222222222,
             "#7201a8"
            ],
            [
             0.3333333333333333,
             "#9c179e"
            ],
            [
             0.4444444444444444,
             "#bd3786"
            ],
            [
             0.5555555555555556,
             "#d8576b"
            ],
            [
             0.6666666666666666,
             "#ed7953"
            ],
            [
             0.7777777777777778,
             "#fb9f3a"
            ],
            [
             0.8888888888888888,
             "#fdca26"
            ],
            [
             1,
             "#f0f921"
            ]
           ]
          },
          "colorway": [
           "#636efa",
           "#EF553B",
           "#00cc96",
           "#ab63fa",
           "#FFA15A",
           "#19d3f3",
           "#FF6692",
           "#B6E880",
           "#FF97FF",
           "#FECB52"
          ],
          "font": {
           "color": "#2a3f5f"
          },
          "geo": {
           "bgcolor": "white",
           "lakecolor": "white",
           "landcolor": "#E5ECF6",
           "showlakes": true,
           "showland": true,
           "subunitcolor": "white"
          },
          "hoverlabel": {
           "align": "left"
          },
          "hovermode": "closest",
          "mapbox": {
           "style": "light"
          },
          "paper_bgcolor": "white",
          "plot_bgcolor": "#E5ECF6",
          "polar": {
           "angularaxis": {
            "gridcolor": "white",
            "linecolor": "white",
            "ticks": ""
           },
           "bgcolor": "#E5ECF6",
           "radialaxis": {
            "gridcolor": "white",
            "linecolor": "white",
            "ticks": ""
           }
          },
          "scene": {
           "xaxis": {
            "backgroundcolor": "#E5ECF6",
            "gridcolor": "white",
            "gridwidth": 2,
            "linecolor": "white",
            "showbackground": true,
            "ticks": "",
            "zerolinecolor": "white"
           },
           "yaxis": {
            "backgroundcolor": "#E5ECF6",
            "gridcolor": "white",
            "gridwidth": 2,
            "linecolor": "white",
            "showbackground": true,
            "ticks": "",
            "zerolinecolor": "white"
           },
           "zaxis": {
            "backgroundcolor": "#E5ECF6",
            "gridcolor": "white",
            "gridwidth": 2,
            "linecolor": "white",
            "showbackground": true,
            "ticks": "",
            "zerolinecolor": "white"
           }
          },
          "shapedefaults": {
           "line": {
            "color": "#2a3f5f"
           }
          },
          "ternary": {
           "aaxis": {
            "gridcolor": "white",
            "linecolor": "white",
            "ticks": ""
           },
           "baxis": {
            "gridcolor": "white",
            "linecolor": "white",
            "ticks": ""
           },
           "bgcolor": "#E5ECF6",
           "caxis": {
            "gridcolor": "white",
            "linecolor": "white",
            "ticks": ""
           }
          },
          "title": {
           "x": 0.05
          },
          "xaxis": {
           "automargin": true,
           "gridcolor": "white",
           "linecolor": "white",
           "ticks": "",
           "title": {
            "standoff": 15
           },
           "zerolinecolor": "white",
           "zerolinewidth": 2
          },
          "yaxis": {
           "automargin": true,
           "gridcolor": "white",
           "linecolor": "white",
           "ticks": "",
           "title": {
            "standoff": 15
           },
           "zerolinecolor": "white",
           "zerolinewidth": 2
          }
         }
        },
        "title": {
         "text": "Comisión Federal de Electricidad - Comparación entre el Monto Aprobado y el Monto Pagado"
        },
        "width": 1200,
        "xaxis": {
         "tickformat": ",",
         "title": {
          "text": "Monto"
         }
        },
        "yaxis": {
         "automargin": true,
         "title": {
          "text": "Concepto"
         }
        }
       }
      }
     },
     "metadata": {},
     "output_type": "display_data"
    },
    {
     "data": {
      "application/vnd.plotly.v1+json": {
       "config": {
        "plotlyServerURL": "https://plot.ly"
       },
       "data": [
        {
         "marker": {
          "color": "blue"
         },
         "name": "Monto Aprobado",
         "orientation": "h",
         "type": "bar",
         "x": [
          0,
          0,
          0,
          0,
          12257,
          169483,
          541271,
          1011899,
          1237190,
          6393655,
          6556213,
          8448151,
          8918752,
          10480703,
          24600000,
          44710405,
          48051118,
          78578832,
          94653925,
          109907912,
          144660669,
          150000000,
          183584338,
          281172574,
          535204934,
          655163549,
          809548836,
          1391439669,
          1514465950,
          2068358431,
          2162902073,
          2974915936,
          4117557687,
          11640820956
         ],
         "y": [
          "Equipo e instrumental médico y de laboratorio",
          "Maquinaria, otros equipos y herramientas",
          "Mobiliario y equipo de administración",
          "Obra pública en bienes propios",
          "Materias primas y materiales de producción y comercialización",
          "Servicios de comunicación social y publicidad",
          "Materiales y artículos de construcción y de reparación",
          "Servicios oficiales",
          "Vestuario, blancos, prendas de protección y artículos deportivos",
          "Combustibles, lubricantes y aditivos",
          "Herramientas, refacciones y accesorios menores",
          "Materiales de administración, emisión de documentos y artículos oficiales",
          "Bienes inmuebles",
          "Servicios de traslado y viáticos",
          "Transferencias al exterior",
          "Alimentos y utensilios",
          "Servicios financieros, bancarios y comerciales",
          "Pago de estímulos a servidores públicos",
          "Servicios de arrendamiento",
          "Servicios básicos",
          "Servicios de instalación, reparación, mantenimiento y conservación",
          "Previsiones",
          "Otros servicios generales",
          "Ayudas sociales",
          "Provisiones para contingencias y otras erogaciones especiales",
          "Seguridad social",
          "Servicios profesionales, científicos, técnicos y otros servicios",
          "Productos químicos, farmacéuticos y de laboratorio",
          "Remuneraciones adicionales y especiales",
          "Remuneraciones al personal de carácter permanente",
          "Otras prestaciones sociales y económicas",
          "Remuneraciones al personal de carácter transitorio",
          "Transferencias a fideicomisos, mandatos y otros análogos",
          "Subsidios y subvenciones"
         ]
        },
        {
         "marker": {
          "color": "green"
         },
         "name": "Monto Pagado",
         "orientation": "h",
         "type": "bar",
         "x": [
          0,
          0,
          0,
          4637975.66,
          67,
          108459.98000000001,
          5166614.94,
          0,
          25733494.73,
          5347469.609999999,
          11745988.97,
          9442033.44,
          5023503.15,
          13134595.14,
          24750143.31,
          47716741.86,
          101487352.39999999,
          103223172.98,
          115695052.48,
          150761265.75,
          180178712.39000002,
          0,
          246048921.87,
          257100400.20000002,
          0,
          567067521.32,
          926074202.49,
          1130917110.3600001,
          1702622880.9,
          2424744337.22,
          2097633678.04,
          2422553716.53,
          3660051276,
          11123395734.71
         ],
         "y": [
          "Equipo e instrumental médico y de laboratorio",
          "Maquinaria, otros equipos y herramientas",
          "Mobiliario y equipo de administración",
          "Obra pública en bienes propios",
          "Materias primas y materiales de producción y comercialización",
          "Servicios de comunicación social y publicidad",
          "Materiales y artículos de construcción y de reparación",
          "Servicios oficiales",
          "Vestuario, blancos, prendas de protección y artículos deportivos",
          "Combustibles, lubricantes y aditivos",
          "Herramientas, refacciones y accesorios menores",
          "Materiales de administración, emisión de documentos y artículos oficiales",
          "Bienes inmuebles",
          "Servicios de traslado y viáticos",
          "Transferencias al exterior",
          "Alimentos y utensilios",
          "Servicios financieros, bancarios y comerciales",
          "Pago de estímulos a servidores públicos",
          "Servicios de arrendamiento",
          "Servicios básicos",
          "Servicios de instalación, reparación, mantenimiento y conservación",
          "Previsiones",
          "Otros servicios generales",
          "Ayudas sociales",
          "Provisiones para contingencias y otras erogaciones especiales",
          "Seguridad social",
          "Servicios profesionales, científicos, técnicos y otros servicios",
          "Productos químicos, farmacéuticos y de laboratorio",
          "Remuneraciones adicionales y especiales",
          "Remuneraciones al personal de carácter permanente",
          "Otras prestaciones sociales y económicas",
          "Remuneraciones al personal de carácter transitorio",
          "Transferencias a fideicomisos, mandatos y otros análogos",
          "Subsidios y subvenciones"
         ]
        }
       ],
       "layout": {
        "barmode": "group",
        "font": {
         "color": "black",
         "size": 14
        },
        "height": 1200,
        "paper_bgcolor": "white",
        "plot_bgcolor": "white",
        "separators": ".,",
        "template": {
         "data": {
          "bar": [
           {
            "error_x": {
             "color": "#2a3f5f"
            },
            "error_y": {
             "color": "#2a3f5f"
            },
            "marker": {
             "line": {
              "color": "#E5ECF6",
              "width": 0.5
             },
             "pattern": {
              "fillmode": "overlay",
              "size": 10,
              "solidity": 0.2
             }
            },
            "type": "bar"
           }
          ],
          "barpolar": [
           {
            "marker": {
             "line": {
              "color": "#E5ECF6",
              "width": 0.5
             },
             "pattern": {
              "fillmode": "overlay",
              "size": 10,
              "solidity": 0.2
             }
            },
            "type": "barpolar"
           }
          ],
          "carpet": [
           {
            "aaxis": {
             "endlinecolor": "#2a3f5f",
             "gridcolor": "white",
             "linecolor": "white",
             "minorgridcolor": "white",
             "startlinecolor": "#2a3f5f"
            },
            "baxis": {
             "endlinecolor": "#2a3f5f",
             "gridcolor": "white",
             "linecolor": "white",
             "minorgridcolor": "white",
             "startlinecolor": "#2a3f5f"
            },
            "type": "carpet"
           }
          ],
          "choropleth": [
           {
            "colorbar": {
             "outlinewidth": 0,
             "ticks": ""
            },
            "type": "choropleth"
           }
          ],
          "contour": [
           {
            "colorbar": {
             "outlinewidth": 0,
             "ticks": ""
            },
            "colorscale": [
             [
              0,
              "#0d0887"
             ],
             [
              0.1111111111111111,
              "#46039f"
             ],
             [
              0.2222222222222222,
              "#7201a8"
             ],
             [
              0.3333333333333333,
              "#9c179e"
             ],
             [
              0.4444444444444444,
              "#bd3786"
             ],
             [
              0.5555555555555556,
              "#d8576b"
             ],
             [
              0.6666666666666666,
              "#ed7953"
             ],
             [
              0.7777777777777778,
              "#fb9f3a"
             ],
             [
              0.8888888888888888,
              "#fdca26"
             ],
             [
              1,
              "#f0f921"
             ]
            ],
            "type": "contour"
           }
          ],
          "contourcarpet": [
           {
            "colorbar": {
             "outlinewidth": 0,
             "ticks": ""
            },
            "type": "contourcarpet"
           }
          ],
          "heatmap": [
           {
            "colorbar": {
             "outlinewidth": 0,
             "ticks": ""
            },
            "colorscale": [
             [
              0,
              "#0d0887"
             ],
             [
              0.1111111111111111,
              "#46039f"
             ],
             [
              0.2222222222222222,
              "#7201a8"
             ],
             [
              0.3333333333333333,
              "#9c179e"
             ],
             [
              0.4444444444444444,
              "#bd3786"
             ],
             [
              0.5555555555555556,
              "#d8576b"
             ],
             [
              0.6666666666666666,
              "#ed7953"
             ],
             [
              0.7777777777777778,
              "#fb9f3a"
             ],
             [
              0.8888888888888888,
              "#fdca26"
             ],
             [
              1,
              "#f0f921"
             ]
            ],
            "type": "heatmap"
           }
          ],
          "heatmapgl": [
           {
            "colorbar": {
             "outlinewidth": 0,
             "ticks": ""
            },
            "colorscale": [
             [
              0,
              "#0d0887"
             ],
             [
              0.1111111111111111,
              "#46039f"
             ],
             [
              0.2222222222222222,
              "#7201a8"
             ],
             [
              0.3333333333333333,
              "#9c179e"
             ],
             [
              0.4444444444444444,
              "#bd3786"
             ],
             [
              0.5555555555555556,
              "#d8576b"
             ],
             [
              0.6666666666666666,
              "#ed7953"
             ],
             [
              0.7777777777777778,
              "#fb9f3a"
             ],
             [
              0.8888888888888888,
              "#fdca26"
             ],
             [
              1,
              "#f0f921"
             ]
            ],
            "type": "heatmapgl"
           }
          ],
          "histogram": [
           {
            "marker": {
             "pattern": {
              "fillmode": "overlay",
              "size": 10,
              "solidity": 0.2
             }
            },
            "type": "histogram"
           }
          ],
          "histogram2d": [
           {
            "colorbar": {
             "outlinewidth": 0,
             "ticks": ""
            },
            "colorscale": [
             [
              0,
              "#0d0887"
             ],
             [
              0.1111111111111111,
              "#46039f"
             ],
             [
              0.2222222222222222,
              "#7201a8"
             ],
             [
              0.3333333333333333,
              "#9c179e"
             ],
             [
              0.4444444444444444,
              "#bd3786"
             ],
             [
              0.5555555555555556,
              "#d8576b"
             ],
             [
              0.6666666666666666,
              "#ed7953"
             ],
             [
              0.7777777777777778,
              "#fb9f3a"
             ],
             [
              0.8888888888888888,
              "#fdca26"
             ],
             [
              1,
              "#f0f921"
             ]
            ],
            "type": "histogram2d"
           }
          ],
          "histogram2dcontour": [
           {
            "colorbar": {
             "outlinewidth": 0,
             "ticks": ""
            },
            "colorscale": [
             [
              0,
              "#0d0887"
             ],
             [
              0.1111111111111111,
              "#46039f"
             ],
             [
              0.2222222222222222,
              "#7201a8"
             ],
             [
              0.3333333333333333,
              "#9c179e"
             ],
             [
              0.4444444444444444,
              "#bd3786"
             ],
             [
              0.5555555555555556,
              "#d8576b"
             ],
             [
              0.6666666666666666,
              "#ed7953"
             ],
             [
              0.7777777777777778,
              "#fb9f3a"
             ],
             [
              0.8888888888888888,
              "#fdca26"
             ],
             [
              1,
              "#f0f921"
             ]
            ],
            "type": "histogram2dcontour"
           }
          ],
          "mesh3d": [
           {
            "colorbar": {
             "outlinewidth": 0,
             "ticks": ""
            },
            "type": "mesh3d"
           }
          ],
          "parcoords": [
           {
            "line": {
             "colorbar": {
              "outlinewidth": 0,
              "ticks": ""
             }
            },
            "type": "parcoords"
           }
          ],
          "pie": [
           {
            "automargin": true,
            "type": "pie"
           }
          ],
          "scatter": [
           {
            "fillpattern": {
             "fillmode": "overlay",
             "size": 10,
             "solidity": 0.2
            },
            "type": "scatter"
           }
          ],
          "scatter3d": [
           {
            "line": {
             "colorbar": {
              "outlinewidth": 0,
              "ticks": ""
             }
            },
            "marker": {
             "colorbar": {
              "outlinewidth": 0,
              "ticks": ""
             }
            },
            "type": "scatter3d"
           }
          ],
          "scattercarpet": [
           {
            "marker": {
             "colorbar": {
              "outlinewidth": 0,
              "ticks": ""
             }
            },
            "type": "scattercarpet"
           }
          ],
          "scattergeo": [
           {
            "marker": {
             "colorbar": {
              "outlinewidth": 0,
              "ticks": ""
             }
            },
            "type": "scattergeo"
           }
          ],
          "scattergl": [
           {
            "marker": {
             "colorbar": {
              "outlinewidth": 0,
              "ticks": ""
             }
            },
            "type": "scattergl"
           }
          ],
          "scattermapbox": [
           {
            "marker": {
             "colorbar": {
              "outlinewidth": 0,
              "ticks": ""
             }
            },
            "type": "scattermapbox"
           }
          ],
          "scatterpolar": [
           {
            "marker": {
             "colorbar": {
              "outlinewidth": 0,
              "ticks": ""
             }
            },
            "type": "scatterpolar"
           }
          ],
          "scatterpolargl": [
           {
            "marker": {
             "colorbar": {
              "outlinewidth": 0,
              "ticks": ""
             }
            },
            "type": "scatterpolargl"
           }
          ],
          "scatterternary": [
           {
            "marker": {
             "colorbar": {
              "outlinewidth": 0,
              "ticks": ""
             }
            },
            "type": "scatterternary"
           }
          ],
          "surface": [
           {
            "colorbar": {
             "outlinewidth": 0,
             "ticks": ""
            },
            "colorscale": [
             [
              0,
              "#0d0887"
             ],
             [
              0.1111111111111111,
              "#46039f"
             ],
             [
              0.2222222222222222,
              "#7201a8"
             ],
             [
              0.3333333333333333,
              "#9c179e"
             ],
             [
              0.4444444444444444,
              "#bd3786"
             ],
             [
              0.5555555555555556,
              "#d8576b"
             ],
             [
              0.6666666666666666,
              "#ed7953"
             ],
             [
              0.7777777777777778,
              "#fb9f3a"
             ],
             [
              0.8888888888888888,
              "#fdca26"
             ],
             [
              1,
              "#f0f921"
             ]
            ],
            "type": "surface"
           }
          ],
          "table": [
           {
            "cells": {
             "fill": {
              "color": "#EBF0F8"
             },
             "line": {
              "color": "white"
             }
            },
            "header": {
             "fill": {
              "color": "#C8D4E3"
             },
             "line": {
              "color": "white"
             }
            },
            "type": "table"
           }
          ]
         },
         "layout": {
          "annotationdefaults": {
           "arrowcolor": "#2a3f5f",
           "arrowhead": 0,
           "arrowwidth": 1
          },
          "autotypenumbers": "strict",
          "coloraxis": {
           "colorbar": {
            "outlinewidth": 0,
            "ticks": ""
           }
          },
          "colorscale": {
           "diverging": [
            [
             0,
             "#8e0152"
            ],
            [
             0.1,
             "#c51b7d"
            ],
            [
             0.2,
             "#de77ae"
            ],
            [
             0.3,
             "#f1b6da"
            ],
            [
             0.4,
             "#fde0ef"
            ],
            [
             0.5,
             "#f7f7f7"
            ],
            [
             0.6,
             "#e6f5d0"
            ],
            [
             0.7,
             "#b8e186"
            ],
            [
             0.8,
             "#7fbc41"
            ],
            [
             0.9,
             "#4d9221"
            ],
            [
             1,
             "#276419"
            ]
           ],
           "sequential": [
            [
             0,
             "#0d0887"
            ],
            [
             0.1111111111111111,
             "#46039f"
            ],
            [
             0.2222222222222222,
             "#7201a8"
            ],
            [
             0.3333333333333333,
             "#9c179e"
            ],
            [
             0.4444444444444444,
             "#bd3786"
            ],
            [
             0.5555555555555556,
             "#d8576b"
            ],
            [
             0.6666666666666666,
             "#ed7953"
            ],
            [
             0.7777777777777778,
             "#fb9f3a"
            ],
            [
             0.8888888888888888,
             "#fdca26"
            ],
            [
             1,
             "#f0f921"
            ]
           ],
           "sequentialminus": [
            [
             0,
             "#0d0887"
            ],
            [
             0.1111111111111111,
             "#46039f"
            ],
            [
             0.2222222222222222,
             "#7201a8"
            ],
            [
             0.3333333333333333,
             "#9c179e"
            ],
            [
             0.4444444444444444,
             "#bd3786"
            ],
            [
             0.5555555555555556,
             "#d8576b"
            ],
            [
             0.6666666666666666,
             "#ed7953"
            ],
            [
             0.7777777777777778,
             "#fb9f3a"
            ],
            [
             0.8888888888888888,
             "#fdca26"
            ],
            [
             1,
             "#f0f921"
            ]
           ]
          },
          "colorway": [
           "#636efa",
           "#EF553B",
           "#00cc96",
           "#ab63fa",
           "#FFA15A",
           "#19d3f3",
           "#FF6692",
           "#B6E880",
           "#FF97FF",
           "#FECB52"
          ],
          "font": {
           "color": "#2a3f5f"
          },
          "geo": {
           "bgcolor": "white",
           "lakecolor": "white",
           "landcolor": "#E5ECF6",
           "showlakes": true,
           "showland": true,
           "subunitcolor": "white"
          },
          "hoverlabel": {
           "align": "left"
          },
          "hovermode": "closest",
          "mapbox": {
           "style": "light"
          },
          "paper_bgcolor": "white",
          "plot_bgcolor": "#E5ECF6",
          "polar": {
           "angularaxis": {
            "gridcolor": "white",
            "linecolor": "white",
            "ticks": ""
           },
           "bgcolor": "#E5ECF6",
           "radialaxis": {
            "gridcolor": "white",
            "linecolor": "white",
            "ticks": ""
           }
          },
          "scene": {
           "xaxis": {
            "backgroundcolor": "#E5ECF6",
            "gridcolor": "white",
            "gridwidth": 2,
            "linecolor": "white",
            "showbackground": true,
            "ticks": "",
            "zerolinecolor": "white"
           },
           "yaxis": {
            "backgroundcolor": "#E5ECF6",
            "gridcolor": "white",
            "gridwidth": 2,
            "linecolor": "white",
            "showbackground": true,
            "ticks": "",
            "zerolinecolor": "white"
           },
           "zaxis": {
            "backgroundcolor": "#E5ECF6",
            "gridcolor": "white",
            "gridwidth": 2,
            "linecolor": "white",
            "showbackground": true,
            "ticks": "",
            "zerolinecolor": "white"
           }
          },
          "shapedefaults": {
           "line": {
            "color": "#2a3f5f"
           }
          },
          "ternary": {
           "aaxis": {
            "gridcolor": "white",
            "linecolor": "white",
            "ticks": ""
           },
           "baxis": {
            "gridcolor": "white",
            "linecolor": "white",
            "ticks": ""
           },
           "bgcolor": "#E5ECF6",
           "caxis": {
            "gridcolor": "white",
            "linecolor": "white",
            "ticks": ""
           }
          },
          "title": {
           "x": 0.05
          },
          "xaxis": {
           "automargin": true,
           "gridcolor": "white",
           "linecolor": "white",
           "ticks": "",
           "title": {
            "standoff": 15
           },
           "zerolinecolor": "white",
           "zerolinewidth": 2
          },
          "yaxis": {
           "automargin": true,
           "gridcolor": "white",
           "linecolor": "white",
           "ticks": "",
           "title": {
            "standoff": 15
           },
           "zerolinecolor": "white",
           "zerolinewidth": 2
          }
         }
        },
        "title": {
         "text": "Salud - Comparación entre el Monto Aprobado y el Monto Pagado"
        },
        "width": 1200,
        "xaxis": {
         "tickformat": ",",
         "title": {
          "text": "Monto"
         }
        },
        "yaxis": {
         "automargin": true,
         "title": {
          "text": "Concepto"
         }
        }
       }
      }
     },
     "metadata": {},
     "output_type": "display_data"
    }
   ],
   "source": [
    "import ipywidgets as widgets\n",
    "import plotly.graph_objects as go\n",
    "\n",
    "# Lista de desc_ramo\n",
    "ramos = pef_df['desc_ramo'].unique().tolist()\n",
    "\n",
    "# Widget Dropdown\n",
    "ramo_dropdown = widgets.Dropdown(\n",
    "    options=ramos,\n",
    "    value=ramos[0],\n",
    "    description='Ramo:',\n",
    ")\n",
    "\n",
    "# Función para generar gráfico\n",
    "def plot_graph(ramo):\n",
    "    ramo_df = pef_df[pef_df['desc_ramo'] == ramo]\n",
    "    ramo_df = ramo_df.groupby('desc_concepto').agg(\n",
    "        monto_aprobado_mensual = ('_monto_aprobado_mensual', 'sum'),\n",
    "        monto_pagado = ('_monto_pagado', 'sum')\n",
    "    ).sort_values('monto_aprobado_mensual', ascending=True)  # Agrega sort_values aquí\n",
    "\n",
    "    # Creando las barras para el Monto Aprobado\n",
    "    trace1 = go.Bar(\n",
    "        y=ramo_df.index,  # eje Y\n",
    "        x=ramo_df['monto_aprobado_mensual'],  # eje X\n",
    "        name='Monto Aprobado',\n",
    "        orientation='h',  # Cambia la orientación a horizontal\n",
    "        marker_color='blue'\n",
    "    )\n",
    "\n",
    "    # Creando las barras para el Monto Pagado\n",
    "    trace2 = go.Bar(\n",
    "        y=ramo_df.index,  # eje Y\n",
    "        x=ramo_df['monto_pagado'],  # eje X\n",
    "        name='Monto Pagado',\n",
    "        orientation='h',  # Cambia la orientación a horizontal\n",
    "        marker_color='green'\n",
    "    )\n",
    "\n",
    "    # Agregamos las barras en la gráfica\n",
    "    data = [trace1, trace2]\n",
    "\n",
    "    # Creamos el layout\n",
    "    layout = go.Layout(\n",
    "        title=f'{ramo} - Comparación entre el Monto Aprobado y el Monto Pagado',\n",
    "        barmode='group',  # permite agrupar las barras en vez de superponerlas\n",
    "        xaxis=dict(\n",
    "            title='Monto',\n",
    "            tickformat=\",\"  # Agrega formato de comas a las marcas del eje X\n",
    "        ),\n",
    "        yaxis=dict(title='Concepto', automargin=True),  # automargin ayuda a ajustar el margen automáticamente para el texto de etiqueta\n",
    "        plot_bgcolor='white',  # Cambia el color de fondo del plot\n",
    "        paper_bgcolor='white',  # Cambia el color de fondo del paper\n",
    "        font=dict(\n",
    "            size=14,  # Cambia el tamaño de la fuente\n",
    "            color=\"black\"  # Cambia el color de la fuente\n",
    "        )\n",
    "    )\n",
    "\n",
    "    # Creamos el objeto Figure y visualizamos\n",
    "    fig = go.Figure(data=data, layout=layout)\n",
    "    fig.update_layout(\n",
    "        separators=\".,\",  # Ajusta el formato de los números a español\n",
    "        width=1200, \n",
    "        height=1200  # Agrega aquí las dimensiones de la gráfica\n",
    "    )\n",
    "    fig.show()\n",
    "\n",
    "# Función para manejar el evento de cambio en el Dropdown\n",
    "def on_ramo_change(change):\n",
    "    plot_graph(change.new)\n",
    "\n",
    "# Asociamos la función 'on_ramo_change' al evento 'value' del Dropdown\n",
    "ramo_dropdown.observe(on_ramo_change, names='value')\n",
    "\n",
    "# Mostramos el Dropdown\n",
    "display(ramo_dropdown)\n",
    "\n",
    "# Generamos el primer gráfico\n",
    "plot_graph(ramos[0])\n"
   ]
  },
  {
   "cell_type": "code",
   "execution_count": null,
   "metadata": {},
   "outputs": [],
   "source": []
  }
 ],
 "metadata": {
  "kernelspec": {
   "display_name": "cuenta_publica",
   "language": "python",
   "name": "python3"
  },
  "language_info": {
   "codemirror_mode": {
    "name": "ipython",
    "version": 3
   },
   "file_extension": ".py",
   "mimetype": "text/x-python",
   "name": "python",
   "nbconvert_exporter": "python",
   "pygments_lexer": "ipython3",
   "version": "3.9.12"
  },
  "orig_nbformat": 4
 },
 "nbformat": 4,
 "nbformat_minor": 2
}
