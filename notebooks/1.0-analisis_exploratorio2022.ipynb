{
 "cells": [
  {
   "cell_type": "code",
   "execution_count": 2,
   "metadata": {},
   "outputs": [],
   "source": [
    "import os\n",
    "import pandas as pd\n",
    "import janitor\n",
    "\n",
    "pef = os.path.join('..', 'data', '2022.xlsx')\n",
    "\n",
    "pef_df=pd.read_excel(pef)\n",
    "pef_df= pef_df.clean_names()\n"
   ]
  },
  {
   "cell_type": "markdown",
   "metadata": {},
   "source": [
    "### Gráfica por institución"
   ]
  },
  {
   "cell_type": "code",
   "execution_count": 15,
   "metadata": {},
   "outputs": [
    {
     "data": {
      "application/vnd.jupyter.widget-view+json": {
       "model_id": "b4921456834643b981b17c997c5f9c91",
       "version_major": 2,
       "version_minor": 0
      },
      "text/plain": [
       "Dropdown(description='Ramo:', options=('Instituto Nacional Electoral', 'Comisión Nacional de los Derechos Huma…"
      ]
     },
     "metadata": {},
     "output_type": "display_data"
    },
    {
     "data": {
      "application/vnd.plotly.v1+json": {
       "config": {
        "plotlyServerURL": "https://plot.ly"
       },
       "data": [
        {
         "marker": {
          "color": "blue"
         },
         "name": "Monto Aprobado",
         "orientation": "h",
         "text": [
          1.841253,
          4.321716,
          4.448289,
          4.823651,
          5.090522,
          5.112253,
          5.163583,
          5.39845,
          6.350688,
          9.08687,
          10.384055,
          11.580858,
          14.178213,
          14.558647,
          15.574206,
          16.997353,
          17.60847,
          17.916955,
          19.644883,
          19.962289,
          21.019337,
          21.384329,
          21.841575,
          24.09043,
          24.597495,
          26.502254,
          27.135408,
          28.108631,
          28.418758,
          33.170693,
          37.158445,
          37.38586,
          50.502246,
          54.358349,
          56.37453,
          71.27976,
          78.77325,
          100,
          132.364691,
          246.722112,
          248.9591,
          339.462576,
          1953.069557,
          2809.160127,
          23872.221624,
          62825.379774
         ],
         "textposition": "outside",
         "texttemplate": "%{text:,.0f} Millones",
         "type": "bar",
         "x": [
          1.841253,
          4.321716,
          4.448289,
          4.823651,
          5.090522,
          5.112253,
          5.163583,
          5.39845,
          6.350688,
          9.08687,
          10.384055,
          11.580858,
          14.178213,
          14.558647,
          15.574206,
          16.997353,
          17.60847,
          17.916955,
          19.644883,
          19.962289,
          21.019337,
          21.384329,
          21.841575,
          24.09043,
          24.597495,
          26.502254,
          27.135408,
          28.108631,
          28.418758,
          33.170693,
          37.158445,
          37.38586,
          50.502246,
          54.358349,
          56.37453,
          71.27976,
          78.77325,
          100,
          132.364691,
          246.722112,
          248.9591,
          339.462576,
          1953.069557,
          2809.160127,
          23872.221624,
          62825.379774
         ],
         "y": [
          "Subsecretaría de Planeación, Prevención, Protección Civil y Construcción de Paz",
          "Unidad de Prevención de la Violencia y el Delito",
          "Unidad de Planeación y Evaluación Institucional",
          "Unidad General de Asuntos Jurídicos y Transparencia",
          "Unidad de Políticas y Estrategias para la Construcción de Paz con Entidades Federativas y Regiones",
          "Unidad de Información, Infraestructura Informática y Vinculación Tecnológica",
          "Unidad de Análisis Estratégicos y Vinculación Interinstitucional",
          "Unidad de Política Policial, Penitenciaria y Seguridad Privada",
          "Coordinación Nacional de Protección Civil",
          "Unidad de Administración y Finanzas",
          "Subsecretaría de Seguridad Pública",
          "Dirección General de Comunicación Social",
          "Dirección General para la Gestión de Riesgos",
          "Dirección General de Planeación Estratégica para la Prevención",
          "Dirección General de Integración y Evaluación Institucional",
          "Dirección General de Vinculación, Innovación y Normativa en Protección Civil",
          "Secretaría Técnica de las Conferencias Nacionales de Secretarios de Seguridad Pública y del Sistema Penitenciario",
          "Dirección General de lo Contencioso y Procedimientos Constitucionales",
          "Dirección General de lo Consultivo y Derechos Humanos",
          "Dirección General de Transparencia y Archivos",
          "Dirección General de Política y Desarrollo Penitenciario",
          "Dirección General de Implementación y Evaluación de Políticas para la Prevención",
          "Dirección General de Planeación y  Prospectiva",
          "Dirección General de Coordinación Estratégica",
          "Dirección General de Vinculación Interinstitucional",
          "Secretaría",
          "Dirección General de Coordinación con Entidades Federativas Zona 2",
          "Dirección General de Análisis Criminal",
          "Dirección General de Política Criminal",
          "Dirección General de Política y Desarrollo Policial",
          "Dirección General de Protección Civil",
          "Dirección General de Coordinación con Entidades Federativas Zona 1",
          "Dirección General de Seguridad Privada",
          "Coordinación Nacional Antisecuestro",
          "Dirección General de Gestión de Servicios, Ciberseguridad y Desarrollo Tecnológico",
          "Centro Nacional de Prevención de Desastres",
          "Dirección General de Programación y Presupuesto",
          "Policía Federal - Transición",
          "Dirección General de Recursos Humanos",
          "Dirección General de Recursos Materiales, Servicios y Obra Pública",
          "Secretariado Ejecutivo del Sistema Nacional de Seguridad Pública",
          "Centro Nacional de Información Plataforma México",
          "Servicio de Protección Federal",
          "Centro Nacional de Inteligencia",
          "Prevención y Readaptación Social",
          "Guardia Nacional"
         ]
        },
        {
         "marker": {
          "color": "green"
         },
         "name": "Monto Pagado",
         "orientation": "h",
         "text": [
          0.0514634,
          9.0978731,
          3.5400549,
          19.005279799999997,
          4.0971451,
          3.9560696999999996,
          3.9202187000000004,
          3.0304617,
          6.7634685999999995,
          456.230175,
          9.511861699999999,
          11.777199300000001,
          180.8279229,
          18.7952872,
          12.194439200000001,
          16.4101672,
          17.538202100000003,
          22.4819302,
          18.9901323,
          18.1429377,
          18.246329,
          20.1633995,
          17.010689199999998,
          25.6745355,
          25.1233698,
          154.37360080000002,
          34.694232,
          27.8985956,
          25.7955788,
          29.603156499999997,
          38.0850244,
          46.275812,
          45.0656685,
          78.58913790000001,
          52.553810399999996,
          65.4936498,
          50.5575783,
          36.0655111,
          83.2214751,
          323.0044636,
          427.29092760000003,
          539.7804285,
          4766.0761016999995,
          2781.8392808,
          19822.896954400003,
          23695.2640851
         ],
         "textposition": "outside",
         "texttemplate": "%{text:,.0f} Millones",
         "type": "bar",
         "x": [
          0.0514634,
          9.0978731,
          3.5400549,
          19.005279799999997,
          4.0971451,
          3.9560696999999996,
          3.9202187000000004,
          3.0304617,
          6.7634685999999995,
          456.230175,
          9.511861699999999,
          11.777199300000001,
          180.8279229,
          18.7952872,
          12.194439200000001,
          16.4101672,
          17.538202100000003,
          22.4819302,
          18.9901323,
          18.1429377,
          18.246329,
          20.1633995,
          17.010689199999998,
          25.6745355,
          25.1233698,
          154.37360080000002,
          34.694232,
          27.8985956,
          25.7955788,
          29.603156499999997,
          38.0850244,
          46.275812,
          45.0656685,
          78.58913790000001,
          52.553810399999996,
          65.4936498,
          50.5575783,
          36.0655111,
          83.2214751,
          323.0044636,
          427.29092760000003,
          539.7804285,
          4766.0761016999995,
          2781.8392808,
          19822.896954400003,
          23695.2640851
         ],
         "y": [
          "Subsecretaría de Planeación, Prevención, Protección Civil y Construcción de Paz",
          "Unidad de Prevención de la Violencia y el Delito",
          "Unidad de Planeación y Evaluación Institucional",
          "Unidad General de Asuntos Jurídicos y Transparencia",
          "Unidad de Políticas y Estrategias para la Construcción de Paz con Entidades Federativas y Regiones",
          "Unidad de Información, Infraestructura Informática y Vinculación Tecnológica",
          "Unidad de Análisis Estratégicos y Vinculación Interinstitucional",
          "Unidad de Política Policial, Penitenciaria y Seguridad Privada",
          "Coordinación Nacional de Protección Civil",
          "Unidad de Administración y Finanzas",
          "Subsecretaría de Seguridad Pública",
          "Dirección General de Comunicación Social",
          "Dirección General para la Gestión de Riesgos",
          "Dirección General de Planeación Estratégica para la Prevención",
          "Dirección General de Integración y Evaluación Institucional",
          "Dirección General de Vinculación, Innovación y Normativa en Protección Civil",
          "Secretaría Técnica de las Conferencias Nacionales de Secretarios de Seguridad Pública y del Sistema Penitenciario",
          "Dirección General de lo Contencioso y Procedimientos Constitucionales",
          "Dirección General de lo Consultivo y Derechos Humanos",
          "Dirección General de Transparencia y Archivos",
          "Dirección General de Política y Desarrollo Penitenciario",
          "Dirección General de Implementación y Evaluación de Políticas para la Prevención",
          "Dirección General de Planeación y  Prospectiva",
          "Dirección General de Coordinación Estratégica",
          "Dirección General de Vinculación Interinstitucional",
          "Secretaría",
          "Dirección General de Coordinación con Entidades Federativas Zona 2",
          "Dirección General de Análisis Criminal",
          "Dirección General de Política Criminal",
          "Dirección General de Política y Desarrollo Policial",
          "Dirección General de Protección Civil",
          "Dirección General de Coordinación con Entidades Federativas Zona 1",
          "Dirección General de Seguridad Privada",
          "Coordinación Nacional Antisecuestro",
          "Dirección General de Gestión de Servicios, Ciberseguridad y Desarrollo Tecnológico",
          "Centro Nacional de Prevención de Desastres",
          "Dirección General de Programación y Presupuesto",
          "Policía Federal - Transición",
          "Dirección General de Recursos Humanos",
          "Dirección General de Recursos Materiales, Servicios y Obra Pública",
          "Secretariado Ejecutivo del Sistema Nacional de Seguridad Pública",
          "Centro Nacional de Información Plataforma México",
          "Servicio de Protección Federal",
          "Centro Nacional de Inteligencia",
          "Prevención y Readaptación Social",
          "Guardia Nacional"
         ]
        }
       ],
       "layout": {
        "annotations": [
         {
          "font": {
           "size": 12
          },
          "showarrow": false,
          "text": "Fuente: Elaboración propia con datos de Transparencia Presupuestaria",
          "x": 0,
          "xref": "paper",
          "y": -0.15,
          "yref": "paper"
         }
        ],
        "barmode": "group",
        "font": {
         "color": "black",
         "size": 14
        },
        "height": 1200,
        "paper_bgcolor": "white",
        "plot_bgcolor": "white",
        "separators": ".,",
        "template": {
         "data": {
          "bar": [
           {
            "error_x": {
             "color": "#2a3f5f"
            },
            "error_y": {
             "color": "#2a3f5f"
            },
            "marker": {
             "line": {
              "color": "#E5ECF6",
              "width": 0.5
             },
             "pattern": {
              "fillmode": "overlay",
              "size": 10,
              "solidity": 0.2
             }
            },
            "type": "bar"
           }
          ],
          "barpolar": [
           {
            "marker": {
             "line": {
              "color": "#E5ECF6",
              "width": 0.5
             },
             "pattern": {
              "fillmode": "overlay",
              "size": 10,
              "solidity": 0.2
             }
            },
            "type": "barpolar"
           }
          ],
          "carpet": [
           {
            "aaxis": {
             "endlinecolor": "#2a3f5f",
             "gridcolor": "white",
             "linecolor": "white",
             "minorgridcolor": "white",
             "startlinecolor": "#2a3f5f"
            },
            "baxis": {
             "endlinecolor": "#2a3f5f",
             "gridcolor": "white",
             "linecolor": "white",
             "minorgridcolor": "white",
             "startlinecolor": "#2a3f5f"
            },
            "type": "carpet"
           }
          ],
          "choropleth": [
           {
            "colorbar": {
             "outlinewidth": 0,
             "ticks": ""
            },
            "type": "choropleth"
           }
          ],
          "contour": [
           {
            "colorbar": {
             "outlinewidth": 0,
             "ticks": ""
            },
            "colorscale": [
             [
              0,
              "#0d0887"
             ],
             [
              0.1111111111111111,
              "#46039f"
             ],
             [
              0.2222222222222222,
              "#7201a8"
             ],
             [
              0.3333333333333333,
              "#9c179e"
             ],
             [
              0.4444444444444444,
              "#bd3786"
             ],
             [
              0.5555555555555556,
              "#d8576b"
             ],
             [
              0.6666666666666666,
              "#ed7953"
             ],
             [
              0.7777777777777778,
              "#fb9f3a"
             ],
             [
              0.8888888888888888,
              "#fdca26"
             ],
             [
              1,
              "#f0f921"
             ]
            ],
            "type": "contour"
           }
          ],
          "contourcarpet": [
           {
            "colorbar": {
             "outlinewidth": 0,
             "ticks": ""
            },
            "type": "contourcarpet"
           }
          ],
          "heatmap": [
           {
            "colorbar": {
             "outlinewidth": 0,
             "ticks": ""
            },
            "colorscale": [
             [
              0,
              "#0d0887"
             ],
             [
              0.1111111111111111,
              "#46039f"
             ],
             [
              0.2222222222222222,
              "#7201a8"
             ],
             [
              0.3333333333333333,
              "#9c179e"
             ],
             [
              0.4444444444444444,
              "#bd3786"
             ],
             [
              0.5555555555555556,
              "#d8576b"
             ],
             [
              0.6666666666666666,
              "#ed7953"
             ],
             [
              0.7777777777777778,
              "#fb9f3a"
             ],
             [
              0.8888888888888888,
              "#fdca26"
             ],
             [
              1,
              "#f0f921"
             ]
            ],
            "type": "heatmap"
           }
          ],
          "heatmapgl": [
           {
            "colorbar": {
             "outlinewidth": 0,
             "ticks": ""
            },
            "colorscale": [
             [
              0,
              "#0d0887"
             ],
             [
              0.1111111111111111,
              "#46039f"
             ],
             [
              0.2222222222222222,
              "#7201a8"
             ],
             [
              0.3333333333333333,
              "#9c179e"
             ],
             [
              0.4444444444444444,
              "#bd3786"
             ],
             [
              0.5555555555555556,
              "#d8576b"
             ],
             [
              0.6666666666666666,
              "#ed7953"
             ],
             [
              0.7777777777777778,
              "#fb9f3a"
             ],
             [
              0.8888888888888888,
              "#fdca26"
             ],
             [
              1,
              "#f0f921"
             ]
            ],
            "type": "heatmapgl"
           }
          ],
          "histogram": [
           {
            "marker": {
             "pattern": {
              "fillmode": "overlay",
              "size": 10,
              "solidity": 0.2
             }
            },
            "type": "histogram"
           }
          ],
          "histogram2d": [
           {
            "colorbar": {
             "outlinewidth": 0,
             "ticks": ""
            },
            "colorscale": [
             [
              0,
              "#0d0887"
             ],
             [
              0.1111111111111111,
              "#46039f"
             ],
             [
              0.2222222222222222,
              "#7201a8"
             ],
             [
              0.3333333333333333,
              "#9c179e"
             ],
             [
              0.4444444444444444,
              "#bd3786"
             ],
             [
              0.5555555555555556,
              "#d8576b"
             ],
             [
              0.6666666666666666,
              "#ed7953"
             ],
             [
              0.7777777777777778,
              "#fb9f3a"
             ],
             [
              0.8888888888888888,
              "#fdca26"
             ],
             [
              1,
              "#f0f921"
             ]
            ],
            "type": "histogram2d"
           }
          ],
          "histogram2dcontour": [
           {
            "colorbar": {
             "outlinewidth": 0,
             "ticks": ""
            },
            "colorscale": [
             [
              0,
              "#0d0887"
             ],
             [
              0.1111111111111111,
              "#46039f"
             ],
             [
              0.2222222222222222,
              "#7201a8"
             ],
             [
              0.3333333333333333,
              "#9c179e"
             ],
             [
              0.4444444444444444,
              "#bd3786"
             ],
             [
              0.5555555555555556,
              "#d8576b"
             ],
             [
              0.6666666666666666,
              "#ed7953"
             ],
             [
              0.7777777777777778,
              "#fb9f3a"
             ],
             [
              0.8888888888888888,
              "#fdca26"
             ],
             [
              1,
              "#f0f921"
             ]
            ],
            "type": "histogram2dcontour"
           }
          ],
          "mesh3d": [
           {
            "colorbar": {
             "outlinewidth": 0,
             "ticks": ""
            },
            "type": "mesh3d"
           }
          ],
          "parcoords": [
           {
            "line": {
             "colorbar": {
              "outlinewidth": 0,
              "ticks": ""
             }
            },
            "type": "parcoords"
           }
          ],
          "pie": [
           {
            "automargin": true,
            "type": "pie"
           }
          ],
          "scatter": [
           {
            "fillpattern": {
             "fillmode": "overlay",
             "size": 10,
             "solidity": 0.2
            },
            "type": "scatter"
           }
          ],
          "scatter3d": [
           {
            "line": {
             "colorbar": {
              "outlinewidth": 0,
              "ticks": ""
             }
            },
            "marker": {
             "colorbar": {
              "outlinewidth": 0,
              "ticks": ""
             }
            },
            "type": "scatter3d"
           }
          ],
          "scattercarpet": [
           {
            "marker": {
             "colorbar": {
              "outlinewidth": 0,
              "ticks": ""
             }
            },
            "type": "scattercarpet"
           }
          ],
          "scattergeo": [
           {
            "marker": {
             "colorbar": {
              "outlinewidth": 0,
              "ticks": ""
             }
            },
            "type": "scattergeo"
           }
          ],
          "scattergl": [
           {
            "marker": {
             "colorbar": {
              "outlinewidth": 0,
              "ticks": ""
             }
            },
            "type": "scattergl"
           }
          ],
          "scattermapbox": [
           {
            "marker": {
             "colorbar": {
              "outlinewidth": 0,
              "ticks": ""
             }
            },
            "type": "scattermapbox"
           }
          ],
          "scatterpolar": [
           {
            "marker": {
             "colorbar": {
              "outlinewidth": 0,
              "ticks": ""
             }
            },
            "type": "scatterpolar"
           }
          ],
          "scatterpolargl": [
           {
            "marker": {
             "colorbar": {
              "outlinewidth": 0,
              "ticks": ""
             }
            },
            "type": "scatterpolargl"
           }
          ],
          "scatterternary": [
           {
            "marker": {
             "colorbar": {
              "outlinewidth": 0,
              "ticks": ""
             }
            },
            "type": "scatterternary"
           }
          ],
          "surface": [
           {
            "colorbar": {
             "outlinewidth": 0,
             "ticks": ""
            },
            "colorscale": [
             [
              0,
              "#0d0887"
             ],
             [
              0.1111111111111111,
              "#46039f"
             ],
             [
              0.2222222222222222,
              "#7201a8"
             ],
             [
              0.3333333333333333,
              "#9c179e"
             ],
             [
              0.4444444444444444,
              "#bd3786"
             ],
             [
              0.5555555555555556,
              "#d8576b"
             ],
             [
              0.6666666666666666,
              "#ed7953"
             ],
             [
              0.7777777777777778,
              "#fb9f3a"
             ],
             [
              0.8888888888888888,
              "#fdca26"
             ],
             [
              1,
              "#f0f921"
             ]
            ],
            "type": "surface"
           }
          ],
          "table": [
           {
            "cells": {
             "fill": {
              "color": "#EBF0F8"
             },
             "line": {
              "color": "white"
             }
            },
            "header": {
             "fill": {
              "color": "#C8D4E3"
             },
             "line": {
              "color": "white"
             }
            },
            "type": "table"
           }
          ]
         },
         "layout": {
          "annotationdefaults": {
           "arrowcolor": "#2a3f5f",
           "arrowhead": 0,
           "arrowwidth": 1
          },
          "autotypenumbers": "strict",
          "coloraxis": {
           "colorbar": {
            "outlinewidth": 0,
            "ticks": ""
           }
          },
          "colorscale": {
           "diverging": [
            [
             0,
             "#8e0152"
            ],
            [
             0.1,
             "#c51b7d"
            ],
            [
             0.2,
             "#de77ae"
            ],
            [
             0.3,
             "#f1b6da"
            ],
            [
             0.4,
             "#fde0ef"
            ],
            [
             0.5,
             "#f7f7f7"
            ],
            [
             0.6,
             "#e6f5d0"
            ],
            [
             0.7,
             "#b8e186"
            ],
            [
             0.8,
             "#7fbc41"
            ],
            [
             0.9,
             "#4d9221"
            ],
            [
             1,
             "#276419"
            ]
           ],
           "sequential": [
            [
             0,
             "#0d0887"
            ],
            [
             0.1111111111111111,
             "#46039f"
            ],
            [
             0.2222222222222222,
             "#7201a8"
            ],
            [
             0.3333333333333333,
             "#9c179e"
            ],
            [
             0.4444444444444444,
             "#bd3786"
            ],
            [
             0.5555555555555556,
             "#d8576b"
            ],
            [
             0.6666666666666666,
             "#ed7953"
            ],
            [
             0.7777777777777778,
             "#fb9f3a"
            ],
            [
             0.8888888888888888,
             "#fdca26"
            ],
            [
             1,
             "#f0f921"
            ]
           ],
           "sequentialminus": [
            [
             0,
             "#0d0887"
            ],
            [
             0.1111111111111111,
             "#46039f"
            ],
            [
             0.2222222222222222,
             "#7201a8"
            ],
            [
             0.3333333333333333,
             "#9c179e"
            ],
            [
             0.4444444444444444,
             "#bd3786"
            ],
            [
             0.5555555555555556,
             "#d8576b"
            ],
            [
             0.6666666666666666,
             "#ed7953"
            ],
            [
             0.7777777777777778,
             "#fb9f3a"
            ],
            [
             0.8888888888888888,
             "#fdca26"
            ],
            [
             1,
             "#f0f921"
            ]
           ]
          },
          "colorway": [
           "#636efa",
           "#EF553B",
           "#00cc96",
           "#ab63fa",
           "#FFA15A",
           "#19d3f3",
           "#FF6692",
           "#B6E880",
           "#FF97FF",
           "#FECB52"
          ],
          "font": {
           "color": "#2a3f5f"
          },
          "geo": {
           "bgcolor": "white",
           "lakecolor": "white",
           "landcolor": "#E5ECF6",
           "showlakes": true,
           "showland": true,
           "subunitcolor": "white"
          },
          "hoverlabel": {
           "align": "left"
          },
          "hovermode": "closest",
          "mapbox": {
           "style": "light"
          },
          "paper_bgcolor": "white",
          "plot_bgcolor": "#E5ECF6",
          "polar": {
           "angularaxis": {
            "gridcolor": "white",
            "linecolor": "white",
            "ticks": ""
           },
           "bgcolor": "#E5ECF6",
           "radialaxis": {
            "gridcolor": "white",
            "linecolor": "white",
            "ticks": ""
           }
          },
          "scene": {
           "xaxis": {
            "backgroundcolor": "#E5ECF6",
            "gridcolor": "white",
            "gridwidth": 2,
            "linecolor": "white",
            "showbackground": true,
            "ticks": "",
            "zerolinecolor": "white"
           },
           "yaxis": {
            "backgroundcolor": "#E5ECF6",
            "gridcolor": "white",
            "gridwidth": 2,
            "linecolor": "white",
            "showbackground": true,
            "ticks": "",
            "zerolinecolor": "white"
           },
           "zaxis": {
            "backgroundcolor": "#E5ECF6",
            "gridcolor": "white",
            "gridwidth": 2,
            "linecolor": "white",
            "showbackground": true,
            "ticks": "",
            "zerolinecolor": "white"
           }
          },
          "shapedefaults": {
           "line": {
            "color": "#2a3f5f"
           }
          },
          "ternary": {
           "aaxis": {
            "gridcolor": "white",
            "linecolor": "white",
            "ticks": ""
           },
           "baxis": {
            "gridcolor": "white",
            "linecolor": "white",
            "ticks": ""
           },
           "bgcolor": "#E5ECF6",
           "caxis": {
            "gridcolor": "white",
            "linecolor": "white",
            "ticks": ""
           }
          },
          "title": {
           "x": 0.05
          },
          "xaxis": {
           "automargin": true,
           "gridcolor": "white",
           "linecolor": "white",
           "ticks": "",
           "title": {
            "standoff": 15
           },
           "zerolinecolor": "white",
           "zerolinewidth": 2
          },
          "yaxis": {
           "automargin": true,
           "gridcolor": "white",
           "linecolor": "white",
           "ticks": "",
           "title": {
            "standoff": 15
           },
           "zerolinecolor": "white",
           "zerolinewidth": 2
          }
         }
        },
        "title": {
         "text": "Seguridad y Protección Ciudadana - Comparación entre el Monto Aprobado y el Monto Pagado (en millones) 2022"
        },
        "width": 2000,
        "xaxis": {
         "tickformat": ",",
         "title": {
          "text": "Monto (en millones)"
         }
        },
        "yaxis": {
         "automargin": true,
         "title": {
          "text": "Concepto"
         }
        }
       }
      }
     },
     "metadata": {},
     "output_type": "display_data"
    }
   ],
   "source": [
    "import ipywidgets as widgets\n",
    "import plotly.graph_objects as go\n",
    "\n",
    "# Lista de desc_ramo\n",
    "ramos = pef_df['desc_ramo'].unique().tolist()\n",
    "\n",
    "# Widget Dropdown\n",
    "ramo_dropdown = widgets.Dropdown(\n",
    "    options=ramos,\n",
    "    value=ramos[0],\n",
    "    description='Ramo:',\n",
    ")\n",
    "\n",
    "# Función para generar gráfico\n",
    "def plot_graph(ramo):\n",
    "    ramo_df = pef_df[pef_df['desc_ramo'] == ramo]\n",
    "    ramo_df = ramo_df.groupby('desc_ur').agg(\n",
    "        monto_aprobado=('monto_aprobado', 'sum'),\n",
    "        monto_pagado=('monto_pagado', 'sum')\n",
    "    ).sort_values('monto_aprobado', ascending=True)\n",
    "\n",
    "    # Creando las barras para el Monto Aprobado\n",
    "    trace1 = go.Bar(\n",
    "        y=ramo_df.index,\n",
    "        x=ramo_df['monto_aprobado'] / 1_000_000,  # Convertir a millones\n",
    "        name='Monto Aprobado',\n",
    "        orientation='h',\n",
    "        marker_color='blue',\n",
    "        text=ramo_df['monto_aprobado'] / 1_000_000,  # Convertir a millones\n",
    "        textposition='outside',\n",
    "        texttemplate='%{text:,.0f} Millones'  # Modificar template para incluir 'Millones'\n",
    "    )\n",
    "\n",
    "    # Creando las barras para el Monto Pagado\n",
    "    trace2 = go.Bar(\n",
    "        y=ramo_df.index,\n",
    "        x=ramo_df['monto_pagado'] / 1_000_000,  # Convertir a millones\n",
    "        name='Monto Pagado',\n",
    "        orientation='h',\n",
    "        marker_color='green',\n",
    "        text=ramo_df['monto_pagado'] / 1_000_000,  # Convertir a millones\n",
    "        textposition='outside',\n",
    "        texttemplate='%{text:,.0f} Millones'  # Modificar template para incluir 'Millones'\n",
    "    )\n",
    "\n",
    "    # Agregamos las barras en la gráfica\n",
    "    data = [trace1, trace2]\n",
    "\n",
    "    # Creamos el layout\n",
    "    layout = go.Layout(\n",
    "        title=f'{ramo} - Comparación entre el Monto Aprobado y el Monto Pagado (en millones) 2022',\n",
    "        barmode='group',\n",
    "        xaxis=dict(\n",
    "            title='Monto (en millones)',\n",
    "            tickformat=\",\"\n",
    "        ),\n",
    "        yaxis=dict(title='Concepto', automargin=True),\n",
    "        plot_bgcolor='white',\n",
    "        paper_bgcolor='white',\n",
    "        font=dict(\n",
    "            size=14,\n",
    "            color=\"black\"\n",
    "        ),\n",
    "        annotations=[\n",
    "            dict(\n",
    "                x=0,\n",
    "                y=-0.15,\n",
    "                showarrow=False,\n",
    "                text=\"Fuente: Elaboración propia con datos de Transparencia Presupuestaria\",\n",
    "                xref=\"paper\",\n",
    "                yref=\"paper\",\n",
    "                font=dict(size=12)\n",
    "            )\n",
    "        ]\n",
    "    )\n",
    "\n",
    "    # Creamos el objeto Figure y visualizamos\n",
    "    fig = go.Figure(data=data, layout=layout)\n",
    "    fig.update_layout(\n",
    "        separators=\".,\",\n",
    "        width=2000, \n",
    "        height=1200\n",
    "    )\n",
    "    fig.show()\n",
    "\n",
    "# Función para manejar el evento de cambio en el Dropdown\n",
    "def on_ramo_change(change):\n",
    "    plot_graph(change.new)\n",
    "\n",
    "# Asociamos la función 'on_ramo_change' al evento 'value' del Dropdown\n",
    "ramo_dropdown.observe(on_ramo_change, names='value')\n",
    "\n",
    "# Mostramos el Dropdown\n",
    "display(ramo_dropdown)\n",
    "\n",
    "# Generamos el primer gráfico\n",
    "#plot_graph(ramos[0])\n"
   ]
  },
  {
   "cell_type": "code",
   "execution_count": null,
   "metadata": {},
   "outputs": [],
   "source": []
  }
 ],
 "metadata": {
  "kernelspec": {
   "display_name": "cuenta_publica",
   "language": "python",
   "name": "python3"
  },
  "language_info": {
   "codemirror_mode": {
    "name": "ipython",
    "version": 3
   },
   "file_extension": ".py",
   "mimetype": "text/x-python",
   "name": "python",
   "nbconvert_exporter": "python",
   "pygments_lexer": "ipython3",
   "version": "3.9.12"
  },
  "orig_nbformat": 4
 },
 "nbformat": 4,
 "nbformat_minor": 2
}
