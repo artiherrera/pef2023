{
 "cells": [
  {
   "cell_type": "code",
   "execution_count": 2,
   "metadata": {},
   "outputs": [],
   "source": [
    "import os\n",
    "import pandas as pd\n",
    "import janitor\n",
    "\n",
    "pef = os.path.join('..', 'data', '2022.xlsx')\n",
    "\n",
    "pef_df=pd.read_excel(pef)\n",
    "pef_df= pef_df.clean_names()\n"
   ]
  },
  {
   "cell_type": "code",
   "execution_count": 3,
   "metadata": {},
   "outputs": [
    {
     "data": {
      "text/html": [
       "<div>\n",
       "<style scoped>\n",
       "    .dataframe tbody tr th:only-of-type {\n",
       "        vertical-align: middle;\n",
       "    }\n",
       "\n",
       "    .dataframe tbody tr th {\n",
       "        vertical-align: top;\n",
       "    }\n",
       "\n",
       "    .dataframe thead th {\n",
       "        text-align: right;\n",
       "    }\n",
       "</style>\n",
       "<table border=\"1\" class=\"dataframe\">\n",
       "  <thead>\n",
       "    <tr style=\"text-align: right;\">\n",
       "      <th></th>\n",
       "      <th>0</th>\n",
       "    </tr>\n",
       "  </thead>\n",
       "  <tbody>\n",
       "    <tr>\n",
       "      <th>ciclo</th>\n",
       "      <td>int64</td>\n",
       "    </tr>\n",
       "    <tr>\n",
       "      <th>id_ramo</th>\n",
       "      <td>int64</td>\n",
       "    </tr>\n",
       "    <tr>\n",
       "      <th>desc_ramo</th>\n",
       "      <td>object</td>\n",
       "    </tr>\n",
       "    <tr>\n",
       "      <th>id_ur</th>\n",
       "      <td>object</td>\n",
       "    </tr>\n",
       "    <tr>\n",
       "      <th>desc_ur</th>\n",
       "      <td>object</td>\n",
       "    </tr>\n",
       "    <tr>\n",
       "      <th>gpo_funcional</th>\n",
       "      <td>int64</td>\n",
       "    </tr>\n",
       "    <tr>\n",
       "      <th>desc_gpo_funcional</th>\n",
       "      <td>object</td>\n",
       "    </tr>\n",
       "    <tr>\n",
       "      <th>id_funcion</th>\n",
       "      <td>int64</td>\n",
       "    </tr>\n",
       "    <tr>\n",
       "      <th>desc_funcion</th>\n",
       "      <td>object</td>\n",
       "    </tr>\n",
       "    <tr>\n",
       "      <th>id_subfuncion</th>\n",
       "      <td>int64</td>\n",
       "    </tr>\n",
       "    <tr>\n",
       "      <th>desc_subfuncion</th>\n",
       "      <td>object</td>\n",
       "    </tr>\n",
       "    <tr>\n",
       "      <th>id_ai</th>\n",
       "      <td>int64</td>\n",
       "    </tr>\n",
       "    <tr>\n",
       "      <th>desc_ai</th>\n",
       "      <td>object</td>\n",
       "    </tr>\n",
       "    <tr>\n",
       "      <th>id_modalidad</th>\n",
       "      <td>object</td>\n",
       "    </tr>\n",
       "    <tr>\n",
       "      <th>desc_modalidad</th>\n",
       "      <td>object</td>\n",
       "    </tr>\n",
       "    <tr>\n",
       "      <th>id_pp</th>\n",
       "      <td>int64</td>\n",
       "    </tr>\n",
       "    <tr>\n",
       "      <th>desc_pp</th>\n",
       "      <td>object</td>\n",
       "    </tr>\n",
       "    <tr>\n",
       "      <th>id_objeto_del_gasto</th>\n",
       "      <td>int64</td>\n",
       "    </tr>\n",
       "    <tr>\n",
       "      <th>desc_objeto_del_gasto</th>\n",
       "      <td>object</td>\n",
       "    </tr>\n",
       "    <tr>\n",
       "      <th>id_tipogasto</th>\n",
       "      <td>int64</td>\n",
       "    </tr>\n",
       "    <tr>\n",
       "      <th>desc_tipogasto</th>\n",
       "      <td>object</td>\n",
       "    </tr>\n",
       "    <tr>\n",
       "      <th>id_ff</th>\n",
       "      <td>int64</td>\n",
       "    </tr>\n",
       "    <tr>\n",
       "      <th>desc_ff</th>\n",
       "      <td>object</td>\n",
       "    </tr>\n",
       "    <tr>\n",
       "      <th>id_entidad_federativa</th>\n",
       "      <td>int64</td>\n",
       "    </tr>\n",
       "    <tr>\n",
       "      <th>entidad_federativa</th>\n",
       "      <td>object</td>\n",
       "    </tr>\n",
       "    <tr>\n",
       "      <th>id_clave_cartera</th>\n",
       "      <td>object</td>\n",
       "    </tr>\n",
       "    <tr>\n",
       "      <th>monto_aprobado</th>\n",
       "      <td>int64</td>\n",
       "    </tr>\n",
       "    <tr>\n",
       "      <th>monto_modificado</th>\n",
       "      <td>float64</td>\n",
       "    </tr>\n",
       "    <tr>\n",
       "      <th>monto_devengado</th>\n",
       "      <td>float64</td>\n",
       "    </tr>\n",
       "    <tr>\n",
       "      <th>monto_pagado</th>\n",
       "      <td>float64</td>\n",
       "    </tr>\n",
       "    <tr>\n",
       "      <th>adefas</th>\n",
       "      <td>float64</td>\n",
       "    </tr>\n",
       "    <tr>\n",
       "      <th>ejercicio</th>\n",
       "      <td>float64</td>\n",
       "    </tr>\n",
       "  </tbody>\n",
       "</table>\n",
       "</div>"
      ],
      "text/plain": [
       "                             0\n",
       "ciclo                    int64\n",
       "id_ramo                  int64\n",
       "desc_ramo               object\n",
       "id_ur                   object\n",
       "desc_ur                 object\n",
       "gpo_funcional            int64\n",
       "desc_gpo_funcional      object\n",
       "id_funcion               int64\n",
       "desc_funcion            object\n",
       "id_subfuncion            int64\n",
       "desc_subfuncion         object\n",
       "id_ai                    int64\n",
       "desc_ai                 object\n",
       "id_modalidad            object\n",
       "desc_modalidad          object\n",
       "id_pp                    int64\n",
       "desc_pp                 object\n",
       "id_objeto_del_gasto      int64\n",
       "desc_objeto_del_gasto   object\n",
       "id_tipogasto             int64\n",
       "desc_tipogasto          object\n",
       "id_ff                    int64\n",
       "desc_ff                 object\n",
       "id_entidad_federativa    int64\n",
       "entidad_federativa      object\n",
       "id_clave_cartera        object\n",
       "monto_aprobado           int64\n",
       "monto_modificado       float64\n",
       "monto_devengado        float64\n",
       "monto_pagado           float64\n",
       "adefas                 float64\n",
       "ejercicio              float64"
      ]
     },
     "execution_count": 3,
     "metadata": {},
     "output_type": "execute_result"
    }
   ],
   "source": [
    "pd.DataFrame(pef_df.dtypes)"
   ]
  },
  {
   "cell_type": "markdown",
   "metadata": {},
   "source": [
    "### Gráfica por institución"
   ]
  },
  {
   "cell_type": "code",
   "execution_count": 17,
   "metadata": {},
   "outputs": [
    {
     "data": {
      "application/vnd.jupyter.widget-view+json": {
       "model_id": "e56832f730b24cc9bef2a00672d0935b",
       "version_major": 2,
       "version_minor": 0
      },
      "text/plain": [
       "Dropdown(description='Ramo:', options=('Instituto Nacional Electoral', 'Comisión Nacional de los Derechos Huma…"
      ]
     },
     "metadata": {},
     "output_type": "display_data"
    },
    {
     "data": {
      "application/vnd.plotly.v1+json": {
       "config": {
        "plotlyServerURL": "https://plot.ly"
       },
       "data": [
        {
         "marker": {
          "color": "blue"
         },
         "name": "Monto Aprobado",
         "orientation": "h",
         "type": "bar",
         "x": [
          24457883,
          35285462,
          61226928,
          65440088,
          80289287,
          92028650,
          96605548,
          100507049,
          111507796,
          153545749,
          176568848,
          176614216,
          233994189,
          265125832,
          285369769,
          419170516,
          572810984,
          854297758,
          1449488164,
          1541231833,
          6124971999,
          6816055424
         ],
         "y": [
          "Unidad Técnica de Igualdad de Género y No Discriminación",
          "Coordinación de Asuntos Internacionales",
          "Unidad Técnica de Vinculación con los Organismos Públicos Locales",
          "Presidencia del Consejo General",
          "Dirección del Secretariado",
          "Unidad Técnica de Transparencia y Protección de Datos Personales",
          "Coordinación Nacional de Comunicación Social",
          "Unidad Técnica de lo Contencioso Electoral",
          "Dirección Jurídica",
          "Dirección Ejecutiva del Servicio Profesional Electoral Nacional",
          "Secretaría Ejecutiva",
          "Órgano Interno de Control",
          "Consejeros Electorales",
          "Dirección Ejecutiva de Organización Electoral",
          "Dirección Ejecutiva de Capacitación Electoral y Educación Cívica",
          "Unidad Técnica de Fiscalización",
          "Unidad de Servicios de Informática",
          "Dirección Ejecutiva de Administración",
          "Juntas Locales Ejecutivas",
          "Dirección Ejecutiva del Registro Federal de Electores",
          "Dirección Ejecutiva de Prerrogativas y Partidos Políticos",
          "Juntas Distritales Ejecutivas"
         ]
        },
        {
         "marker": {
          "color": "green"
         },
         "name": "Monto Pagado",
         "orientation": "h",
         "type": "bar",
         "x": [
          20811829.9,
          30104697.099999998,
          56773426.8,
          63475202,
          71959010.39999999,
          85197313.2,
          92413806.3,
          101597490.1,
          114872553.2,
          163182300.8,
          158335234.7,
          172414916.5,
          232211165.70000002,
          239710749.8,
          290879317.6,
          352602587.09999996,
          552861687.9,
          1052258779.8,
          1498011224.8,
          1365872284.6,
          6117497598.4,
          6698982575.5
         ],
         "y": [
          "Unidad Técnica de Igualdad de Género y No Discriminación",
          "Coordinación de Asuntos Internacionales",
          "Unidad Técnica de Vinculación con los Organismos Públicos Locales",
          "Presidencia del Consejo General",
          "Dirección del Secretariado",
          "Unidad Técnica de Transparencia y Protección de Datos Personales",
          "Coordinación Nacional de Comunicación Social",
          "Unidad Técnica de lo Contencioso Electoral",
          "Dirección Jurídica",
          "Dirección Ejecutiva del Servicio Profesional Electoral Nacional",
          "Secretaría Ejecutiva",
          "Órgano Interno de Control",
          "Consejeros Electorales",
          "Dirección Ejecutiva de Organización Electoral",
          "Dirección Ejecutiva de Capacitación Electoral y Educación Cívica",
          "Unidad Técnica de Fiscalización",
          "Unidad de Servicios de Informática",
          "Dirección Ejecutiva de Administración",
          "Juntas Locales Ejecutivas",
          "Dirección Ejecutiva del Registro Federal de Electores",
          "Dirección Ejecutiva de Prerrogativas y Partidos Políticos",
          "Juntas Distritales Ejecutivas"
         ]
        }
       ],
       "layout": {
        "barmode": "group",
        "font": {
         "color": "black",
         "size": 14
        },
        "height": 1200,
        "paper_bgcolor": "white",
        "plot_bgcolor": "white",
        "separators": ".,",
        "template": {
         "data": {
          "bar": [
           {
            "error_x": {
             "color": "#2a3f5f"
            },
            "error_y": {
             "color": "#2a3f5f"
            },
            "marker": {
             "line": {
              "color": "#E5ECF6",
              "width": 0.5
             },
             "pattern": {
              "fillmode": "overlay",
              "size": 10,
              "solidity": 0.2
             }
            },
            "type": "bar"
           }
          ],
          "barpolar": [
           {
            "marker": {
             "line": {
              "color": "#E5ECF6",
              "width": 0.5
             },
             "pattern": {
              "fillmode": "overlay",
              "size": 10,
              "solidity": 0.2
             }
            },
            "type": "barpolar"
           }
          ],
          "carpet": [
           {
            "aaxis": {
             "endlinecolor": "#2a3f5f",
             "gridcolor": "white",
             "linecolor": "white",
             "minorgridcolor": "white",
             "startlinecolor": "#2a3f5f"
            },
            "baxis": {
             "endlinecolor": "#2a3f5f",
             "gridcolor": "white",
             "linecolor": "white",
             "minorgridcolor": "white",
             "startlinecolor": "#2a3f5f"
            },
            "type": "carpet"
           }
          ],
          "choropleth": [
           {
            "colorbar": {
             "outlinewidth": 0,
             "ticks": ""
            },
            "type": "choropleth"
           }
          ],
          "contour": [
           {
            "colorbar": {
             "outlinewidth": 0,
             "ticks": ""
            },
            "colorscale": [
             [
              0,
              "#0d0887"
             ],
             [
              0.1111111111111111,
              "#46039f"
             ],
             [
              0.2222222222222222,
              "#7201a8"
             ],
             [
              0.3333333333333333,
              "#9c179e"
             ],
             [
              0.4444444444444444,
              "#bd3786"
             ],
             [
              0.5555555555555556,
              "#d8576b"
             ],
             [
              0.6666666666666666,
              "#ed7953"
             ],
             [
              0.7777777777777778,
              "#fb9f3a"
             ],
             [
              0.8888888888888888,
              "#fdca26"
             ],
             [
              1,
              "#f0f921"
             ]
            ],
            "type": "contour"
           }
          ],
          "contourcarpet": [
           {
            "colorbar": {
             "outlinewidth": 0,
             "ticks": ""
            },
            "type": "contourcarpet"
           }
          ],
          "heatmap": [
           {
            "colorbar": {
             "outlinewidth": 0,
             "ticks": ""
            },
            "colorscale": [
             [
              0,
              "#0d0887"
             ],
             [
              0.1111111111111111,
              "#46039f"
             ],
             [
              0.2222222222222222,
              "#7201a8"
             ],
             [
              0.3333333333333333,
              "#9c179e"
             ],
             [
              0.4444444444444444,
              "#bd3786"
             ],
             [
              0.5555555555555556,
              "#d8576b"
             ],
             [
              0.6666666666666666,
              "#ed7953"
             ],
             [
              0.7777777777777778,
              "#fb9f3a"
             ],
             [
              0.8888888888888888,
              "#fdca26"
             ],
             [
              1,
              "#f0f921"
             ]
            ],
            "type": "heatmap"
           }
          ],
          "heatmapgl": [
           {
            "colorbar": {
             "outlinewidth": 0,
             "ticks": ""
            },
            "colorscale": [
             [
              0,
              "#0d0887"
             ],
             [
              0.1111111111111111,
              "#46039f"
             ],
             [
              0.2222222222222222,
              "#7201a8"
             ],
             [
              0.3333333333333333,
              "#9c179e"
             ],
             [
              0.4444444444444444,
              "#bd3786"
             ],
             [
              0.5555555555555556,
              "#d8576b"
             ],
             [
              0.6666666666666666,
              "#ed7953"
             ],
             [
              0.7777777777777778,
              "#fb9f3a"
             ],
             [
              0.8888888888888888,
              "#fdca26"
             ],
             [
              1,
              "#f0f921"
             ]
            ],
            "type": "heatmapgl"
           }
          ],
          "histogram": [
           {
            "marker": {
             "pattern": {
              "fillmode": "overlay",
              "size": 10,
              "solidity": 0.2
             }
            },
            "type": "histogram"
           }
          ],
          "histogram2d": [
           {
            "colorbar": {
             "outlinewidth": 0,
             "ticks": ""
            },
            "colorscale": [
             [
              0,
              "#0d0887"
             ],
             [
              0.1111111111111111,
              "#46039f"
             ],
             [
              0.2222222222222222,
              "#7201a8"
             ],
             [
              0.3333333333333333,
              "#9c179e"
             ],
             [
              0.4444444444444444,
              "#bd3786"
             ],
             [
              0.5555555555555556,
              "#d8576b"
             ],
             [
              0.6666666666666666,
              "#ed7953"
             ],
             [
              0.7777777777777778,
              "#fb9f3a"
             ],
             [
              0.8888888888888888,
              "#fdca26"
             ],
             [
              1,
              "#f0f921"
             ]
            ],
            "type": "histogram2d"
           }
          ],
          "histogram2dcontour": [
           {
            "colorbar": {
             "outlinewidth": 0,
             "ticks": ""
            },
            "colorscale": [
             [
              0,
              "#0d0887"
             ],
             [
              0.1111111111111111,
              "#46039f"
             ],
             [
              0.2222222222222222,
              "#7201a8"
             ],
             [
              0.3333333333333333,
              "#9c179e"
             ],
             [
              0.4444444444444444,
              "#bd3786"
             ],
             [
              0.5555555555555556,
              "#d8576b"
             ],
             [
              0.6666666666666666,
              "#ed7953"
             ],
             [
              0.7777777777777778,
              "#fb9f3a"
             ],
             [
              0.8888888888888888,
              "#fdca26"
             ],
             [
              1,
              "#f0f921"
             ]
            ],
            "type": "histogram2dcontour"
           }
          ],
          "mesh3d": [
           {
            "colorbar": {
             "outlinewidth": 0,
             "ticks": ""
            },
            "type": "mesh3d"
           }
          ],
          "parcoords": [
           {
            "line": {
             "colorbar": {
              "outlinewidth": 0,
              "ticks": ""
             }
            },
            "type": "parcoords"
           }
          ],
          "pie": [
           {
            "automargin": true,
            "type": "pie"
           }
          ],
          "scatter": [
           {
            "fillpattern": {
             "fillmode": "overlay",
             "size": 10,
             "solidity": 0.2
            },
            "type": "scatter"
           }
          ],
          "scatter3d": [
           {
            "line": {
             "colorbar": {
              "outlinewidth": 0,
              "ticks": ""
             }
            },
            "marker": {
             "colorbar": {
              "outlinewidth": 0,
              "ticks": ""
             }
            },
            "type": "scatter3d"
           }
          ],
          "scattercarpet": [
           {
            "marker": {
             "colorbar": {
              "outlinewidth": 0,
              "ticks": ""
             }
            },
            "type": "scattercarpet"
           }
          ],
          "scattergeo": [
           {
            "marker": {
             "colorbar": {
              "outlinewidth": 0,
              "ticks": ""
             }
            },
            "type": "scattergeo"
           }
          ],
          "scattergl": [
           {
            "marker": {
             "colorbar": {
              "outlinewidth": 0,
              "ticks": ""
             }
            },
            "type": "scattergl"
           }
          ],
          "scattermapbox": [
           {
            "marker": {
             "colorbar": {
              "outlinewidth": 0,
              "ticks": ""
             }
            },
            "type": "scattermapbox"
           }
          ],
          "scatterpolar": [
           {
            "marker": {
             "colorbar": {
              "outlinewidth": 0,
              "ticks": ""
             }
            },
            "type": "scatterpolar"
           }
          ],
          "scatterpolargl": [
           {
            "marker": {
             "colorbar": {
              "outlinewidth": 0,
              "ticks": ""
             }
            },
            "type": "scatterpolargl"
           }
          ],
          "scatterternary": [
           {
            "marker": {
             "colorbar": {
              "outlinewidth": 0,
              "ticks": ""
             }
            },
            "type": "scatterternary"
           }
          ],
          "surface": [
           {
            "colorbar": {
             "outlinewidth": 0,
             "ticks": ""
            },
            "colorscale": [
             [
              0,
              "#0d0887"
             ],
             [
              0.1111111111111111,
              "#46039f"
             ],
             [
              0.2222222222222222,
              "#7201a8"
             ],
             [
              0.3333333333333333,
              "#9c179e"
             ],
             [
              0.4444444444444444,
              "#bd3786"
             ],
             [
              0.5555555555555556,
              "#d8576b"
             ],
             [
              0.6666666666666666,
              "#ed7953"
             ],
             [
              0.7777777777777778,
              "#fb9f3a"
             ],
             [
              0.8888888888888888,
              "#fdca26"
             ],
             [
              1,
              "#f0f921"
             ]
            ],
            "type": "surface"
           }
          ],
          "table": [
           {
            "cells": {
             "fill": {
              "color": "#EBF0F8"
             },
             "line": {
              "color": "white"
             }
            },
            "header": {
             "fill": {
              "color": "#C8D4E3"
             },
             "line": {
              "color": "white"
             }
            },
            "type": "table"
           }
          ]
         },
         "layout": {
          "annotationdefaults": {
           "arrowcolor": "#2a3f5f",
           "arrowhead": 0,
           "arrowwidth": 1
          },
          "autotypenumbers": "strict",
          "coloraxis": {
           "colorbar": {
            "outlinewidth": 0,
            "ticks": ""
           }
          },
          "colorscale": {
           "diverging": [
            [
             0,
             "#8e0152"
            ],
            [
             0.1,
             "#c51b7d"
            ],
            [
             0.2,
             "#de77ae"
            ],
            [
             0.3,
             "#f1b6da"
            ],
            [
             0.4,
             "#fde0ef"
            ],
            [
             0.5,
             "#f7f7f7"
            ],
            [
             0.6,
             "#e6f5d0"
            ],
            [
             0.7,
             "#b8e186"
            ],
            [
             0.8,
             "#7fbc41"
            ],
            [
             0.9,
             "#4d9221"
            ],
            [
             1,
             "#276419"
            ]
           ],
           "sequential": [
            [
             0,
             "#0d0887"
            ],
            [
             0.1111111111111111,
             "#46039f"
            ],
            [
             0.2222222222222222,
             "#7201a8"
            ],
            [
             0.3333333333333333,
             "#9c179e"
            ],
            [
             0.4444444444444444,
             "#bd3786"
            ],
            [
             0.5555555555555556,
             "#d8576b"
            ],
            [
             0.6666666666666666,
             "#ed7953"
            ],
            [
             0.7777777777777778,
             "#fb9f3a"
            ],
            [
             0.8888888888888888,
             "#fdca26"
            ],
            [
             1,
             "#f0f921"
            ]
           ],
           "sequentialminus": [
            [
             0,
             "#0d0887"
            ],
            [
             0.1111111111111111,
             "#46039f"
            ],
            [
             0.2222222222222222,
             "#7201a8"
            ],
            [
             0.3333333333333333,
             "#9c179e"
            ],
            [
             0.4444444444444444,
             "#bd3786"
            ],
            [
             0.5555555555555556,
             "#d8576b"
            ],
            [
             0.6666666666666666,
             "#ed7953"
            ],
            [
             0.7777777777777778,
             "#fb9f3a"
            ],
            [
             0.8888888888888888,
             "#fdca26"
            ],
            [
             1,
             "#f0f921"
            ]
           ]
          },
          "colorway": [
           "#636efa",
           "#EF553B",
           "#00cc96",
           "#ab63fa",
           "#FFA15A",
           "#19d3f3",
           "#FF6692",
           "#B6E880",
           "#FF97FF",
           "#FECB52"
          ],
          "font": {
           "color": "#2a3f5f"
          },
          "geo": {
           "bgcolor": "white",
           "lakecolor": "white",
           "landcolor": "#E5ECF6",
           "showlakes": true,
           "showland": true,
           "subunitcolor": "white"
          },
          "hoverlabel": {
           "align": "left"
          },
          "hovermode": "closest",
          "mapbox": {
           "style": "light"
          },
          "paper_bgcolor": "white",
          "plot_bgcolor": "#E5ECF6",
          "polar": {
           "angularaxis": {
            "gridcolor": "white",
            "linecolor": "white",
            "ticks": ""
           },
           "bgcolor": "#E5ECF6",
           "radialaxis": {
            "gridcolor": "white",
            "linecolor": "white",
            "ticks": ""
           }
          },
          "scene": {
           "xaxis": {
            "backgroundcolor": "#E5ECF6",
            "gridcolor": "white",
            "gridwidth": 2,
            "linecolor": "white",
            "showbackground": true,
            "ticks": "",
            "zerolinecolor": "white"
           },
           "yaxis": {
            "backgroundcolor": "#E5ECF6",
            "gridcolor": "white",
            "gridwidth": 2,
            "linecolor": "white",
            "showbackground": true,
            "ticks": "",
            "zerolinecolor": "white"
           },
           "zaxis": {
            "backgroundcolor": "#E5ECF6",
            "gridcolor": "white",
            "gridwidth": 2,
            "linecolor": "white",
            "showbackground": true,
            "ticks": "",
            "zerolinecolor": "white"
           }
          },
          "shapedefaults": {
           "line": {
            "color": "#2a3f5f"
           }
          },
          "ternary": {
           "aaxis": {
            "gridcolor": "white",
            "linecolor": "white",
            "ticks": ""
           },
           "baxis": {
            "gridcolor": "white",
            "linecolor": "white",
            "ticks": ""
           },
           "bgcolor": "#E5ECF6",
           "caxis": {
            "gridcolor": "white",
            "linecolor": "white",
            "ticks": ""
           }
          },
          "title": {
           "x": 0.05
          },
          "xaxis": {
           "automargin": true,
           "gridcolor": "white",
           "linecolor": "white",
           "ticks": "",
           "title": {
            "standoff": 15
           },
           "zerolinecolor": "white",
           "zerolinewidth": 2
          },
          "yaxis": {
           "automargin": true,
           "gridcolor": "white",
           "linecolor": "white",
           "ticks": "",
           "title": {
            "standoff": 15
           },
           "zerolinecolor": "white",
           "zerolinewidth": 2
          }
         }
        },
        "title": {
         "text": "Instituto Nacional Electoral - Comparación entre el Monto Aprobado y el Monto Pagado"
        },
        "width": 1200,
        "xaxis": {
         "tickformat": ",",
         "title": {
          "text": "Monto"
         }
        },
        "yaxis": {
         "automargin": true,
         "title": {
          "text": "Concepto"
         }
        }
       }
      }
     },
     "metadata": {},
     "output_type": "display_data"
    }
   ],
   "source": [
    "import ipywidgets as widgets\n",
    "import plotly.graph_objects as go\n",
    "\n",
    "# Lista de desc_ramo\n",
    "ramos = pef_df['desc_ramo'].unique().tolist()\n",
    "\n",
    "# Widget Dropdown\n",
    "ramo_dropdown = widgets.Dropdown(\n",
    "    options=ramos,\n",
    "    value=ramos[0],\n",
    "    description='Ramo:',\n",
    ")\n",
    "\n",
    "# Función para generar gráfico\n",
    "def plot_graph(ramo):\n",
    "    ramo_df = pef_df[pef_df['desc_ramo'] == ramo]\n",
    "    ramo_df = ramo_df.groupby('desc_ur').agg(\n",
    "        monto_aprobado = ('monto_aprobado', 'sum'),\n",
    "        monto_pagado = ('monto_pagado', 'sum')\n",
    "    ).sort_values('monto_aprobado', ascending=True)  # Agrega sort_values aquí\n",
    "\n",
    "    # Creando las barras para el Monto Aprobado\n",
    "    trace1 = go.Bar(\n",
    "        y=ramo_df.index,  # eje Y\n",
    "        x=ramo_df['monto_aprobado'],  # eje X\n",
    "        name='Monto Aprobado',\n",
    "        orientation='h',  # Cambia la orientación a horizontal\n",
    "        marker_color='blue'\n",
    "    )\n",
    "\n",
    "    # Creando las barras para el Monto Pagado\n",
    "    trace2 = go.Bar(\n",
    "        y=ramo_df.index,  # eje Y\n",
    "        x=ramo_df['monto_pagado'],  # eje X\n",
    "        name='Monto Pagado',\n",
    "        orientation='h',  # Cambia la orientación a horizontal\n",
    "        marker_color='green'\n",
    "    )\n",
    "\n",
    "    # Agregamos las barras en la gráfica\n",
    "    data = [trace1, trace2]\n",
    "\n",
    "    # Creamos el layout\n",
    "    layout = go.Layout(\n",
    "        title=f'{ramo} - Comparación entre el Monto Aprobado y el Monto Pagado',\n",
    "        barmode='group',  # permite agrupar las barras en vez de superponerlas\n",
    "        xaxis=dict(\n",
    "            title='Monto',\n",
    "            tickformat=\",\"  # Agrega formato de comas a las marcas del eje X\n",
    "        ),\n",
    "        yaxis=dict(title='Concepto', automargin=True),  # automargin ayuda a ajustar el margen automáticamente para el texto de etiqueta\n",
    "        plot_bgcolor='white',  # Cambia el color de fondo del plot\n",
    "        paper_bgcolor='white',  # Cambia el color de fondo del paper\n",
    "        font=dict(\n",
    "            size=14,  # Cambia el tamaño de la fuente\n",
    "            color=\"black\"  # Cambia el color de la fuente\n",
    "        )\n",
    "    )\n",
    "\n",
    "    # Creamos el objeto Figure y visualizamos\n",
    "    fig = go.Figure(data=data, layout=layout)\n",
    "    fig.update_layout(\n",
    "        separators=\".,\",  # Ajusta el formato de los números a español\n",
    "        width=1200, \n",
    "        height=1200  # Agrega aquí las dimensiones de la gráfica\n",
    "    )\n",
    "    fig.show()\n",
    "\n",
    "# Función para manejar el evento de cambio en el Dropdown\n",
    "def on_ramo_change(change):\n",
    "    plot_graph(change.new)\n",
    "\n",
    "# Asociamos la función 'on_ramo_change' al evento 'value' del Dropdown\n",
    "ramo_dropdown.observe(on_ramo_change, names='value')\n",
    "\n",
    "# Mostramos el Dropdown\n",
    "display(ramo_dropdown)\n",
    "\n",
    "# Generamos el primer gráfico\n",
    "plot_graph(ramos[0])\n"
   ]
  },
  {
   "cell_type": "code",
   "execution_count": 20,
   "metadata": {},
   "outputs": [
    {
     "ename": "ImportError",
     "evalue": "cannot import name 'SelectMultiple' from 'bokeh.models' (/Users/arturoherrera/anaconda3/envs/cuenta_publica/lib/python3.9/site-packages/bokeh/models/__init__.py)",
     "output_type": "error",
     "traceback": [
      "\u001b[0;31m---------------------------------------------------------------------------\u001b[0m",
      "\u001b[0;31mImportError\u001b[0m                               Traceback (most recent call last)",
      "\u001b[1;32m/Users/arturoherrera/Documents/Indat/cuenta_publica/notebooks/1.0-analisis_exploratorio2022.ipynb Celda 5\u001b[0m in \u001b[0;36m<cell line: 2>\u001b[0;34m()\u001b[0m\n\u001b[1;32m      <a href='vscode-notebook-cell:/Users/arturoherrera/Documents/Indat/cuenta_publica/notebooks/1.0-analisis_exploratorio2022.ipynb#X15sZmlsZQ%3D%3D?line=0'>1</a>\u001b[0m \u001b[39mfrom\u001b[39;00m \u001b[39mbokeh\u001b[39;00m\u001b[39m.\u001b[39;00m\u001b[39mio\u001b[39;00m \u001b[39mimport\u001b[39;00m output_notebook, push_notebook, show\n\u001b[0;32m----> <a href='vscode-notebook-cell:/Users/arturoherrera/Documents/Indat/cuenta_publica/notebooks/1.0-analisis_exploratorio2022.ipynb#X15sZmlsZQ%3D%3D?line=1'>2</a>\u001b[0m \u001b[39mfrom\u001b[39;00m \u001b[39mbokeh\u001b[39;00m\u001b[39m.\u001b[39;00m\u001b[39mmodels\u001b[39;00m \u001b[39mimport\u001b[39;00m ColumnDataSource, CustomJS, SelectMultiple\n\u001b[1;32m      <a href='vscode-notebook-cell:/Users/arturoherrera/Documents/Indat/cuenta_publica/notebooks/1.0-analisis_exploratorio2022.ipynb#X15sZmlsZQ%3D%3D?line=2'>3</a>\u001b[0m \u001b[39mfrom\u001b[39;00m \u001b[39mbokeh\u001b[39;00m\u001b[39m.\u001b[39;00m\u001b[39mplotting\u001b[39;00m \u001b[39mimport\u001b[39;00m figure\n\u001b[1;32m      <a href='vscode-notebook-cell:/Users/arturoherrera/Documents/Indat/cuenta_publica/notebooks/1.0-analisis_exploratorio2022.ipynb#X15sZmlsZQ%3D%3D?line=3'>4</a>\u001b[0m \u001b[39mfrom\u001b[39;00m \u001b[39mbokeh\u001b[39;00m\u001b[39m.\u001b[39;00m\u001b[39mlayouts\u001b[39;00m \u001b[39mimport\u001b[39;00m row\n",
      "\u001b[0;31mImportError\u001b[0m: cannot import name 'SelectMultiple' from 'bokeh.models' (/Users/arturoherrera/anaconda3/envs/cuenta_publica/lib/python3.9/site-packages/bokeh/models/__init__.py)"
     ]
    }
   ],
   "source": [
    "from bokeh.io import output_notebook, push_notebook, show\n",
    "from bokeh.models import ColumnDataSource, CustomJS, SelectMultiple\n",
    "from bokeh.plotting import figure\n",
    "from bokeh.layouts import row\n",
    "from bokeh.palettes import Category20\n",
    "output_notebook()\n",
    "\n",
    "# Lista de desc_ramo\n",
    "ramos = pef_df['desc_ramo'].unique().tolist()\n",
    "\n",
    "# Ramo seleccionado\n",
    "ramo = ramos[0]\n",
    "\n",
    "# Subconjunto del DataFrame para el ramo seleccionado\n",
    "df_ramo = pef_df[pef_df['desc_ramo'] == ramo]\n",
    "\n",
    "# Lista de desc_ur para el ramo seleccionado\n",
    "desc_ur_list = df_ramo['desc_ur'].unique().tolist()\n",
    "\n",
    "# DataFrame agrupado por desc_ur\n",
    "grouped_df = df_ramo.groupby('desc_ur').agg(\n",
    "    monto_aprobado=('monto_aprobado', 'sum'),\n",
    "    monto_pagado=('monto_pagado', 'sum')\n",
    ").sort_values('monto_aprobado', ascending=True)\n",
    "\n",
    "# Convertimos el DataFrame a un ColumnDataSource de Bokeh\n",
    "source = ColumnDataSource(data=grouped_df)\n",
    "\n",
    "# Creamos una figura\n",
    "p = figure(y_range=grouped_df.index.tolist(), plot_height=800, plot_width=800, \n",
    "           title=f\"{ramo} - Comparación entre el Monto Aprobado y el Monto Pagado\", \n",
    "           x_range=(0, grouped_df[['monto_aprobado', 'monto_pagado']].max().max()*1.1))\n",
    "\n",
    "# Añadimos las barras al gráfico\n",
    "for i, desc_ur in enumerate(desc_ur_list):\n",
    "    source_i = ColumnDataSource(data=grouped_df.loc[grouped_df.index == desc_ur])\n",
    "    p.hbar_stack(['monto_aprobado', 'monto_pagado'], y='desc_ur', height=0.8, color=Category20[20][i*2:i*2+2], \n",
    "                 source=source_i, legend_label=desc_ur)\n",
    "\n",
    "# Creamos el widget SelectMultiple\n",
    "select = SelectMultiple(options=desc_ur_list, value=desc_ur_list, height=400)\n",
    "\n",
    "# Código JavaScript que se ejecutará cuando cambie el valor del SelectMultiple\n",
    "callback = CustomJS(args=dict(p=p, select=select, source=source, df=grouped_df, desc_ur_list=desc_ur_list), code=\"\"\"\n",
    "    // Obtenemos las desc_ur seleccionadas\n",
    "    var selected_ur = select.value;\n",
    "    \n",
    "    // Obtenemos los datos originales\n",
    "    var data = df.data;\n",
    "    \n",
    "    // Filtramos los datos\n",
    "    var new_data = {};\n",
    "    for (var key in data) {\n",
    "        new_data[key] = [];\n",
    "        for (var i = 0; i < data['index'].length; i++) {\n",
    "            if (selected_ur.includes(data['index'][i])) {\n",
    "                new_data[key].push(data[key][i]);\n",
    "            }\n",
    "        }\n",
    "    }\n",
    "    \n",
    "    // Actualizamos el source\n",
    "    source.data = new_data;\n",
    "    \n",
    "    // Actualizamos el y_range de la figura\n",
    "    p.y_range.factors = new_data['index'];\n",
    "    \n",
    "    // Actualizamos el x_range de la figura\n",
    "    var max_val = Math.max(...new_data['monto_aprobado'], ...new_data['monto_pagado']);\n",
    "    p.x_range.start = 0;\n",
    "    p.x_range.end = max_val * 1.1;\n",
    "\"\"\")\n",
    "\n",
    "# Asociamos el callback al SelectMultiple\n",
    "select.js_on_change('value', callback)\n",
    "\n",
    "# Mostramos el gráfico y el widget\n",
    "layout = row(p, select)\n",
    "show(layout, notebook_handle=True)\n"
   ]
  },
  {
   "cell_type": "code",
   "execution_count": 19,
   "metadata": {},
   "outputs": [
    {
     "name": "stdout",
     "output_type": "stream",
     "text": [
      "Collecting bokeh\n",
      "  Downloading bokeh-3.2.1-py3-none-any.whl (7.8 MB)\n",
      "\u001b[K     |████████████████████████████████| 7.8 MB 1.6 MB/s eta 0:00:01\n",
      "\u001b[?25hRequirement already satisfied: pandas>=1.2 in /Users/arturoherrera/anaconda3/envs/cuenta_publica/lib/python3.9/site-packages (from bokeh) (1.4.2)\n",
      "Requirement already satisfied: tornado>=5.1 in /Users/arturoherrera/anaconda3/envs/cuenta_publica/lib/python3.9/site-packages (from bokeh) (6.1)\n",
      "Collecting contourpy>=1\n",
      "  Using cached contourpy-1.1.0-cp39-cp39-macosx_11_0_arm64.whl (229 kB)\n",
      "Collecting PyYAML>=3.10\n",
      "  Using cached PyYAML-6.0.1-cp39-cp39-macosx_11_0_arm64.whl (174 kB)\n",
      "Collecting xyzservices>=2021.09.1\n",
      "  Downloading xyzservices-2023.7.0-py3-none-any.whl (56 kB)\n",
      "\u001b[K     |████████████████████████████████| 56 kB 4.2 MB/s eta 0:00:01\n",
      "\u001b[?25hRequirement already satisfied: Jinja2>=2.9 in /Users/arturoherrera/anaconda3/envs/cuenta_publica/lib/python3.9/site-packages (from bokeh) (3.1.2)\n",
      "Requirement already satisfied: packaging>=16.8 in /Users/arturoherrera/anaconda3/envs/cuenta_publica/lib/python3.9/site-packages (from bokeh) (21.3)\n",
      "Requirement already satisfied: pillow>=7.1.0 in /Users/arturoherrera/anaconda3/envs/cuenta_publica/lib/python3.9/site-packages (from bokeh) (9.0.1)\n",
      "Requirement already satisfied: numpy>=1.16 in /Users/arturoherrera/anaconda3/envs/cuenta_publica/lib/python3.9/site-packages (from bokeh) (1.22.3)\n",
      "Requirement already satisfied: MarkupSafe>=2.0 in /Users/arturoherrera/anaconda3/envs/cuenta_publica/lib/python3.9/site-packages (from Jinja2>=2.9->bokeh) (2.1.1)\n",
      "Requirement already satisfied: pyparsing!=3.0.5,>=2.0.2 in /Users/arturoherrera/anaconda3/envs/cuenta_publica/lib/python3.9/site-packages (from packaging>=16.8->bokeh) (3.0.4)\n",
      "Requirement already satisfied: python-dateutil>=2.8.1 in /Users/arturoherrera/anaconda3/envs/cuenta_publica/lib/python3.9/site-packages (from pandas>=1.2->bokeh) (2.8.2)\n",
      "Requirement already satisfied: pytz>=2020.1 in /Users/arturoherrera/anaconda3/envs/cuenta_publica/lib/python3.9/site-packages (from pandas>=1.2->bokeh) (2022.1)\n",
      "Requirement already satisfied: six>=1.5 in /Users/arturoherrera/anaconda3/envs/cuenta_publica/lib/python3.9/site-packages (from python-dateutil>=2.8.1->pandas>=1.2->bokeh) (1.16.0)\n",
      "Installing collected packages: xyzservices, PyYAML, contourpy, bokeh\n",
      "Successfully installed PyYAML-6.0.1 bokeh-3.2.1 contourpy-1.1.0 xyzservices-2023.7.0\n",
      "Note: you may need to restart the kernel to use updated packages.\n"
     ]
    }
   ],
   "source": [
    "pip install bokeh"
   ]
  },
  {
   "cell_type": "code",
   "execution_count": null,
   "metadata": {},
   "outputs": [],
   "source": []
  }
 ],
 "metadata": {
  "kernelspec": {
   "display_name": "cuenta_publica",
   "language": "python",
   "name": "python3"
  },
  "language_info": {
   "codemirror_mode": {
    "name": "ipython",
    "version": 3
   },
   "file_extension": ".py",
   "mimetype": "text/x-python",
   "name": "python",
   "nbconvert_exporter": "python",
   "pygments_lexer": "ipython3",
   "version": "3.9.12"
  },
  "orig_nbformat": 4
 },
 "nbformat": 4,
 "nbformat_minor": 2
}
